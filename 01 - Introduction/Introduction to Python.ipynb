{
 "cells": [
  {
   "cell_type": "markdown",
   "metadata": {},
   "source": [
    "# Introduction\n",
    "\n",
    "* Why do we care about Python?\n",
    "* Introspection (what is this thing in my code?)\n",
    "* Everything is an Objective\n",
    "* Scaler Types in Python\n",
    "* Control flow\n",
    "* Data structures - lists, dictionaries\n",
    "* Functions\n",
    "* Working with text files"
   ]
  },
  {
   "cell_type": "markdown",
   "metadata": {},
   "source": [
    "## Why do we care about Python?\n",
    "\n",
    "**Federalist papers**\n",
    "\n",
    "Alexander Hamilton, James Madison, or John Jay?  For more than 150 years, historians argued over the authorship of the 12 essays in _The Federalist Papers_. It wasn't until 1963 that the mystery was solved by Frederick Mosteller of Harvard University and David Wallace of the University of Chicago. [Nabokov's Favorite Word Is _Mauve_ by Ben Blatt]\n",
    "\n",
    "Full text of _The Federalist Papers_ is available at http://www.gutenberg.org/ebooks/1404"
   ]
  },
  {
   "cell_type": "code",
   "execution_count": 14,
   "metadata": {},
   "outputs": [],
   "source": [
    "# Path to our data file (source file)\n",
    "source_file_name = 'federalist_papers.txt'\n",
    "\n",
    "fed_papers_file = open(source_file_name, 'r')\n",
    "\n",
    "\n",
    "# We can read all text at once\n",
    "all_text = fed_papers_file.read()\n",
    "#print(all_text)"
   ]
  },
  {
   "cell_type": "code",
   "execution_count": 15,
   "metadata": {},
   "outputs": [],
   "source": [
    "# There are a couple of ways we could find frequencies of the words \"while\" and \"whilst\".  \n",
    "# For now, let's convert our chunk of text into a list of words\n",
    "\n",
    "word_list = all_text.split(\" \")"
   ]
  },
  {
   "cell_type": "code",
   "execution_count": 16,
   "metadata": {},
   "outputs": [],
   "source": [
    "# Will this work?  Are words always separated by spaces?\n",
    "# While there are better methods for dealing with text parsing (for example, nltk toolkit)\n",
    "# for now we'll take care of things in a quick and dirty way\n",
    "\n",
    "punctuation_marks = ['!','.', ',', ':', ';', '?', '-', '\\n']\n",
    "for pm in punctuation_marks:\n",
    "    all_text = all_text.replace(pm, ' ')\n",
    "                     \n",
    "# print(all_text)"
   ]
  },
  {
   "cell_type": "code",
   "execution_count": 17,
   "metadata": {},
   "outputs": [],
   "source": [
    "# It would be a good idea to convert everything to lower case before we do anything else\n",
    "all_text = all_text.lower()\n",
    "\n",
    "# Now let's build a list of words\n",
    "word_list = all_text.split(\" \")\n",
    "# print(word_list)"
   ]
  },
  {
   "cell_type": "code",
   "execution_count": 18,
   "metadata": {},
   "outputs": [
    {
     "name": "stdout",
     "output_type": "stream",
     "text": [
      "The frequency of 'while' is: 39\n",
      "The frequency of 'whilst' is: 24\n"
     ]
    }
   ],
   "source": [
    "# Now, let's find the frequency for \"while\"\n",
    "\n",
    "freq_while = 0\n",
    "freq_whilst = 0\n",
    "for word in word_list:\n",
    "    if word == \"while\":\n",
    "        freq_while = freq_while + 1\n",
    "    if word == \"whilst\":\n",
    "        freq_whilst = freq_whilst + 1\n",
    "        \n",
    "print(\"The frequency of 'while' is: \" + str(freq_while))\n",
    "print(\"The frequency of 'whilst' is: \" + str(freq_whilst))"
   ]
  },
  {
   "cell_type": "markdown",
   "metadata": {},
   "source": [
    "### Question: Why do we care about the frequency of words in text? What can we do with it?"
   ]
  },
  {
   "cell_type": "markdown",
   "metadata": {},
   "source": [
    "## Introspection\n",
    "In IPython or Jupyter Notebook\n",
    "Using a question mark (?) before or after a variable will display some general information about the object."
   ]
  },
  {
   "cell_type": "code",
   "execution_count": 1,
   "metadata": {},
   "outputs": [],
   "source": [
    "b = [1,2,3]\n",
    "dir(b)\n",
    "b?"
   ]
  },
  {
   "cell_type": "markdown",
   "metadata": {},
   "source": [
    "## Everything is an Object\n",
    "An important characteristic of Python is its *object model*.\n",
    "\n",
    "Every number, string, data structure, function, class, module, and so on in Python is an Object. Each Python object has an associated type (i.e. *integer*, *string*, or *function*) and internal data.\n",
    "\n",
    "In practice, this makes the language very flexible. Even functions can be treated like any other object."
   ]
  },
  {
   "cell_type": "code",
   "execution_count": 10,
   "metadata": {},
   "outputs": [
    {
     "name": "stdout",
     "output_type": "stream",
     "text": [
      "Hellow World!\n",
      "Prints the values to a stream, or to sys.stdout by default.\n",
      "\n",
      "  sep\n",
      "    string inserted between values, default a space.\n",
      "  end\n",
      "    string appended after the last value, default a newline.\n",
      "  file\n",
      "    a file-like object (stream); defaults to the current sys.stdout.\n",
      "  flush\n",
      "    whether to forcibly flush the stream.\n",
      "\n",
      "<built-in function print> is an object of type <class 'builtin_function_or_method'>\n"
     ]
    }
   ],
   "source": [
    "print(\"Hellow World!\") # Print() is a very useful build-in function in Python\n",
    "print(print.__doc__) # But it's also an object, and it has a docstring (documentation string)\n",
    "print()\n",
    "print(print, 'is an object of type', type(print))"
   ]
  },
  {
   "cell_type": "markdown",
   "metadata": {},
   "source": [
    "Each Python object exists in the Python interpreter in its own \"box\". When assigning a variable or name in Python, we are actually creating a *reference* to the object shown on the righthand side of the equal sign. We can call the lefthand side as *variable name*"
   ]
  },
  {
   "cell_type": "code",
   "execution_count": 13,
   "metadata": {},
   "outputs": [
    {
     "name": "stdout",
     "output_type": "stream",
     "text": [
      "[1, 2, 3] [1, 2, 3]\n",
      " var a is [1, 2, 3, 4] \n",
      " var b is [1, 2, 3, 4]\n"
     ]
    }
   ],
   "source": [
    "a = [1,2,3] # This means the list [1,2,3] is assigned to the variable a; It's different from the mathematical equation.\n",
    "b = a # We can create a new variable b and assign it to the same object as a, not the value of a.\n",
    "print(a, b)\n",
    "a.append(4) # We can change the object a is pointing to, and b will also be changed.\n",
    "print(\" var a is\", a, \"\\n var b is\", b)"
   ]
  },
  {
   "cell_type": "code",
   "execution_count": 14,
   "metadata": {},
   "outputs": [
    {
     "name": "stdout",
     "output_type": "stream",
     "text": [
      " var a is [1, 2, 3, 4] \n",
      " var b is [1, 2, 3]\n"
     ]
    }
   ],
   "source": [
    "a = [1,2,3]\n",
    "b = a.copy() # We can create a new object b that is a copy of a.\n",
    "# b = a[:]\n",
    "# b = [1,2,3]\n",
    "a.append(4)\n",
    "print(\" var a is\", a, \"\\n var b is\", b)"
   ]
  },
  {
   "cell_type": "markdown",
   "metadata": {},
   "source": [
    "When we pass objects as arguments to a function (or object), new local variables are created referencing the original objects without copying.\n",
    "\n",
    "However, if we assign a new object to a variable inside a function, this operation will not overwrite the variable of the same name in the **scope** outside of the function (the **parent scope**). This is particular helpful when we need to alter the internals of a mutable (changeable) argument."
   ]
  },
  {
   "cell_type": "code",
   "execution_count": 18,
   "metadata": {},
   "outputs": [
    {
     "name": "stdout",
     "output_type": "stream",
     "text": [
      "inside the function, data is 123abc\n",
      "[1, 2, 3, 4]\n"
     ]
    }
   ],
   "source": [
    "def append_element(target_list, element):\n",
    "    data = '123abc'\n",
    "    target_list.append(element)\n",
    "    print(\"inside the function, data is\", data)\n",
    "\n",
    "data = [1,2,3]\n",
    "append_element(data, 4)\n",
    "print(data)"
   ]
  },
  {
   "cell_type": "markdown",
   "metadata": {},
   "source": [
    "### Strong Types, Dynamic reference\n",
    "As the example shown earlier, variables in Python have no inherent type associated with them. A variable can refer to different types of object simply by doing an assignment operation. Variables are just names for objects within a particular scope (**namespace**), the type information is stored in the object itself. Python is in fact a strongly typed language. Every object has a specific type (class), and implicit conversions will occur only in certain permitted circumstances. \n",
    "\n",
    "Since Python 3.5, type annotation has been supported in Python. However, the Python runtime does not enforce function and variable type annotations. They can be used by third party tools such as type checkers, IDEs, linters, etc."
   ]
  },
  {
   "cell_type": "code",
   "execution_count": 19,
   "metadata": {},
   "outputs": [
    {
     "name": "stdout",
     "output_type": "stream",
     "text": [
      "<class 'int'>\n",
      "<class 'str'>\n"
     ]
    },
    {
     "ename": "TypeError",
     "evalue": "can only concatenate str (not \"int\") to str",
     "output_type": "error",
     "traceback": [
      "\u001b[1;31m---------------------------------------------------------------------------\u001b[0m",
      "\u001b[1;31mTypeError\u001b[0m                                 Traceback (most recent call last)",
      "Cell \u001b[1;32mIn[19], line 6\u001b[0m\n\u001b[0;32m      4\u001b[0m a \u001b[38;5;241m=\u001b[39m \u001b[38;5;124m'\u001b[39m\u001b[38;5;124m5\u001b[39m\u001b[38;5;124m'\u001b[39m\n\u001b[0;32m      5\u001b[0m \u001b[38;5;28mprint\u001b[39m(\u001b[38;5;28mtype\u001b[39m(a))\n\u001b[1;32m----> 6\u001b[0m c \u001b[38;5;241m=\u001b[39m \u001b[43ma\u001b[49m\u001b[43m \u001b[49m\u001b[38;5;241;43m+\u001b[39;49m\u001b[43m \u001b[49m\u001b[43mb\u001b[49m \u001b[38;5;66;03m# This will raise an error because a is a string and b is an integer.\u001b[39;00m\n",
      "\u001b[1;31mTypeError\u001b[0m: can only concatenate str (not \"int\") to str"
     ]
    }
   ],
   "source": [
    "a = 5\n",
    "print(type(a))\n",
    "b = 6\n",
    "a = '5'\n",
    "print(type(a))\n",
    "c = a + b # This will raise an error because a is a string and b is an integer."
   ]
  },
  {
   "cell_type": "code",
   "execution_count": 20,
   "metadata": {},
   "outputs": [
    {
     "name": "stdout",
     "output_type": "stream",
     "text": [
      "False\n",
      "On the moon, you would weigh 83.0 kilograms.\n",
      "On the moon, you would weigh 83.0 kilograms.\n"
     ]
    }
   ],
   "source": [
    "def moon_weight(earth_weight: float) -> str:\n",
    "    return f'On the moon, you would weigh {earth_weight * 0.166} kilograms.'\n",
    "\n",
    "a = 500 \n",
    "b = 500.0\n",
    "print(isinstance(a, float))\n",
    "print(moon_weight(a)) # As you can see, the type annotation is not enforced. This is also one of the permitted circumstances when implicit type conversion is allowed. \n",
    "print(moon_weight(b))"
   ]
  },
  {
   "cell_type": "markdown",
   "metadata": {},
   "source": [
    "**Variable/Reference/Memory Allocation – a metaphor**\n",
    "\n",
    "\n",
    "<img src=\"images/variables/address.jpeg\" />\n",
    "\n",
    "The address _5818 Phillips Avenue, Pittsburgh, PA 15217_ maps to georgraphic coordinates of _40.432392,-79.922378_ -- it is essentially a label for a specific latitude and longitude."
   ]
  },
  {
   "cell_type": "markdown",
   "metadata": {},
   "source": [
    "## Scalar Types in Python\n",
    "Python has a small set of basic built-in types for handling numerical data, strings, Boolean(```True``` or ```False```) values, and dates and time. Sometimes they are referred to as \"scalar types\" or \"primitive types\". These types form the foundation for more complex data structures and are essential for various operations in Python."
   ]
  },
  {
   "cell_type": "markdown",
   "metadata": {},
   "source": [
    "#### 1. Numeric Types (int, float, complex)\n",
    "There are three distinct numeric types: integers, floating point numbers, and complex numbers. Integers have unlimited precision. Floating point numbers are usually implemented using double in C. Complex numbers have a real and imaginary part, which are each a floating point number.\n",
    "\n",
    "We can do all kinds of mathematical operations with numeric types. Some operations may also result in implicit type conversions."
   ]
  },
  {
   "cell_type": "code",
   "execution_count": 21,
   "metadata": {},
   "outputs": [
    {
     "name": "stdout",
     "output_type": "stream",
     "text": [
      "<class 'int'> <class 'float'> <class 'complex'> <class 'complex'>\n",
      "3242596190163029596129860979106568323279131858298161344066623529065778390516526478686855027241549300555946316426619425061822581289518240377071502256246142957757443824825046310743893472518303194054246029920713339734223265261217366983574939737533624921462696225587935364091859508699201727550519584168948287848093025625836600318637082375701800231810064706152386257269304928539424447266816\n",
      "sys.float_info(max=1.7976931348623157e+308, max_exp=1024, max_10_exp=308, min=2.2250738585072014e-308, min_exp=-1021, min_10_exp=-307, dig=15, mant_dig=53, epsilon=2.220446049250313e-16, radix=2, rounds=1)\n"
     ]
    }
   ],
   "source": [
    "a = 172 # this is an integer type\n",
    "b = 1.0 # this is a float type\n",
    "c = 1j # this is a complex number type. Appending 'j' or 'J' to a numeric literal yields an imaginary number (a complex number with a zero real part)\n",
    "c_ = 1 + 2J # This is another way to create a complex number\n",
    "\n",
    "print(type(a), type(b), type(c), type(c_))\n",
    "\n",
    "# An int can store arbitrarily large numbers\n",
    "aa = a ** a\n",
    "print (aa)\n",
    "\n",
    "# We can check the percision and internal representation of float using the sys module\n",
    "# A module allows you to logically organize your Python code. Grouping related code into a module\n",
    "# makes the code easier to understand and use.\n",
    "# Simply, a module is a file consisting of Python code. A module can define functions, classes and variables.\n",
    "# A module can also include runnable code.\n",
    "import sys # We are importing a module called sys\n",
    "print(sys.float_info)"
   ]
  },
  {
   "cell_type": "code",
   "execution_count": 23,
   "metadata": {
    "collapsed": true,
    "jupyter": {
     "outputs_hidden": true
    }
   },
   "outputs": [
    {
     "name": "stdout",
     "output_type": "stream",
     "text": [
      "x + y = 15\n",
      "x - y = -5\n",
      "x * y = 50\n",
      "x / y = 0.5\n",
      "x ** y = 9765625\n",
      "x // y = 0\n",
      "x % y = 5\n"
     ]
    }
   ],
   "source": [
    "# Mathematical Operations Examples\n",
    "x = 5\n",
    "y = 10\n",
    "print(f'x + y = {x + y}') # addition\n",
    "print(f'x - y = {x - y}') # subtraction\n",
    "print(f'x * y = {x * y}') # multiplication\n",
    "print(f'x / y = {x / y}') # division -> float\n",
    "print(f'x ** y = {x ** y}') # x to the power of y\n",
    "print(f'x // y = {x // y}') # floor division -> integer\n",
    "print(f'x % y = {x % y}') # modulo -> remainder of the division"
   ]
  },
  {
   "cell_type": "markdown",
   "metadata": {},
   "source": [
    "#### 2. String Type (str)\n",
    "Python strings are immutable, meaning that you cannot change a string like in other programming language."
   ]
  },
  {
   "cell_type": "code",
   "execution_count": 26,
   "metadata": {
    "collapsed": true,
    "jupyter": {
     "outputs_hidden": true
    }
   },
   "outputs": [
    {
     "name": "stdout",
     "output_type": "stream",
     "text": [
      "4\n"
     ]
    }
   ],
   "source": [
    "# we can use single or double quotes to define a string\n",
    "name = \"Bob\"\n",
    "car = 'Ford Pinto'\n",
    "\n",
    "# multiline string\n",
    "address = \"\"\"\n",
    "5818 Phillips Avenue, \n",
    "Pittsburgh, \n",
    "PA 15217\n",
    "\"\"\"\n",
    "\n",
    "print(address.count('\\n')) # there are 4 lines in the address"
   ]
  },
  {
   "cell_type": "code",
   "execution_count": 29,
   "metadata": {},
   "outputs": [
    {
     "name": "stdout",
     "output_type": "stream",
     "text": [
      "John Doe\n"
     ]
    }
   ],
   "source": [
    "# Combining strings\n",
    "full_name = 'John' + ' ' + 'Doe' # => 'John Doe'\n",
    "print(full_name)"
   ]
  },
  {
   "cell_type": "markdown",
   "metadata": {},
   "source": [
    "Strings are a sequence of Unicode characters and therefore can be treated like other sequences, for instance slicing [0:4]"
   ]
  },
  {
   "cell_type": "code",
   "execution_count": 31,
   "metadata": {},
   "outputs": [
    {
     "name": "stdout",
     "output_type": "stream",
     "text": [
      "J\n",
      "e\n",
      "John\n"
     ]
    },
    {
     "ename": "TypeError",
     "evalue": "'str' object does not support item assignment",
     "output_type": "error",
     "traceback": [
      "\u001b[1;31m---------------------------------------------------------------------------\u001b[0m",
      "\u001b[1;31mTypeError\u001b[0m                                 Traceback (most recent call last)",
      "Cell \u001b[1;32mIn[31], line 4\u001b[0m\n\u001b[0;32m      2\u001b[0m \u001b[38;5;28mprint\u001b[39m(full_name[\u001b[38;5;241m-\u001b[39m\u001b[38;5;241m1\u001b[39m]) \u001b[38;5;66;03m# => 'e'\u001b[39;00m\n\u001b[0;32m      3\u001b[0m \u001b[38;5;28mprint\u001b[39m(full_name[:\u001b[38;5;241m4\u001b[39m]) \u001b[38;5;66;03m# => 'John'\u001b[39;00m\n\u001b[1;32m----> 4\u001b[0m \u001b[43mfull_name\u001b[49m\u001b[43m[\u001b[49m\u001b[38;5;241;43m1\u001b[39;49m\u001b[43m]\u001b[49m \u001b[38;5;241m=\u001b[39m \u001b[38;5;124m'\u001b[39m\u001b[38;5;124m0\u001b[39m\u001b[38;5;124m'\u001b[39m \u001b[38;5;66;03m# This will raise an error because strings are immutable\u001b[39;00m\n",
      "\u001b[1;31mTypeError\u001b[0m: 'str' object does not support item assignment"
     ]
    }
   ],
   "source": [
    "print(full_name[0]) # => 'J'\n",
    "print(full_name[-1]) # => 'e'\n",
    "print(full_name[:4]) # => 'John'\n",
    "full_name[1] = '0' # This will raise an error because strings are immutable"
   ]
  },
  {
   "cell_type": "markdown",
   "metadata": {},
   "source": [
    "Sometimes strings may need to contain certain special characters, we will be using \"\\\" as the *escape character* to specify special characters like newline \"\\n\" or Unicode characters. \n",
    "\n",
    "\"\\\" itself is also a special character."
   ]
  },
  {
   "cell_type": "code",
   "execution_count": 35,
   "metadata": {},
   "outputs": [
    {
     "name": "stdout",
     "output_type": "stream",
     "text": [
      "backslash\\; \n",
      "Unicode characters like: §, ©, ‰;\n",
      "or emojis: ☺\n",
      "backslash\\; \\nUnicode characters like: \\u00A7, \\u00A9, \\u2030;\\nor emojis: \\u263A\n"
     ]
    }
   ],
   "source": [
    "Special_char = \"backslash\\\\; \\nUnicode characters like: \\u00A7, \\u00A9, \\u2030;\\nor emojis: \\u263A\"\n",
    "print(Special_char)\n",
    "\n",
    "# if you need to use a lot of special characters (i.e. \"\\\"), you can use a raw string.\n",
    "raw_string = r\"backslash\\; \\nUnicode characters like: \\u00A7, \\u00A9, \\u2030;\\nor emojis: \\u263A\"\n",
    "print(raw_string)"
   ]
  },
  {
   "cell_type": "markdown",
   "metadata": {},
   "source": [
    "In Python 3.6, a new feature named *f-string* (short for *formatted string literals*) was introduced. It allows for a very convenient way to create formatted strings. \n",
    "\n",
    "To use f-string, simply write the \"f\" immediately preceding a string. Within the string, enclose Python expressions in curly braces to subsitute the value of the expression into the formatted string. We can also add format specifiers after each expression. To learn more, consult the [official Python documentation](https://docs.python.org/3/reference/lexical_analysis.html#f-strings)"
   ]
  },
  {
   "cell_type": "code",
   "execution_count": 36,
   "metadata": {},
   "outputs": [
    {
     "name": "stdout",
     "output_type": "stream",
     "text": [
      "Kobe shot 28-for-46 (0.61 percent) from the field that game.\n"
     ]
    }
   ],
   "source": [
    "FG_attempts = 46\n",
    "FG_made = 28\n",
    "print(f\"Kobe shot {FG_made}-for-{FG_attempts} ({FG_made / FG_attempts:.2f} percent) from the field that game.\")"
   ]
  },
  {
   "cell_type": "markdown",
   "metadata": {},
   "source": [
    "#### 3. Booleans (bool)"
   ]
  },
  {
   "cell_type": "code",
   "execution_count": 7,
   "metadata": {
    "collapsed": true,
    "jupyter": {
     "outputs_hidden": true
    }
   },
   "outputs": [],
   "source": [
    "# Boolean variables\n",
    "x = True\n",
    "y = False"
   ]
  },
  {
   "cell_type": "markdown",
   "metadata": {},
   "source": [
    "**Boolean Truth Table**\n",
    "\n",
    "<img src='images/variables/truth_table.png' />"
   ]
  },
  {
   "cell_type": "code",
   "execution_count": null,
   "metadata": {},
   "outputs": [],
   "source": [
    "# logical operators\n",
    "print(x and y) # => False, same as x & y\n",
    "print(x or y) # => True, same as x | y\n",
    "print(x and not y) # => True, same as x & ~y\n",
    "print(not x) # => False, same as ~x\n",
    "print(x is True) # => True"
   ]
  },
  {
   "cell_type": "code",
   "execution_count": null,
   "metadata": {},
   "outputs": [],
   "source": [
    "# none is a special constant in Python that represents the absence of a value or a null value\n",
    "z = None\n",
    "\n",
    "print(z is None) # => True\n",
    "if z:\n",
    "    print('z is not None')\n",
    "else:\n",
    "    print('z is None')"
   ]
  },
  {
   "cell_type": "markdown",
   "metadata": {},
   "source": [
    "#### 4. Typecasting: converting from one data type to another"
   ]
  },
  {
   "cell_type": "code",
   "execution_count": null,
   "metadata": {
    "collapsed": true,
    "jupyter": {
     "outputs_hidden": true
    }
   },
   "outputs": [],
   "source": [
    "x1 = 5\n",
    "y = str(x1) # Convert from integer to string\n",
    "\n",
    "x2 = '5'\n",
    "y = int(x2) # Convert from string to integer\n",
    "\n",
    "x = '5'\n",
    "y = float(x) # Convert from a string to a decimal number"
   ]
  },
  {
   "cell_type": "markdown",
   "metadata": {},
   "source": [
    "**Exercise: Pythagorean Theorem**\n",
    "\n",
    "This program accepts two input values from the user, one for each\n",
    "side of a right-angle triangle.  The program uses the Pythagorean\n",
    "theorem (c^2 = a^2 + b^2) to calculate the length of the triangle's\n",
    "hypotenuse.\n"
   ]
  },
  {
   "cell_type": "code",
   "execution_count": 22,
   "metadata": {},
   "outputs": [],
   "source": [
    "import math"
   ]
  },
  {
   "cell_type": "code",
   "execution_count": 23,
   "metadata": {},
   "outputs": [
    {
     "name": "stdout",
     "output_type": "stream",
     "text": [
      "Enter length of side A  5\n"
     ]
    },
    {
     "name": "stdout",
     "output_type": "stream",
     "text": [
      "Side A: 5\n"
     ]
    }
   ],
   "source": [
    "# Get user input for Side A\n",
    "inputSideA = input(\"Enter length of side A \")\n",
    "\n",
    "print(\"Side A: \" + str(inputSideA))"
   ]
  },
  {
   "cell_type": "code",
   "execution_count": 24,
   "metadata": {},
   "outputs": [
    {
     "name": "stdout",
     "output_type": "stream",
     "text": [
      "Enter length of side B  6\n"
     ]
    },
    {
     "name": "stdout",
     "output_type": "stream",
     "text": [
      "Side B: 6\n"
     ]
    }
   ],
   "source": [
    "# Get user input for Side B\n",
    "inputSideB = input(\"Enter length of side B \")\n",
    "\n",
    "print(\"Side B: \" + str(inputSideB))"
   ]
  },
  {
   "cell_type": "code",
   "execution_count": 25,
   "metadata": {},
   "outputs": [],
   "source": [
    "# Values entered through user input are stored as strings (String data type).  We need to\n",
    "# convert sides' lengths from String to float\n",
    "sideA = float(inputSideA)\n",
    "sideB = float(inputSideB)"
   ]
  },
  {
   "cell_type": "code",
   "execution_count": 26,
   "metadata": {},
   "outputs": [],
   "source": [
    "\n",
    "# Calculate square of side A\n",
    "# Note that ** (double asterisk) is an exponent operand.  It performs exponential (power) calculation on operators\n",
    "squareSideA = sideA ** 2\n",
    "\n",
    "# Calculate square of side B\n",
    "squareSideB = sideB ** 2"
   ]
  },
  {
   "cell_type": "code",
   "execution_count": 27,
   "metadata": {},
   "outputs": [],
   "source": [
    "# Use Pythagorean theorem to calculate the length of the triangle's hypotenuse.\n",
    "# math.sqrt(a) function calculates the square root of the argument \"a\"\n",
    "def hypotenuse(squareA: int, squareB: int):\n",
    "    return math.sqrt(squareA + squareB)\n"
   ]
  },
  {
   "cell_type": "code",
   "execution_count": 28,
   "metadata": {
    "scrolled": true
   },
   "outputs": [
    {
     "name": "stdout",
     "output_type": "stream",
     "text": [
      "Given that side A is 5.0 and side B is 6.0, the hypotenuse is 7.810249675906654\n"
     ]
    }
   ],
   "source": [
    "# Print out the results\n",
    "print(f\"Given that side A is {sideA} and side B is {sideB}, the hypotenuse is {hypotenuse(squareSideA, squareSideB)}\")"
   ]
  },
  {
   "cell_type": "code",
   "execution_count": 30,
   "metadata": {},
   "outputs": [
    {
     "name": "stdout",
     "output_type": "stream",
     "text": [
      "Insert a a1\n"
     ]
    },
    {
     "name": "stdout",
     "output_type": "stream",
     "text": [
      "not digit\n"
     ]
    }
   ],
   "source": [
    "z = input(\"Insert a\")\n",
    "if(str(z).isdigit()):\n",
    "    print(\"IS DIGIT\")\n",
    "else:\n",
    "    print(\"not digit\")"
   ]
  },
  {
   "cell_type": "markdown",
   "metadata": {},
   "source": [
    "## Challenge\n",
    "\n",
    "Modify the program to accept input for the lengths of one adjacent side and the hypotenuse of a right triangle. Calculate the second adjacent side."
   ]
  },
  {
   "cell_type": "markdown",
   "metadata": {},
   "source": [
    "**Step 1:** Get user input for Side A"
   ]
  },
  {
   "cell_type": "code",
   "execution_count": null,
   "metadata": {},
   "outputs": [],
   "source": [
    "# Step 1 code\n",
    "inputSideA = input(\"Enter length of side A \")\n",
    "\n",
    "print(\"Side A: \" + str(inputSideA))"
   ]
  },
  {
   "cell_type": "markdown",
   "metadata": {},
   "source": [
    "**Step 2:** Get user input for Hypothenuse"
   ]
  },
  {
   "cell_type": "code",
   "execution_count": null,
   "metadata": {
    "collapsed": true,
    "jupyter": {
     "outputs_hidden": true
    }
   },
   "outputs": [],
   "source": [
    "# Write Step 2 code here\n"
   ]
  },
  {
   "cell_type": "markdown",
   "metadata": {},
   "source": [
    "**Step 3:** Remember that values entered through user input are stored as strings (String data type).  You will need to convert sides' lengths from _String_ to _float_"
   ]
  },
  {
   "cell_type": "code",
   "execution_count": null,
   "metadata": {
    "collapsed": true,
    "jupyter": {
     "outputs_hidden": true
    }
   },
   "outputs": [],
   "source": [
    "# Write Step 3 code here\n"
   ]
  },
  {
   "cell_type": "markdown",
   "metadata": {},
   "source": [
    "**Step 4:** Calculate squares of side A and of hypothenuse"
   ]
  },
  {
   "cell_type": "code",
   "execution_count": null,
   "metadata": {
    "collapsed": true,
    "jupyter": {
     "outputs_hidden": true
    }
   },
   "outputs": [],
   "source": [
    "# Write Step 4 code here"
   ]
  },
  {
   "cell_type": "markdown",
   "metadata": {},
   "source": [
    "**Step 5:** Use Pythagorean theorem to calculate the length of Side B\n",
    "\n",
    "_Hint: Side B = square root of square of Hypotenuse - square of Side A)_\n"
   ]
  },
  {
   "cell_type": "code",
   "execution_count": null,
   "metadata": {
    "collapsed": true,
    "jupyter": {
     "outputs_hidden": true
    }
   },
   "outputs": [],
   "source": [
    "# Write Step 5 code here"
   ]
  },
  {
   "cell_type": "markdown",
   "metadata": {},
   "source": [
    "**Step 6**: Print results"
   ]
  },
  {
   "cell_type": "code",
   "execution_count": null,
   "metadata": {
    "collapsed": true,
    "jupyter": {
     "outputs_hidden": true
    }
   },
   "outputs": [],
   "source": [
    "# Write Step 6 code here"
   ]
  },
  {
   "cell_type": "code",
   "execution_count": null,
   "metadata": {
    "collapsed": true,
    "jupyter": {
     "outputs_hidden": true
    }
   },
   "outputs": [],
   "source": []
  },
  {
   "cell_type": "code",
   "execution_count": null,
   "metadata": {
    "collapsed": true,
    "jupyter": {
     "outputs_hidden": true
    }
   },
   "outputs": [],
   "source": []
  },
  {
   "cell_type": "code",
   "execution_count": null,
   "metadata": {
    "collapsed": true,
    "jupyter": {
     "outputs_hidden": true
    }
   },
   "outputs": [],
   "source": []
  },
  {
   "cell_type": "code",
   "execution_count": null,
   "metadata": {
    "collapsed": true,
    "jupyter": {
     "outputs_hidden": true
    }
   },
   "outputs": [],
   "source": []
  },
  {
   "cell_type": "code",
   "execution_count": null,
   "metadata": {
    "collapsed": true,
    "jupyter": {
     "outputs_hidden": true
    }
   },
   "outputs": [],
   "source": []
  },
  {
   "cell_type": "markdown",
   "metadata": {},
   "source": [
    "## Pythagorean Theorem Challenge Solution"
   ]
  },
  {
   "cell_type": "code",
   "execution_count": null,
   "metadata": {
    "collapsed": true,
    "jupyter": {
     "outputs_hidden": true
    }
   },
   "outputs": [],
   "source": [
    "# Get user input for Side A\n",
    "inputSideA = input(\"Enter length of side A \")\n",
    "\n",
    "print(\"Side A: \" + str(inputSideA))"
   ]
  },
  {
   "cell_type": "code",
   "execution_count": null,
   "metadata": {
    "collapsed": true,
    "jupyter": {
     "outputs_hidden": true
    }
   },
   "outputs": [],
   "source": [
    "# Get user input for hypotenuse\n",
    "inputHypotenuse = input(\"Enter length of the hypotenuse \")\n",
    "\n",
    "print(\"Hypotenuse: \" + str(inputHypotenuse))"
   ]
  },
  {
   "cell_type": "code",
   "execution_count": null,
   "metadata": {
    "collapsed": true,
    "jupyter": {
     "outputs_hidden": true
    }
   },
   "outputs": [],
   "source": [
    "# Values entered through user input are stored as strings (String data type).  We need to\n",
    "# convert sides' lengths from String to float\n",
    "sideA = float(inputSideA)\n",
    "hypotenuse = float(inputHypotenuse)"
   ]
  },
  {
   "cell_type": "code",
   "execution_count": null,
   "metadata": {
    "collapsed": true,
    "jupyter": {
     "outputs_hidden": true
    }
   },
   "outputs": [],
   "source": [
    "# Calculate square of side A\n",
    "squareSideA = sideA ** 2\n",
    "\n",
    "# Calculate square of hypotenuse\n",
    "squareHypotenuse = hypotenuse ** 2"
   ]
  },
  {
   "cell_type": "code",
   "execution_count": null,
   "metadata": {
    "collapsed": true,
    "jupyter": {
     "outputs_hidden": true
    }
   },
   "outputs": [],
   "source": [
    "# Use Pythagorean theorem to calculate the length of the triangle's other adjacent side.\n",
    "# We know that Math.pow(hypotenuse, 2) = Math.pow(sideA, 2) + Math.pow(sideB, 2)\n",
    "# Therefore Math.pow(sideB, 2) = Math.pow(hypotenuse, 2) - Math.pow(sideA, 2)\n",
    "# Finally, we take a square root of both sides:\n",
    "#sideB = Math.sqrt(Math.pow(hypotenuse, 2) - Math.pow(sideA, 2))\n",
    "\n",
    "sideB = math.sqrt(squareHypotenuse - squareSideA)\n"
   ]
  },
  {
   "cell_type": "code",
   "execution_count": null,
   "metadata": {
    "collapsed": true,
    "jupyter": {
     "outputs_hidden": true
    }
   },
   "outputs": [],
   "source": [
    "# Print out the results\n",
    "print(\"Given that side A is \" + str(sideA) + \" and the hypotenuse is \" + str(hypotenuse) + \", side B is \" + str(sideB))"
   ]
  },
  {
   "cell_type": "code",
   "execution_count": null,
   "metadata": {
    "collapsed": true,
    "jupyter": {
     "outputs_hidden": true
    }
   },
   "outputs": [],
   "source": []
  },
  {
   "cell_type": "code",
   "execution_count": null,
   "metadata": {
    "collapsed": true,
    "jupyter": {
     "outputs_hidden": true
    }
   },
   "outputs": [],
   "source": []
  },
  {
   "cell_type": "code",
   "execution_count": null,
   "metadata": {
    "collapsed": true,
    "jupyter": {
     "outputs_hidden": true
    }
   },
   "outputs": [],
   "source": []
  },
  {
   "cell_type": "markdown",
   "metadata": {},
   "source": [
    "## Control Flow\n",
    "Python uses serveral built-in keywords for conditional logic, loops, and other standard control flow concepts found in other programming languages."
   ]
  },
  {
   "cell_type": "markdown",
   "metadata": {},
   "source": [
    "### 1. if, elif, and else"
   ]
  },
  {
   "cell_type": "code",
   "execution_count": 22,
   "metadata": {},
   "outputs": [
    {
     "name": "stdout",
     "output_type": "stream",
     "text": [
      "The code inside if block gets executed\n"
     ]
    }
   ],
   "source": [
    "# Pay close attention to the equal sign (=)\n",
    "# When we use the equal sign to assign a value to a variable, Python treats it as an \"ASSIGNMENT\" operator\n",
    "# In the line of code below, we are assigning the value of \"True\" to the boolean variable \"condition\"\n",
    "condition = True\n",
    "condition2 = False\n",
    "\n",
    "# When we need to compare two values, we have to use a double equal sign (==), which is a \"COMPARISON\" operator\n",
    "# In the line of code below we compare the value already stored in the boolean varialbe \"condition\" to \"True\"\n",
    "if condition == True or condition2 != False:\n",
    "    print(\"The code inside if block gets executed\")"
   ]
  },
  {
   "cell_type": "markdown",
   "metadata": {},
   "source": [
    "**Chained \"_if_\" statements**"
   ]
  },
  {
   "cell_type": "code",
   "execution_count": null,
   "metadata": {
    "collapsed": true,
    "jupyter": {
     "outputs_hidden": true
    }
   },
   "outputs": [],
   "source": [
    "# In this example, we evaluate multiple \"if\" statements and execute them sequentially\n",
    "condition = True\n",
    "\n",
    "if condition == True:\n",
    "    print(\"The code inside if block gets executed\")\n",
    "    \n",
    "if condition == False:\n",
    "    print(\"The code inside this block will not be executed\")\n",
    "\n",
    "    \n",
    "if condition == True:\n",
    "    print(\"The code inside if block gets executed\")\n",
    "else:\n",
    "    print(\"The code inside this block will not be executed\")"
   ]
  },
  {
   "cell_type": "code",
   "execution_count": 32,
   "metadata": {},
   "outputs": [
    {
     "name": "stdout",
     "output_type": "stream",
     "text": [
      "Please enter a number: \n",
      " 10\n"
     ]
    }
   ],
   "source": [
    "# Let's try the same thing, but this time with user input\n",
    "\n",
    "user_input_str = input(\"Please enter a number: \\n\")\n",
    "user_input_num = int(user_input_str)\n",
    "if user_input_num > 10:\n",
    "    print(\"You entered number \" + str(user_input_num) + \". That number is greater than 10\")\n",
    "\n",
    "if user_input_num < 10:\n",
    "    print(\"You entered number \" + str(user_input_num) + \". That number is less than 10\")\n",
    "    "
   ]
  },
  {
   "cell_type": "markdown",
   "metadata": {},
   "source": [
    "**Is there anything wrong with the code above?**"
   ]
  },
  {
   "cell_type": "code",
   "execution_count": 2,
   "metadata": {},
   "outputs": [
    {
     "name": "stdout",
     "output_type": "stream",
     "text": [
      "Please enter a number: \n",
      "10\n",
      "You entered number 10. That number is less than or equal to 10\n"
     ]
    }
   ],
   "source": [
    "# Let's fix this\n",
    "user_input_str = input(\"Please enter a number: \\n\")\n",
    "user_input_num = int(user_input_str)\n",
    "if user_input_num > 10:\n",
    "    print(\"You entered number \" + str(user_input_num) + \". That number is greater than 10\")\n",
    "else:\n",
    "    print(\"You entered number \" + str(user_input_num) + \". That number is less than or equal to 10\")"
   ]
  },
  {
   "cell_type": "code",
   "execution_count": 12,
   "metadata": {},
   "outputs": [
    {
     "name": "stdout",
     "output_type": "stream",
     "text": [
      "Please enter a number: \n",
      "40\n",
      "You entered number 40. That number is greater than 10\n"
     ]
    }
   ],
   "source": [
    "# What if we want more than two conditions?\n",
    "\n",
    "user_input_str = input(\"Please enter a number: \\n\")\n",
    "user_input_num = int(user_input_str)\n",
    "if user_input_num > 10:\n",
    "    print(\"You entered number \" + user_input_str + \". That number is greater than 10\")\n",
    "elif user_input_num == 10:\n",
    "    print(\"You entered number \" + user_input_str + \". That number equals to 10\")\n",
    "else:\n",
    "    print(\"You entered number \" + user_input_str + \". That number is less than 10\")\n",
    "    \n"
   ]
  },
  {
   "cell_type": "markdown",
   "metadata": {},
   "source": [
    "##### Exercise\n",
    "\n",
    "**Lucky Number**\n",
    "\n",
    "Many cultures consider number 7 to be a lucky number.  This program takes a numeric\n",
    "input from a user and checks if the input is a \"lucky\" number."
   ]
  },
  {
   "cell_type": "code",
   "execution_count": 16,
   "metadata": {},
   "outputs": [],
   "source": [
    "# We will declare our lucky number 7 as a variable\n",
    "LUCKY_NUMBER = 7"
   ]
  },
  {
   "cell_type": "code",
   "execution_count": 17,
   "metadata": {},
   "outputs": [
    {
     "name": "stdout",
     "output_type": "stream",
     "text": [
      "Please enter a number:8\n",
      "You entered: 8\n"
     ]
    }
   ],
   "source": [
    "# Ask user to input a number.  Note that even though the user will enter a number,\n",
    "# Python will treat the input as a string\n",
    "user_input = input(\"Please enter a number:\")\n",
    "\n",
    "print(\"You entered: \" + user_input)"
   ]
  },
  {
   "cell_type": "code",
   "execution_count": 18,
   "metadata": {},
   "outputs": [],
   "source": [
    "# Now we need to convert the input string to a number.  In this case, we will convert the\n",
    "# input string to an integer\n",
    "num = int(user_input)"
   ]
  },
  {
   "cell_type": "code",
   "execution_count": 19,
   "metadata": {},
   "outputs": [
    {
     "name": "stdout",
     "output_type": "stream",
     "text": [
      "You entered number 8.  It may be a lucky number for you, but it's not the lucky number 7!\n"
     ]
    }
   ],
   "source": [
    "# Check if the number equals to 7.  Note that we are using a comparison operator\n",
    "# (double-equal sign ==) instead of the assignment operator (single equal sign =)\n",
    "# Also important to note that Python will not concatenate strings with other data types,\n",
    "# such as integers, so we need to cast / convert all non-string types to string during\n",
    "# concatenation\n",
    "if num == LUCKY_NUMBER:\n",
    "    print(\"You entered the lucky number \" + str(LUCKY_NUMBER) + \"!\")\n",
    "else:\n",
    "    print(\"You entered number \" + str(num) + \".  It may be a lucky number for you, but it's not the lucky number \" + str(LUCKY_NUMBER) + \"!\")"
   ]
  },
  {
   "cell_type": "code",
   "execution_count": null,
   "metadata": {
    "collapsed": true,
    "jupyter": {
     "outputs_hidden": true
    }
   },
   "outputs": [],
   "source": []
  },
  {
   "cell_type": "code",
   "execution_count": null,
   "metadata": {
    "collapsed": true,
    "jupyter": {
     "outputs_hidden": true
    }
   },
   "outputs": [],
   "source": []
  },
  {
   "cell_type": "code",
   "execution_count": null,
   "metadata": {
    "collapsed": true,
    "jupyter": {
     "outputs_hidden": true
    }
   },
   "outputs": [],
   "source": []
  },
  {
   "cell_type": "code",
   "execution_count": null,
   "metadata": {
    "collapsed": true,
    "jupyter": {
     "outputs_hidden": true
    }
   },
   "outputs": [],
   "source": []
  },
  {
   "cell_type": "code",
   "execution_count": null,
   "metadata": {
    "collapsed": true,
    "jupyter": {
     "outputs_hidden": true
    }
   },
   "outputs": [],
   "source": []
  },
  {
   "cell_type": "markdown",
   "metadata": {},
   "source": [
    "**Lucky Number: Challenge 1**\n",
    "\n",
    "Some users will try to submit a blank input.  When user submits input without entering a value, input string will be empty, or equal to a blank string (\"\"). Make sure to validate user inputs"
   ]
  },
  {
   "cell_type": "code",
   "execution_count": null,
   "metadata": {
    "collapsed": true,
    "jupyter": {
     "outputs_hidden": true
    }
   },
   "outputs": [],
   "source": [
    "# We will declare our lucky number 7 as a variable\n",
    "LUCKY_NUMBER = 7\n",
    "# Ask user to input a number.  Note that even though the user will enter a number,\n",
    "# Python will treat the input as a string\n",
    "user_input = input(\"Please enter a number:\")\n",
    "\n",
    "print(\"You entered: \" + user_input)"
   ]
  },
  {
   "cell_type": "code",
   "execution_count": null,
   "metadata": {
    "collapsed": true,
    "jupyter": {
     "outputs_hidden": true
    }
   },
   "outputs": [],
   "source": [
    "# Write your challenge solution code here\n",
    "# Hint: Python has a built-in function that checks if the \n",
    "# value is numeric.  Use Google to figure out the name of that function \n",
    "# and how to use it."
   ]
  },
  {
   "cell_type": "code",
   "execution_count": null,
   "metadata": {
    "collapsed": true,
    "jupyter": {
     "outputs_hidden": true
    }
   },
   "outputs": [],
   "source": []
  },
  {
   "cell_type": "code",
   "execution_count": null,
   "metadata": {
    "collapsed": true,
    "jupyter": {
     "outputs_hidden": true
    }
   },
   "outputs": [],
   "source": []
  },
  {
   "cell_type": "code",
   "execution_count": null,
   "metadata": {
    "collapsed": true,
    "jupyter": {
     "outputs_hidden": true
    }
   },
   "outputs": [],
   "source": []
  },
  {
   "cell_type": "code",
   "execution_count": null,
   "metadata": {
    "collapsed": true,
    "jupyter": {
     "outputs_hidden": true
    }
   },
   "outputs": [],
   "source": []
  },
  {
   "cell_type": "markdown",
   "metadata": {},
   "source": [
    "**Lucky Number: Challenge 1 Solution**"
   ]
  },
  {
   "cell_type": "code",
   "execution_count": 24,
   "metadata": {},
   "outputs": [
    {
     "name": "stdout",
     "output_type": "stream",
     "text": [
      "Please enter a number:bob\n",
      "You entered: bob\n"
     ]
    }
   ],
   "source": [
    "# We will declare our lucky number 7 as a variable\n",
    "LUCKY_NUMBER = 7\n",
    "# Ask user to input a number.  Note that even though the user will enter a number,\n",
    "# Python will treat the input as a string\n",
    "user_input = input(\"Please enter a number:\")\n",
    "\n",
    "print(\"You entered: \" + user_input)"
   ]
  },
  {
   "cell_type": "code",
   "execution_count": 25,
   "metadata": {},
   "outputs": [
    {
     "name": "stdout",
     "output_type": "stream",
     "text": [
      "Hey, if you want us to tell you your lucky number, you actually have to enter one!\n"
     ]
    }
   ],
   "source": [
    "# Python has a built-in function that checks if the value is numeric:\n",
    "if user_input.isdigit():\n",
    "    # Now we need to convert the input string to a number.  \n",
    "    # In this case, we will convert the input string to an integer\n",
    "    num = int(user_input)\n",
    "\n",
    "    # Check if the number equals to 7.  Note that we are using a comparison operator\n",
    "    # (double-equal sign ==) instead of the assignment operator (single equal sign =)\n",
    "    if num == LUCKY_NUMBER:\n",
    "        print(\"You entered the lucky number \" + str(LUCKY_NUMBER) + \"!\")\n",
    "    else:\n",
    "        print(\"You entered number \" + str(num) + \".  It may be a lucky number for you, but it's not the lucky number \" + str(LUCKY_NUMBER) + \"!\")\n",
    "else:\n",
    "    #Display an error message\n",
    "    print(\"Hey, if you want us to tell you your lucky number, you actually have to enter one!\")\n"
   ]
  },
  {
   "cell_type": "code",
   "execution_count": null,
   "metadata": {
    "collapsed": true,
    "jupyter": {
     "outputs_hidden": true
    }
   },
   "outputs": [],
   "source": []
  },
  {
   "cell_type": "code",
   "execution_count": null,
   "metadata": {
    "collapsed": true,
    "jupyter": {
     "outputs_hidden": true
    }
   },
   "outputs": [],
   "source": []
  },
  {
   "cell_type": "code",
   "execution_count": null,
   "metadata": {
    "collapsed": true,
    "jupyter": {
     "outputs_hidden": true
    }
   },
   "outputs": [],
   "source": []
  },
  {
   "cell_type": "markdown",
   "metadata": {},
   "source": [
    "**Lucky Number: Challenge 2**\n",
    "\n",
    "In Italy number **17** is also considered unlucky. The unluckiness of seventeen in Italian culture\n",
    "dates back to the Roman times.  Seventeen in Roman numnerals is XVII, which is an anagram for VIXI,\n",
    "which is Latin for \"I Lived\" and is a common marking on Roman tombstones.\n",
    "Modify the program below to not only check for lucky number 7, but also for unlucky numbers 13 and 17\n",
    "and to display appropriate messages."
   ]
  },
  {
   "cell_type": "code",
   "execution_count": null,
   "metadata": {
    "collapsed": true,
    "jupyter": {
     "outputs_hidden": true
    }
   },
   "outputs": [],
   "source": [
    "# We will declare and initialize our lucky number 7 as a variable\n",
    "LUCKY_NUMBER = 7\n",
    "\n",
    "# Declare and initialize unlucky numbers as varialbes\n",
    "UNLUCKY_NUMBER1 = 13\n",
    "UNLUCKY_NUMBER2 = 17"
   ]
  },
  {
   "cell_type": "markdown",
   "metadata": {},
   "source": [
    "**Step 1: **Get user input"
   ]
  },
  {
   "cell_type": "code",
   "execution_count": null,
   "metadata": {
    "collapsed": true,
    "jupyter": {
     "outputs_hidden": true
    }
   },
   "outputs": [],
   "source": [
    "# Write Step 1 code here\n"
   ]
  },
  {
   "cell_type": "markdown",
   "metadata": {},
   "source": [
    "**Step 2: **Convert user input to integer"
   ]
  },
  {
   "cell_type": "code",
   "execution_count": null,
   "metadata": {
    "collapsed": true,
    "jupyter": {
     "outputs_hidden": true
    }
   },
   "outputs": [],
   "source": [
    "# Write Step 2 code here\n"
   ]
  },
  {
   "cell_type": "markdown",
   "metadata": {},
   "source": [
    "**Step 3: **Check if the number equals to 7 or 13 or 17. Display appropriate messages"
   ]
  },
  {
   "cell_type": "code",
   "execution_count": null,
   "metadata": {
    "collapsed": true,
    "jupyter": {
     "outputs_hidden": true
    }
   },
   "outputs": [],
   "source": [
    "# Write Step 3 code here"
   ]
  },
  {
   "cell_type": "code",
   "execution_count": null,
   "metadata": {
    "collapsed": true,
    "jupyter": {
     "outputs_hidden": true
    }
   },
   "outputs": [],
   "source": []
  },
  {
   "cell_type": "code",
   "execution_count": null,
   "metadata": {
    "collapsed": true,
    "jupyter": {
     "outputs_hidden": true
    }
   },
   "outputs": [],
   "source": []
  },
  {
   "cell_type": "markdown",
   "metadata": {},
   "source": [
    "**Lucky Number: Challenge 2 Solution**"
   ]
  },
  {
   "cell_type": "code",
   "execution_count": null,
   "metadata": {
    "collapsed": true,
    "jupyter": {
     "outputs_hidden": true
    }
   },
   "outputs": [],
   "source": [
    "# We will declare and initialize our lucky number 7 as a variable\n",
    "LUCKY_NUMBER = 7\n",
    "\n",
    "# Declare and initialize unlucky numbers as varialbes\n",
    "UNLUCKY_NUMBER1 = 13\n",
    "UNLUCKY_NUMBER2 = 17"
   ]
  },
  {
   "cell_type": "code",
   "execution_count": null,
   "metadata": {
    "collapsed": true,
    "jupyter": {
     "outputs_hidden": true
    }
   },
   "outputs": [],
   "source": [
    "# Ask user to input a number.  Note that even though the user will enter a number,\n",
    "# Python will treat the input as a string\n",
    "user_input = input(\"Please enter a number:\")\n",
    "\n",
    "print(\"You entered: \" + user_input)"
   ]
  },
  {
   "cell_type": "code",
   "execution_count": null,
   "metadata": {
    "collapsed": true,
    "jupyter": {
     "outputs_hidden": true
    }
   },
   "outputs": [],
   "source": [
    "# Now we need to convert the input string to a number.  In this case, we will convert the\n",
    "# input string to an integer\n",
    "num = int(user_input)"
   ]
  },
  {
   "cell_type": "code",
   "execution_count": null,
   "metadata": {
    "collapsed": true,
    "jupyter": {
     "outputs_hidden": true
    }
   },
   "outputs": [],
   "source": [
    "# Check if the number equals to 7.  Note that we are using a comparison operator\n",
    "# (double-equal sign ==) instead of the assignment operator (single equal sign =)\n",
    "if num == LUCKY_NUMBER:\n",
    "    print(\"You entered the lucky number \" + str(LUCKY_NUMBER) + \"!\")\n",
    "elif num == UNLUCKY_NUMBER1 or num == UNLUCKY_NUMBER2:\n",
    "    # Check if the number equals to 13 or 17\n",
    "    print(\"You entered an extremely unlucky number of \" + str(num) + \"! Be more careful with your inputs in the future.\")\n",
    "else:\n",
    "    print(\"You entered number \" + str(num) + \".  It may be a lucky number for you, but it's not the lucky number \" + str(LUCKY_NUMBER) + \"!\")\n"
   ]
  },
  {
   "cell_type": "code",
   "execution_count": null,
   "metadata": {
    "collapsed": true,
    "jupyter": {
     "outputs_hidden": true
    }
   },
   "outputs": [],
   "source": []
  },
  {
   "cell_type": "code",
   "execution_count": null,
   "metadata": {
    "collapsed": true,
    "jupyter": {
     "outputs_hidden": true
    }
   },
   "outputs": [],
   "source": []
  },
  {
   "cell_type": "markdown",
   "metadata": {},
   "source": [
    "### 2. for loops\n",
    "```for``` loops are for ierating over a collection (like a list or tuple) or an iterater."
   ]
  },
  {
   "cell_type": "code",
   "execution_count": 37,
   "metadata": {},
   "outputs": [
    {
     "name": "stdout",
     "output_type": "stream",
     "text": [
      "12\n"
     ]
    }
   ],
   "source": [
    "sequence = [1,2,None,4,None,5]\n",
    "total = 0\n",
    "for value in sequence:\n",
    "    if value is None:\n",
    "        continue\n",
    "    total += value  \n",
    "\n",
    "print(total)"
   ]
  },
  {
   "cell_type": "code",
   "execution_count": 38,
   "metadata": {},
   "outputs": [
    {
     "name": "stdout",
     "output_type": "stream",
     "text": [
      "1\n",
      "2\n",
      "None\n"
     ]
    }
   ],
   "source": [
    "# we can also use the break statement to exit a loop\n",
    "for value in sequence:\n",
    "    print(value)\n",
    "    if value is None:\n",
    "        break"
   ]
  },
  {
   "cell_type": "code",
   "execution_count": 39,
   "metadata": {},
   "outputs": [
    {
     "name": "stdout",
     "output_type": "stream",
     "text": [
      "0\n",
      "1\n",
      "2\n",
      "3\n",
      "4\n",
      "5\n",
      "6\n",
      "7\n",
      "8\n",
      "9\n",
      "\n",
      "10\n",
      "8\n",
      "6\n",
      "4\n"
     ]
    }
   ],
   "source": [
    "# If we want to iterate over a certain amount of times, we can use the range function\n",
    "# range(10) will generate a sequence of numbers from 0 to 9\n",
    "for i in range(10):\n",
    "    print(i)\n",
    "\n",
    "print()\n",
    "# we can also specify the starting point of the range, and the step\n",
    "for i in range(10, 2, -2):\n",
    "    print(i)"
   ]
  },
  {
   "cell_type": "code",
   "execution_count": 43,
   "metadata": {},
   "outputs": [
    {
     "name": "stdout",
     "output_type": "stream",
     "text": [
      "range(0, 10)\n",
      "[0, 1, 2, 3, 4, 5, 6, 7, 8, 9]\n"
     ]
    }
   ],
   "source": [
    "# Range function generates a sequence of numbers, but it doesn't store them in memory\n",
    "range_10 = range(10)\n",
    "print(range_10)\n",
    "print(list(range_10))"
   ]
  },
  {
   "cell_type": "markdown",
   "metadata": {},
   "source": [
    "If the elements in the collection or iterator are also sequences (tuples or lists, for instance), they can be conveniently unpacked into variables in the ```for``` loop statement."
   ]
  },
  {
   "cell_type": "code",
   "execution_count": null,
   "metadata": {},
   "outputs": [],
   "source": [
    "# Iterating through a dictionary\n",
    "dict = {\n",
    "    \"John\" : 37,\n",
    "    \"Bob\" : 50,\n",
    "    \"Jane\" : 29,\n",
    "    \"Ann\" : 71\n",
    "}\n",
    "\n",
    "for key, value in dict.items():\n",
    "    print(key, value)"
   ]
  },
  {
   "cell_type": "markdown",
   "metadata": {},
   "source": [
    "### 3. while loop\n",
    "A while loop specifies a condition and a block of code that is to be executed until the condition evaluates to ```False``` or the loop is explicitly ended with ```break```."
   ]
  },
  {
   "cell_type": "code",
   "execution_count": 41,
   "metadata": {},
   "outputs": [
    {
     "name": "stdout",
     "output_type": "stream",
     "text": [
      "x = 4, total = 504\n"
     ]
    }
   ],
   "source": [
    "x = 256\n",
    "total = 0\n",
    "while x > 0:\n",
    "    if total > 500:\n",
    "        break\n",
    "    total += x\n",
    "    x = x // 2\n",
    "\n",
    "print(f\"x = {x}, total = {total}\")"
   ]
  },
  {
   "cell_type": "markdown",
   "metadata": {},
   "source": [
    "## Data Structures"
   ]
  },
  {
   "cell_type": "markdown",
   "metadata": {},
   "source": [
    "### Tuple\n",
    "A tuple is a fixed-lengeth, immutable sequence of Python objects which once assigned, cannot be changed."
   ]
  },
  {
   "cell_type": "code",
   "execution_count": 45,
   "metadata": {},
   "outputs": [
    {
     "name": "stdout",
     "output_type": "stream",
     "text": [
      "(4, 5, 6)\n",
      "(7, 8, 9)\n"
     ]
    }
   ],
   "source": [
    "tup = (4,5,6)\n",
    "print(tup)\n",
    "\n",
    "tup_ = 7,8,9 # This is another way to create a tuple\n",
    "print(tup_)"
   ]
  },
  {
   "cell_type": "markdown",
   "metadata": {},
   "source": [
    "### Lists\n",
    "\n",
    "**List data structure**\n",
    "\n",
    "* A Python list is a sequence of values\n",
    "* Values in a Python list can by of any datatype\n",
    "* Each element of a sequence is assigned a number - its position or index. The first index is zero, the second index is one, and so forth."
   ]
  },
  {
   "cell_type": "code",
   "execution_count": 29,
   "metadata": {},
   "outputs": [],
   "source": [
    "# Creating Lists\n",
    "list1 = ['apples', 'oranges', 'pears', 'peaches'];\n",
    "list2 = [1, 2, 3, 4, 5];\n",
    "list3 = [\"a\", \"b\", \"c\", \"d\"]\n",
    "# Note that the following list contains mixed data types\n",
    "list4 = [1, 2, \"x\", \"y\", \"z\", True] "
   ]
  },
  {
   "cell_type": "code",
   "execution_count": 33,
   "metadata": {},
   "outputs": [
    {
     "name": "stdout",
     "output_type": "stream",
     "text": [
      "apples\n",
      "['oranges', 'pears']\n",
      "['apples', 'oranges', 'pears']\n",
      "['peaches', 'berries']\n",
      "berries\n"
     ]
    }
   ],
   "source": [
    "# Accessing Values in Lists\n",
    "fruits = ['apples', 'oranges', 'pears', 'peaches', 'berries'];\n",
    "print(fruits[0]) # Get the first element of the list\n",
    "print(fruits[1:3]) # Get the first two elements of the list\n",
    "print(fruits[:3]) # Get everything before the element with index 3\n",
    "print(fruits[3:]) # Get everything starting with the element with index 3\n",
    "print(fruits[-1]) # Get the last element of the list"
   ]
  },
  {
   "cell_type": "code",
   "execution_count": 34,
   "metadata": {},
   "outputs": [
    {
     "name": "stdout",
     "output_type": "stream",
     "text": [
      "Value at index 2 is: pears\n",
      "New value at index 2 is : bananas\n"
     ]
    }
   ],
   "source": [
    "# Updating Lists\n",
    "fruits = ['apples', 'oranges', 'pears', 'peaches', 'berries']\n",
    "print(\"Value at index 2 is: \" + fruits[2])\n",
    "fruits[2] = 'bananas'\n",
    "print(\"New value at index 2 is : \" + fruits[2])"
   ]
  },
  {
   "cell_type": "code",
   "execution_count": 35,
   "metadata": {},
   "outputs": [
    {
     "name": "stdout",
     "output_type": "stream",
     "text": [
      "['apples', 'oranges', 'pears', 'peaches', 'berries']\n",
      "['apples', 'oranges', 'pears', 'peaches', 'berries', 'bananas']\n"
     ]
    }
   ],
   "source": [
    "# Appending to Lists\n",
    "fruits = ['apples', 'oranges', 'pears', 'peaches', 'berries'];\n",
    "print(fruits)\n",
    "fruits.append('bananas')\n",
    "print(fruits)"
   ]
  },
  {
   "cell_type": "code",
   "execution_count": 46,
   "metadata": {},
   "outputs": [
    {
     "name": "stdout",
     "output_type": "stream",
     "text": [
      "['apples', 'oranges', 'pears', 'peaches', 'berries']\n",
      "['apples', 'oranges', 'peaches', 'berries']\n"
     ]
    }
   ],
   "source": [
    "# Removing Elements from Lists\n",
    "fruits = ['apples', 'oranges', 'pears', 'peaches', 'berries']\n",
    "print(fruits)\n",
    "del fruits[2]\n",
    "print(fruits)"
   ]
  },
  {
   "cell_type": "code",
   "execution_count": 47,
   "metadata": {
    "scrolled": true
   },
   "outputs": [
    {
     "name": "stdout",
     "output_type": "stream",
     "text": [
      "['apples', 'oranges', 'pears', 'peaches', 'berries']\n",
      "['apples', 'oranges', 'peaches', 'berries']\n"
     ]
    }
   ],
   "source": [
    "# Alternatively, you can use the 'remove()' function\n",
    "fruits = ['apples', 'oranges', 'pears', 'peaches', 'berries']\n",
    "print(fruits)\n",
    "fruits.remove('pears')\n",
    "print(fruits)"
   ]
  },
  {
   "cell_type": "code",
   "execution_count": 45,
   "metadata": {},
   "outputs": [
    {
     "name": "stdout",
     "output_type": "stream",
     "text": [
      "[1, 2, 3, 4, 5, 6, 7, 3]\n",
      "[1, 2, 4, 5, 6, 7, 3]\n"
     ]
    }
   ],
   "source": [
    "a = [1, 2, 3, 4, 5, 6, 7, 3]\n",
    "print(a)\n",
    "a.remove(3)\n",
    "print(a)"
   ]
  },
  {
   "cell_type": "code",
   "execution_count": 36,
   "metadata": {},
   "outputs": [
    {
     "name": "stdout",
     "output_type": "stream",
     "text": [
      "['tomatoes', 'cucumbers', 'celery', 'apples', 'oranges', 'pears', 'peaches', 'berries']\n"
     ]
    }
   ],
   "source": [
    "# Combining Lists\n",
    "fruits = ['apples', 'oranges', 'pears', 'peaches', 'berries'];\n",
    "vegetables = ['tomatoes', 'cucumbers', 'celery']\n",
    "\n",
    "food =  vegetables + fruits\n",
    "print(food)\n"
   ]
  },
  {
   "cell_type": "code",
   "execution_count": 59,
   "metadata": {},
   "outputs": [
    {
     "name": "stdout",
     "output_type": "stream",
     "text": [
      "['apples', 'oranges', 'pears', 'peaches', 'berries']\n",
      "['apples', 'oranges', 'pears', 'peaches', 'berries', 'apples']\n",
      "['apples', 'oranges', 'pears', 'peaches', 'berries', 'apples', 'tomatoes', 'cucumbers', 'celery']\n"
     ]
    }
   ],
   "source": [
    "fruits = ['apples', 'oranges', 'pears', 'peaches', 'berries'];\n",
    "vegetables = ['tomatoes', 'cucumbers', 'celery']\n",
    "\n",
    "print(fruits)\n",
    "fruits.append('apples')\n",
    "print(fruits)\n",
    "\n",
    "new_list = fruits + vegetables\n",
    "print(new_list)"
   ]
  },
  {
   "cell_type": "code",
   "execution_count": 57,
   "metadata": {},
   "outputs": [
    {
     "name": "stdout",
     "output_type": "stream",
     "text": [
      "['apples', 'berries', 'oranges', 'peaches', 'pears']\n"
     ]
    }
   ],
   "source": [
    "# Sorting Lists\n",
    "fruits = ['apples', 'oranges', 'pears', 'peaches', 'berries'];\n",
    "sorted_fruits = sorted(fruits)\n",
    "print(sorted_fruits)"
   ]
  },
  {
   "cell_type": "code",
   "execution_count": 58,
   "metadata": {},
   "outputs": [
    {
     "name": "stdout",
     "output_type": "stream",
     "text": [
      "['e', 'i', 'l', 's', 'v']\n",
      "['e', 'i', 'l', 's', 'v']\n"
     ]
    }
   ],
   "source": [
    "str1 = \"elvis\"\n",
    "str2 = \"lives\"\n",
    "\n",
    "str1_sorted = sorted(str1)\n",
    "print(str1_sorted)\n",
    "str2_sorted = sorted(str2)\n",
    "print(str2_sorted)"
   ]
  },
  {
   "cell_type": "markdown",
   "metadata": {},
   "source": [
    "### Dictionaries\n",
    "\n",
    "**Dictionary Data Type:**\n",
    "* A dictionary is a collection of items\n",
    "* Each item consists of a key / value pair\n",
    "* The items are separated by commas\n",
    "* Each key is separated from its value by a colon (:)\n",
    "* An empty dictionary without any items is written with just two curly braces: {}.\n",
    "* Keys are unique within a dictionary while values may not be\n",
    "* The values of a dictionary can be of any type, but the keys must be strings or numbers."
   ]
  },
  {
   "cell_type": "code",
   "execution_count": 1,
   "metadata": {},
   "outputs": [],
   "source": [
    "# Creating a dictionary\n",
    "\n",
    "dict = {\n",
    "    \"John\" : 37,\n",
    "    \"Bob\" : 50,\n",
    "    \"Jane\" : 29,\n",
    "    \"Ann\" : 71\n",
    "}"
   ]
  },
  {
   "cell_type": "code",
   "execution_count": 2,
   "metadata": {
    "scrolled": true
   },
   "outputs": [
    {
     "name": "stdout",
     "output_type": "stream",
     "text": [
      "37\n",
      "50\n",
      "29\n"
     ]
    }
   ],
   "source": [
    "# Accessing a value from a dictionary by its key\n",
    "print(dict[\"John\"])\n",
    "print(dict[\"Bob\"])\n",
    "print(dict[\"Jane\"])"
   ]
  },
  {
   "cell_type": "code",
   "execution_count": null,
   "metadata": {
    "collapsed": true,
    "jupyter": {
     "outputs_hidden": true
    }
   },
   "outputs": [],
   "source": []
  },
  {
   "cell_type": "code",
   "execution_count": 3,
   "metadata": {},
   "outputs": [],
   "source": [
    "account = {\n",
    "    \"1a\" : 2000,\n",
    "    \"1b\" : 1000000,\n",
    "    \"1c\" : -200\n",
    "}\n"
   ]
  },
  {
   "cell_type": "code",
   "execution_count": 38,
   "metadata": {},
   "outputs": [
    {
     "name": "stdout",
     "output_type": "stream",
     "text": [
      "{'1a': 2000, '1b': 1000000, '1c': -200}\n"
     ]
    }
   ],
   "source": [
    "print(account)"
   ]
  },
  {
   "cell_type": "code",
   "execution_count": 4,
   "metadata": {},
   "outputs": [
    {
     "name": "stdout",
     "output_type": "stream",
     "text": [
      "{'1a': 2000, '1b': 1000000, '1c': -200}\n"
     ]
    }
   ],
   "source": [
    "account = {}\n",
    "account[\"1a\"] = 2000\n",
    "account[\"1b\"] = 1000000\n",
    "account[\"1c\"] = -200\n",
    "print(account)"
   ]
  },
  {
   "cell_type": "code",
   "execution_count": 38,
   "metadata": {},
   "outputs": [
    {
     "name": "stdout",
     "output_type": "stream",
     "text": [
      "{'John': 389, 'Bob': 50, 'Jane': 29, 'Ann': 71, 'Rose': 32}\n"
     ]
    }
   ],
   "source": [
    "# Updating Dictionary\n",
    "dict = {\n",
    "    \"John\" : 37,\n",
    "    \"Bob\" : 50,\n",
    "    \"Jane\" : 29,\n",
    "    \"Ann\" : 71\n",
    "}\n",
    "\n",
    "dict[\"John\"] = 389# Update an item\n",
    "dict[\"Rose\"] = 32 # Add new entry\n",
    "print(dict)"
   ]
  },
  {
   "cell_type": "code",
   "execution_count": 11,
   "metadata": {},
   "outputs": [],
   "source": [
    "# Deleting Dictionary Elements\n",
    "dict = {\n",
    "    \"John\" : 37,\n",
    "    \"Bob\" : 50,\n",
    "    \"Jane\" : 29,\n",
    "    \"Ann\" : 71\n",
    "}\n",
    "\n",
    "del dict['John']; # remove entry with key 'John'\n",
    "dict.clear();     # remove all entries in dict\n",
    "del dict ;        # delete entire dictionary\n",
    "dict = None;"
   ]
  },
  {
   "cell_type": "code",
   "execution_count": 12,
   "metadata": {},
   "outputs": [
    {
     "name": "stdout",
     "output_type": "stream",
     "text": [
      "{'fruits': ['apples', 'oranges', 'pears', 'peaches', 'berries'], 'vegetables': ['tomatoes', 'cucumbers', 'celery']}\n"
     ]
    }
   ],
   "source": [
    "shopping_hist = {}\n",
    "\n",
    "shopping_hist[\"fruits\"] = ['apples', 'oranges', 'pears', 'peaches', 'berries'];\n",
    "shopping_hist[\"vegetables\"] = ['tomatoes', 'cucumbers', 'celery']\n",
    "print(shopping_hist)"
   ]
  },
  {
   "cell_type": "code",
   "execution_count": null,
   "metadata": {
    "collapsed": true,
    "jupyter": {
     "outputs_hidden": true
    }
   },
   "outputs": [],
   "source": [
    "{\n",
    "    'fruits': ['apples', 'oranges', 'pears', 'peaches', 'berries'], \n",
    "    'vegetables': ['tomatoes', 'cucumbers', 'celery']\n",
    "}"
   ]
  },
  {
   "cell_type": "code",
   "execution_count": 13,
   "metadata": {},
   "outputs": [],
   "source": [
    "# Lists of dictionaries\n",
    "employees = [\n",
    "    {\n",
    "        \"first_name\" : \"John\",\n",
    "        \"last_name\" : \"Smith\",\n",
    "        \"age\" : 50,\n",
    "        \"has_insurance\" : False\n",
    "    },\n",
    "    {\n",
    "        \"first_name\" : \"Jane\",\n",
    "        \"last_name\" : \"Doe\",\n",
    "        \"age\" : 37,\n",
    "        \"has_insurance\" : True\n",
    "    }\n",
    "]"
   ]
  },
  {
   "cell_type": "code",
   "execution_count": null,
   "metadata": {},
   "outputs": [],
   "source": [
    "employees[1][\"has_insurance\"] = True"
   ]
  },
  {
   "cell_type": "markdown",
   "metadata": {},
   "source": [
    "### Exercise:\n",
    "\n",
    "** Shopping List **\n",
    "\n",
    "This program creates a list called groceries and defines two dictionaries, stock and prices. Using these structures, it computes the bill for the list of groceries."
   ]
  },
  {
   "cell_type": "code",
   "execution_count": null,
   "metadata": {
    "collapsed": true,
    "jupyter": {
     "outputs_hidden": true
    }
   },
   "outputs": [],
   "source": [
    "# First, create a list called shopping_list that contains the strings \"banana\", \"orange\", and \"apple\"\n",
    "shopping_list = [\"banana\", \"orange\", \"apple\"]"
   ]
  },
  {
   "cell_type": "code",
   "execution_count": null,
   "metadata": {
    "collapsed": true,
    "jupyter": {
     "outputs_hidden": true
    }
   },
   "outputs": [],
   "source": [
    "# Next, create the empty prices dictionary\n",
    "prices = {}\n",
    "\n",
    "# We can then add values to the dictionary\n",
    "prices[\"banana\"] = 4\n",
    "prices[\"apple\"] = 2\n",
    "prices[\"orange\"] = 1.5\n",
    "prices[\"pear\"] = 3"
   ]
  },
  {
   "cell_type": "code",
   "execution_count": null,
   "metadata": {
    "collapsed": true,
    "jupyter": {
     "outputs_hidden": true
    }
   },
   "outputs": [],
   "source": [
    "# Next, create the stock dictionary\n",
    "# We will use a different method from before and simply create the dictionary all at once\n",
    "# Note that we use commas to separate items and a comma does not appear after the last item in the dictionary\n",
    "# Also note that the dictionary can be declared on one line or multiple\n",
    "stock = {\n",
    "    \"banana\": 6,\n",
    "    \"apple\": 0,\n",
    "    \"orange\": 32,\n",
    "    \"pear\": 15\n",
    "}"
   ]
  },
  {
   "cell_type": "code",
   "execution_count": null,
   "metadata": {
    "collapsed": true,
    "jupyter": {
     "outputs_hidden": true
    }
   },
   "outputs": [],
   "source": [
    "# To illustrate how to print out the items in a dictionary along with their associated values, \n",
    "# we can use a loop like the one below\n",
    "for item in prices:\n",
    "    print(item)\n",
    "    print(\"price: \" + str(prices[item]))\n",
    "    print(\"stock: \" + str(stock[item]))"
   ]
  },
  {
   "cell_type": "code",
   "execution_count": null,
   "metadata": {
    "collapsed": true,
    "jupyter": {
     "outputs_hidden": true
    }
   },
   "outputs": [],
   "source": [
    "# Now we can compute the bill for the shopping list\n",
    "# We will do this by looping through the items in the list, checking to see if the store has the item in stock,\n",
    "# and adding the price to a variable called grocery_bill\n",
    "# Also, we will update the stock dictionary to reflect any changes in the quantity of a good if it is on the list\n",
    "grocery_bill = 0\n",
    "\n",
    "for item in shopping_list:\n",
    "    if stock[item] > 0:\n",
    "        price = prices[item]\n",
    "        grocery_bill = grocery_bill + price\n",
    "        stock[item] = stock[item] - 1\n",
    "    else:\n",
    "        print(item + \"s are not in stock!\")"
   ]
  },
  {
   "cell_type": "code",
   "execution_count": null,
   "metadata": {
    "collapsed": true,
    "jupyter": {
     "outputs_hidden": true
    }
   },
   "outputs": [],
   "source": [
    "# Finally, output the result\n",
    "print(\"Cost of groceries: \" + str(grocery_bill))"
   ]
  },
  {
   "cell_type": "code",
   "execution_count": null,
   "metadata": {
    "collapsed": true,
    "jupyter": {
     "outputs_hidden": true
    }
   },
   "outputs": [],
   "source": []
  },
  {
   "cell_type": "markdown",
   "metadata": {},
   "source": [
    "** Shopping List: Challenge 1**\n",
    "\n",
    "Write a loop to determine the value of the store's entire stock. "
   ]
  },
  {
   "cell_type": "code",
   "execution_count": null,
   "metadata": {
    "collapsed": true,
    "jupyter": {
     "outputs_hidden": true
    }
   },
   "outputs": [],
   "source": [
    "# Write challenge 1 solution here\n"
   ]
  },
  {
   "cell_type": "code",
   "execution_count": null,
   "metadata": {
    "collapsed": true,
    "jupyter": {
     "outputs_hidden": true
    }
   },
   "outputs": [],
   "source": []
  },
  {
   "cell_type": "code",
   "execution_count": null,
   "metadata": {
    "collapsed": true,
    "jupyter": {
     "outputs_hidden": true
    }
   },
   "outputs": [],
   "source": []
  },
  {
   "cell_type": "code",
   "execution_count": null,
   "metadata": {
    "collapsed": true,
    "jupyter": {
     "outputs_hidden": true
    }
   },
   "outputs": [],
   "source": []
  },
  {
   "cell_type": "code",
   "execution_count": null,
   "metadata": {
    "collapsed": true,
    "jupyter": {
     "outputs_hidden": true
    }
   },
   "outputs": [],
   "source": []
  },
  {
   "cell_type": "code",
   "execution_count": null,
   "metadata": {
    "collapsed": true,
    "jupyter": {
     "outputs_hidden": true
    }
   },
   "outputs": [],
   "source": []
  },
  {
   "cell_type": "code",
   "execution_count": null,
   "metadata": {
    "collapsed": true,
    "jupyter": {
     "outputs_hidden": true
    }
   },
   "outputs": [],
   "source": []
  },
  {
   "cell_type": "markdown",
   "metadata": {},
   "source": [
    "** Shopping List: Challenge 1 Solution**"
   ]
  },
  {
   "cell_type": "code",
   "execution_count": null,
   "metadata": {
    "collapsed": true,
    "jupyter": {
     "outputs_hidden": true
    }
   },
   "outputs": [],
   "source": [
    "# First, create a list called shopping_list that contains the strings \"banana\", \"orange\", and \"apple\"\n",
    "shopping_list = [\"banana\", \"orange\", \"apple\"]"
   ]
  },
  {
   "cell_type": "code",
   "execution_count": null,
   "metadata": {
    "collapsed": true,
    "jupyter": {
     "outputs_hidden": true
    }
   },
   "outputs": [],
   "source": [
    "# Next, create the empty prices dictionary\n",
    "prices = {}\n",
    "\n",
    "# We can then add values to the dictionary\n",
    "prices[\"banana\"] = 4\n",
    "prices[\"apple\"] = 2\n",
    "prices[\"orange\"] = 1.5\n",
    "prices[\"pear\"] = 3"
   ]
  },
  {
   "cell_type": "code",
   "execution_count": null,
   "metadata": {
    "collapsed": true,
    "jupyter": {
     "outputs_hidden": true
    }
   },
   "outputs": [],
   "source": [
    "# Next, create the stock dictionary\n",
    "# We will use a different method from before and simply create the dictionary all at once\n",
    "# Note that we use commas to separate items and a comma does not appear after the last item in the dictionary\n",
    "# Also note that the dictionary can be declared on one line or multiple\n",
    "stock = {\n",
    "    \"banana\": 6,\n",
    "    \"apple\": 0,\n",
    "    \"orange\": 32,\n",
    "    \"pear\": 15\n",
    "}"
   ]
  },
  {
   "cell_type": "code",
   "execution_count": null,
   "metadata": {
    "collapsed": true,
    "jupyter": {
     "outputs_hidden": true
    }
   },
   "outputs": [],
   "source": [
    "# To illustrate how to print out the items in a dictionary along with their associated values, \n",
    "# we can use a loop like the one below\n",
    "for item in prices:\n",
    "    print(item)\n",
    "    print(\"price: \" + str(prices[item]))\n",
    "    print(\"stock: \" + str(stock[item]))"
   ]
  },
  {
   "cell_type": "code",
   "execution_count": null,
   "metadata": {
    "collapsed": true,
    "jupyter": {
     "outputs_hidden": true
    }
   },
   "outputs": [],
   "source": [
    "# Now we can compute the bill for the shopping list\n",
    "# We will do this by looping through the items in the list, checking to see if the store has the item in stock,\n",
    "# and adding the price to a variable called grocery_bill\n",
    "# Also, we will update the stock dictionary to reflect any changes in the quantity of a good if it is on the list\n",
    "grocery_bill = 0\n",
    "\n",
    "for item in shopping_list:\n",
    "    if stock[item] > 0:\n",
    "        price = prices[item]\n",
    "        grocery_bill = grocery_bill + price\n",
    "        stock[item] = stock[item] - 1\n",
    "    else:\n",
    "        print(item + \"s are not in stock!\")\n",
    "        \n",
    "print(\"Your total bill is\", grocery_bill)"
   ]
  },
  {
   "cell_type": "code",
   "execution_count": null,
   "metadata": {
    "collapsed": true,
    "jupyter": {
     "outputs_hidden": true
    }
   },
   "outputs": [],
   "source": [
    "# Challenge solution\n",
    "total_stock = 0\n",
    "\n",
    "for item in stock:\n",
    "    total_stock = total_stock + stock[item] * prices[item]\n",
    "    \n",
    "print(\"The value of the store's stock is \" + str(total_stock))"
   ]
  },
  {
   "cell_type": "markdown",
   "metadata": {
    "collapsed": true,
    "jupyter": {
     "outputs_hidden": true
    }
   },
   "source": [
    "# Functions\n",
    "\n",
    "[https://www.tutorialspoint.com/python/python_functions.htm]\n",
    "\n",
    "* A function is a block of organized, reusable code that is used to perform a single, related action. \n",
    "* Functions provide better modularity for your application and a high degree of code reusing.\n",
    "\n",
    "### Defining a Function\n",
    "\n",
    "* Function blocks begin with the keyword _def_ followed by the function name and parentheses _(  )_.\n",
    "* Any input parameters or arguments should be placed within these parentheses. You can also define parameters inside these parentheses.\n",
    "* The code block within every function starts with a colon (:) and is indented.\n",
    "* The statement _return [expression]_ exits a function, optionally passing back an expression to the caller. A return statement with no arguments is the same as return None.\n",
    "\n",
    "### Syntax\n",
    "def functionname( parameters ):\n",
    "\n",
    "    function code\n",
    "    more code\n",
    "    even more code\n",
    "\n",
    "    return [expression]\n"
   ]
  },
  {
   "cell_type": "code",
   "execution_count": null,
   "metadata": {
    "collapsed": true,
    "jupyter": {
     "outputs_hidden": true
    }
   },
   "outputs": [],
   "source": [
    "# Function name: add_two_numbers\n",
    "# Parameter(s): num1, num2\n",
    "# Description: This function adds two numbers\n",
    "# Return: This function returns a sum of two numbers\n",
    "def add_two_numbers(num1, num2):\n",
    "    sum_of_two_numbers = num1 + num2\n",
    "    return sum_of_two_numbers"
   ]
  },
  {
   "cell_type": "code",
   "execution_count": null,
   "metadata": {},
   "outputs": [],
   "source": [
    "# Calling a function\n",
    "result = add_two_numbers(5, 7)\n",
    "print(result)"
   ]
  },
  {
   "cell_type": "code",
   "execution_count": null,
   "metadata": {
    "collapsed": true,
    "jupyter": {
     "outputs_hidden": true
    }
   },
   "outputs": [],
   "source": [
    "# You can pass variables instead of literal parameters into a function\n",
    "var1 = 10\n",
    "var2 = 20\n",
    "result = add_two_numbers(var1, var2)"
   ]
  },
  {
   "cell_type": "markdown",
   "metadata": {},
   "source": [
    "**Important notes about functions**\n",
    "* A function name along with its parameters make up the functions **signature**\n",
    "* When calling a function, you must pass values for each parameter in EXACTLY the same order as it appears in the parameter list\n",
    "\n",
    "**Named parameters**\n",
    "* Sometimes, we want parameters to have default values (values that will be automatically assigned to a parameter)\n",
    "* Sometimes, we also want to pick and choose which parameters to pass into a function (have optional parameters)\n",
    "* To address these two use cases, we can create functions with **named** parameters\n",
    "\n",
    "**Syntax for functions with named parameters:**\n",
    "\n",
    "def functionname( parameter_1_name = parameter_1_value, parameter_2_name = parameter_2_value ):\n",
    "\n",
    "    function code\n",
    "    more code\n",
    "    even more code\n",
    "\n",
    "    return [expression]\n"
   ]
  },
  {
   "cell_type": "code",
   "execution_count": null,
   "metadata": {
    "collapsed": true,
    "jupyter": {
     "outputs_hidden": true
    }
   },
   "outputs": [],
   "source": [
    "# Note that \"operation\" is a named parameter.  \n",
    "# It has a default value of \"add\" and can be skipped alltogether\n",
    "def do_math_with_two_numbers(num1, num2, operation = \"add\"):\n",
    "    if operation == \"add\":\n",
    "        result = num1 + num2\n",
    "    elif operation == \"subtract\":\n",
    "        result = num1 - num2\n",
    "    elif operation == \"multiply\":\n",
    "        result = num1 * num2\n",
    "    elif operation == \"divide\":\n",
    "        result = num1 / num2\n",
    "    return result"
   ]
  },
  {
   "cell_type": "code",
   "execution_count": null,
   "metadata": {},
   "outputs": [],
   "source": [
    "# Call the function without the named parameter\n",
    "test = do_math_with_two_numbers(5, 10)\n",
    "print(test)\n",
    "\n",
    "# Call the function with the named parameter\n",
    "test = do_math_with_two_numbers(5, 10, operation=\"subtract\")\n",
    "print(test)\n",
    "\n"
   ]
  },
  {
   "cell_type": "markdown",
   "metadata": {
    "collapsed": true,
    "jupyter": {
     "outputs_hidden": true
    }
   },
   "source": [
    "# Reading Text Files\n",
    "\n",
    "### Working With CSV Files\n",
    "\n",
    "CSV files are used to store a large number of variables – or data. They are incredibly simplified spreadsheets – think Excel – only the content is stored in plaintext.\n",
    "\n",
    "And the CSV module is a built-in function that allows Python to parse these types of files."
   ]
  },
  {
   "cell_type": "code",
   "execution_count": null,
   "metadata": {
    "collapsed": true,
    "jupyter": {
     "outputs_hidden": true
    }
   },
   "outputs": [],
   "source": [
    "# To parse CSV files, we use the csv module. CSV literally stands for comma separated value, \n",
    "# where the comma is what is known as a \"delimiter.\" The csv module provides a number of built-in\n",
    "# functions to make it easier to parse and iterate through CSV files.\n",
    "import csv"
   ]
  },
  {
   "cell_type": "code",
   "execution_count": null,
   "metadata": {
    "collapsed": true,
    "jupyter": {
     "outputs_hidden": true
    }
   },
   "outputs": [],
   "source": [
    "# Open the diabetes file.  Note that when Python opens data files and stores them in variables,\n",
    "# the variables DO NOT actually contain text.  In the example below, the diabetes_file \n",
    "# variable stores the file in a special format (one that Python can understand and interpret)\n",
    "diabetes_file = open(\"diabetes.csv\")"
   ]
  },
  {
   "cell_type": "code",
   "execution_count": null,
   "metadata": {},
   "outputs": [],
   "source": [
    "# See what happens when we try to print the variable where the data file is stored\n",
    "# Essentially, the file is treated as an OBJECT - we'll learn about objects next week\n",
    "print(diabetes_file)"
   ]
  },
  {
   "cell_type": "code",
   "execution_count": null,
   "metadata": {
    "collapsed": true,
    "jupyter": {
     "outputs_hidden": true
    }
   },
   "outputs": [],
   "source": [
    "# Now we need to tell Python that the file stored in diabetes_file variable should be read as \n",
    "# and interpreted as a CSV file.  We do that by calling on the reader() function of the csv module\n",
    "diabetes_data = csv.reader(diabetes_file)"
   ]
  },
  {
   "cell_type": "code",
   "execution_count": null,
   "metadata": {},
   "outputs": [],
   "source": [
    "# At this point, the entire CSV file is treated as a table - a collection of rows and columns\n",
    "# We can iterate (loop) through this table and get access to each individual row\n",
    "for row in diabetes_data:\n",
    "    print(row)\n",
    "    "
   ]
  },
  {
   "cell_type": "code",
   "execution_count": null,
   "metadata": {},
   "outputs": [],
   "source": [
    "# You probably noticed that the row variable is just a list - it is a list of values contained in each column.\n",
    "# You can access individual columns exactly the same way you would access values in a list.\n",
    "# For example, the value of cholesterol is in a column called 'chol', which is a second column and \n",
    "# therefore has the index of 1\n",
    "\n",
    "# Since we already iterated through the CSV file once, we need to tell Python to start at the beginning again\n",
    "# This action is called 'resetting the read position of the file object'\n",
    "diabetes_file.seek(0) \n",
    "\n",
    "for row in diabetes_data:\n",
    "    print(row[1]) # print only the values for the chol column"
   ]
  },
  {
   "cell_type": "code",
   "execution_count": null,
   "metadata": {},
   "outputs": [],
   "source": [
    "# You probably also noticed that the first row does not contain data - it's just the column headers\n",
    "# In order for us to do any mathematical or statistical operations on the data, we need to EXCLUDE the header\n",
    "# One way to do this is with a counter variable\n",
    "\n",
    "cnt = 0 # Initialize a temporary counter\n",
    "diabetes_file.seek(0) # Reset the read position of the file object\n",
    "\n",
    "for row in diabetes_data:\n",
    "    # We will only get the values when the counter is greater then zero.\n",
    "    # Because we initialized the counter to zero above, the first row will be \n",
    "    # excluded.  In order for this to work, it is critical to increment \n",
    "    # the counter by one outside of the if statement but inside of the loop\n",
    "    if cnt > 0:\n",
    "        print(row[1]) # print only the values for the chol column\n",
    "    cnt = cnt + 1 # Increment the counter by one"
   ]
  },
  {
   "cell_type": "markdown",
   "metadata": {},
   "source": [
    "**CSV files - Challenge 1**\n",
    "\n",
    "Calculate the _average_ and the _highest (max)_ cholesterol value based on the data available in the dataset.\n"
   ]
  },
  {
   "cell_type": "code",
   "execution_count": null,
   "metadata": {
    "collapsed": true,
    "jupyter": {
     "outputs_hidden": true
    }
   },
   "outputs": [],
   "source": [
    "# Step 1: Import csv module\n",
    "import csv"
   ]
  },
  {
   "cell_type": "code",
   "execution_count": null,
   "metadata": {
    "collapsed": true,
    "jupyter": {
     "outputs_hidden": true
    }
   },
   "outputs": [],
   "source": [
    "# Step 2: Read the csv file\n",
    "diabetes_file = open(\"diabetes.csv\")\n",
    "diabetes_data = csv.reader(diabetes_file)"
   ]
  },
  {
   "cell_type": "code",
   "execution_count": null,
   "metadata": {
    "collapsed": true,
    "jupyter": {
     "outputs_hidden": true
    }
   },
   "outputs": [],
   "source": [
    "# Step 3: Iterate through csv data\n",
    "cnt = 0 # Initialize a temporary counter\n",
    "diabetes_file.seek(0) # Reset the read position of the file object\n",
    "\n",
    "# Hint: you'll need to declare variables to store average and maximum cholesterol here (outside of the loop)\n",
    "for row in diabetes_data:\n",
    "    if cnt > 0:\n",
    "        ################################################################################################\n",
    "        # This is where you need to complete the logic for calculating average and maximum cholesterol\n",
    "        ################################################################################################\n",
    "        \n",
    "        print(row[1]) # print only the values for the chol column\n",
    "    cnt = cnt + 1 # Increment the counter by one"
   ]
  },
  {
   "cell_type": "code",
   "execution_count": null,
   "metadata": {
    "collapsed": true,
    "jupyter": {
     "outputs_hidden": true
    }
   },
   "outputs": [],
   "source": []
  },
  {
   "cell_type": "code",
   "execution_count": null,
   "metadata": {
    "collapsed": true,
    "jupyter": {
     "outputs_hidden": true
    }
   },
   "outputs": [],
   "source": []
  },
  {
   "cell_type": "code",
   "execution_count": null,
   "metadata": {
    "collapsed": true,
    "jupyter": {
     "outputs_hidden": true
    }
   },
   "outputs": [],
   "source": []
  },
  {
   "cell_type": "code",
   "execution_count": null,
   "metadata": {
    "collapsed": true,
    "jupyter": {
     "outputs_hidden": true
    }
   },
   "outputs": [],
   "source": []
  },
  {
   "cell_type": "code",
   "execution_count": null,
   "metadata": {
    "collapsed": true,
    "jupyter": {
     "outputs_hidden": true
    }
   },
   "outputs": [],
   "source": []
  },
  {
   "cell_type": "markdown",
   "metadata": {},
   "source": [
    "**CSV files - Challenge 1 Solution**"
   ]
  },
  {
   "cell_type": "code",
   "execution_count": null,
   "metadata": {
    "collapsed": true,
    "jupyter": {
     "outputs_hidden": true
    }
   },
   "outputs": [],
   "source": [
    "# Step 1: Import csv module\n",
    "import csv"
   ]
  },
  {
   "cell_type": "code",
   "execution_count": null,
   "metadata": {
    "collapsed": true,
    "jupyter": {
     "outputs_hidden": true
    }
   },
   "outputs": [],
   "source": [
    "# Step 2: Read the csv file\n",
    "diabetes_file = open(\"diabetes.csv\")\n",
    "diabetes_data = csv.reader(diabetes_file)"
   ]
  },
  {
   "cell_type": "code",
   "execution_count": null,
   "metadata": {},
   "outputs": [],
   "source": [
    "# Step 3: Calculate average cholesterol\n",
    "\n",
    "cnt = 0 # Initialize a temporary counter\n",
    "diabetes_file.seek(0) # Reset the read position of the file object\n",
    "total = 0 # This variable will hold the sum of all cholesterol values\n",
    "\n",
    "for row in diabetes_data:\n",
    "    if row[1] != \"\":\n",
    "        if cnt > 0:\n",
    "            total = total + int(row[1])\n",
    "        cnt = cnt + 1 # Increment the counter by one\n",
    "        \n",
    "print(\"Total: \" , total)\n",
    "print(\"Count: \" , cnt)\n",
    "\n",
    "avg_chol = total / cnt\n",
    "\n",
    "print(\"Average: \", avg_chol)"
   ]
  },
  {
   "cell_type": "code",
   "execution_count": null,
   "metadata": {},
   "outputs": [],
   "source": [
    "# Step 4: Calculate maximum cholesterol\n",
    "\n",
    "cnt = 0 # Initialize a temporary counter\n",
    "diabetes_file.seek(0) # Reset the read position of the file object\n",
    "max_chol = 0 # This variable will hold the sum of all cholesterol values\n",
    "\n",
    "for row in diabetes_data:\n",
    "    if row[1] != \"\":\n",
    "        if cnt > 0:\n",
    "            # Every time through the loop (for every row that contains a value)\n",
    "            # we compare the value from the data with the value stored in \n",
    "            # max_chol variable.  \n",
    "            # If the value from the data is larger, we set max_chol to that larger value\n",
    "            # After the loop finishes running, the largest value will be stored in max_chols\n",
    "            if max_chol < int(row[1]):\n",
    "                max_chol = int(row[1])\n",
    "        cnt = cnt + 1 # Increment the counter by one\n",
    "        \n",
    "\n",
    "print(\"Maximum cholesterol: \", max_chol)"
   ]
  },
  {
   "cell_type": "code",
   "execution_count": null,
   "metadata": {
    "collapsed": true,
    "jupyter": {
     "outputs_hidden": true
    }
   },
   "outputs": [],
   "source": []
  }
 ],
 "metadata": {
  "kernelspec": {
   "display_name": "Python 3 (ipykernel)",
   "language": "python",
   "name": "python3"
  },
  "language_info": {
   "codemirror_mode": {
    "name": "ipython",
    "version": 3
   },
   "file_extension": ".py",
   "mimetype": "text/x-python",
   "name": "python",
   "nbconvert_exporter": "python",
   "pygments_lexer": "ipython3",
   "version": "3.11.7"
  }
 },
 "nbformat": 4,
 "nbformat_minor": 4
}
