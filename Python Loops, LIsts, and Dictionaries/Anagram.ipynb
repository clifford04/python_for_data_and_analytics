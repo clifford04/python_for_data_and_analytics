{
 "cells": [
  {
   "cell_type": "code",
   "execution_count": 1,
   "metadata": {},
   "outputs": [
    {
     "name": "stdout",
     "output_type": "stream",
     "text": [
      "<_io.TextIOWrapper name='words.txt' mode='r' encoding='UTF-8'>\n"
     ]
    }
   ],
   "source": [
    "filename = \"words.txt\"\n",
    "\n",
    "words = open(filename, 'r')\n",
    "print(words)"
   ]
  },
  {
   "cell_type": "code",
   "execution_count": 2,
   "metadata": {},
   "outputs": [
    {
     "name": "stdout",
     "output_type": "stream",
     "text": [
      "370099\n"
     ]
    }
   ],
   "source": [
    "wordlist = words.readlines()\n",
    "print(len(wordlist))"
   ]
  },
  {
   "cell_type": "code",
   "execution_count": 4,
   "metadata": {},
   "outputs": [
    {
     "name": "stdout",
     "output_type": "stream",
     "text": [
      "['a\\n', 'aa\\n', 'aaa\\n', 'aah\\n', 'aahed\\n']\n"
     ]
    }
   ],
   "source": [
    "print(wordlist[0:5])"
   ]
  },
  {
   "cell_type": "code",
   "execution_count": 9,
   "metadata": {},
   "outputs": [
    {
     "name": "stdout",
     "output_type": "stream",
     "text": [
      "['a', 'aa', 'aaa', 'aah', 'aahed', 'aahing', 'aahs', 'aal', 'aalii', 'aaliis']\n"
     ]
    }
   ],
   "source": [
    "for x in range(0, len(wordlist)):\n",
    "    wordlist[x] = wordlist[x].replace('\\n', '').lower().strip()\n",
    "\n",
    "print(wordlist[0:10])"
   ]
  },
  {
   "cell_type": "code",
   "execution_count": 10,
   "metadata": {
    "collapsed": true
   },
   "outputs": [],
   "source": [
    "wordclean = [word.strip().lower() for word in wordlist]"
   ]
  },
  {
   "cell_type": "code",
   "execution_count": 11,
   "metadata": {
    "collapsed": true
   },
   "outputs": [],
   "source": [
    "wordunique = list(set(wordlist))\n"
   ]
  },
  {
   "cell_type": "code",
   "execution_count": 21,
   "metadata": {},
   "outputs": [],
   "source": [
    "# elvis = lives\n",
    "# sorted(\"elvis\")\n",
    "# a function -- if I pass \"elvis\", I should get back \"eilsv\"\n",
    "\n",
    "def word_signature(word):\n",
    "    sorted_word = sorted(word)\n",
    "    word_letters = ''.join(sorted_word)\n",
    "    return word_letters\n",
    "\n",
    "def word_signature2(word):\n",
    "    return ''.join(sorted(word))"
   ]
  },
  {
   "cell_type": "code",
   "execution_count": 22,
   "metadata": {},
   "outputs": [
    {
     "name": "stdout",
     "output_type": "stream",
     "text": [
      "eilsv\n",
      "eilsv\n"
     ]
    }
   ],
   "source": [
    "sw = word_signature2(\"elvis\")\n",
    "print(sw)\n",
    "\n",
    "sw2 = word_signature2(\"lives\")\n",
    "print(sw2)"
   ]
  },
  {
   "cell_type": "code",
   "execution_count": 25,
   "metadata": {},
   "outputs": [
    {
     "name": "stdout",
     "output_type": "stream",
     "text": [
      "slive\n",
      "veils\n",
      "elvis\n",
      "levis\n",
      "evils\n"
     ]
    }
   ],
   "source": [
    "search_for = \"lives\"\n",
    "for w in wordunique:\n",
    "    if w != search_for:\n",
    "        if word_signature(search_for) == word_signature(w):\n",
    "            print(w)\n",
    "    \n",
    "    "
   ]
  },
  {
   "cell_type": "code",
   "execution_count": 28,
   "metadata": {
    "collapsed": true
   },
   "outputs": [],
   "source": [
    "def anagram_search(search_for, wordlist):\n",
    "    # does something\n",
    "    words = []\n",
    "    \n",
    "    for w in wordlist:\n",
    "        if w!=search_for:\n",
    "            if word_signature(search_for) == word_signature(w):\n",
    "                words.append(w)\n",
    "    \n",
    "    return words"
   ]
  },
  {
   "cell_type": "code",
   "execution_count": null,
   "metadata": {},
   "outputs": [
    {
     "name": "stdout",
     "output_type": "stream",
     "text": [
      "Please enter a search term: python\n",
      "['typhon', 'phyton']\n"
     ]
    }
   ],
   "source": [
    "for i in range(0, 5):\n",
    "    query = input(\"Please enter a search term: \")\n",
    "    anagrams = anagram_search(query, wordunique)\n",
    "    print(anagrams)"
   ]
  },
  {
   "cell_type": "code",
   "execution_count": null,
   "metadata": {
    "collapsed": true
   },
   "outputs": [],
   "source": []
  }
 ],
 "metadata": {
  "kernelspec": {
   "display_name": "Python 3",
   "language": "python",
   "name": "python3"
  },
  "language_info": {
   "codemirror_mode": {
    "name": "ipython",
    "version": 3
   },
   "file_extension": ".py",
   "mimetype": "text/x-python",
   "name": "python",
   "nbconvert_exporter": "python",
   "pygments_lexer": "ipython3",
   "version": "3.6.3"
  }
 },
 "nbformat": 4,
 "nbformat_minor": 2
}
