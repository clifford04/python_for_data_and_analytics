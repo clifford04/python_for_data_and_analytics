{
 "cells": [
  {
   "cell_type": "markdown",
   "metadata": {},
   "source": [
    "## Favorite Books\n",
    "Everyone loves to read, right? Or is that just me....<br>\n",
    "Anyways, it's easy to ask someone their favorite books and authors and store the information in a Python dictionary!\n",
    "\n",
    "### Challenge\n",
    "The cells below show some of the basics for this program, your job is to build the rest of the program based off of what the comments ask of you. The overall goal is to create a dictionary of the user's favorite books and their authors."
   ]
  },
  {
   "cell_type": "code",
   "execution_count": 1,
   "metadata": {},
   "outputs": [
    {
     "name": "stdout",
     "output_type": "stream",
     "text": [
      "What is your favorite book? Oryx & Crake\n"
     ]
    }
   ],
   "source": [
    "# First let's ask the user for one of their favorite book.\n",
    "book = input(\"What is your favorite book? \")"
   ]
  },
  {
   "cell_type": "code",
   "execution_count": 2,
   "metadata": {},
   "outputs": [
    {
     "name": "stdout",
     "output_type": "stream",
     "text": [
      "Who is the author of Oryx & Crake? Margaret Atwood\n"
     ]
    }
   ],
   "source": [
    "# Now let's use concatenation to ask who wrote this book.\n",
    "author = input(\"Who is the author of \"+book+\"? \")"
   ]
  },
  {
   "cell_type": "markdown",
   "metadata": {},
   "source": [
    "Now we are going to write a for loop to fill a dictionary with the user's favorite books. Without deleting the cells above, let's prompt the user for 5 of their favorite books and their authors."
   ]
  },
  {
   "cell_type": "code",
   "execution_count": null,
   "metadata": {
    "collapsed": true
   },
   "outputs": [],
   "source": [
    "# Create an empty dictionary to hold the favorite books and authors.\n",
    "favorite_books = {}\n",
    "\n",
    "# Use a for loop to prompt the user to enter 5 of their favorite books.\n",
    "# A general structure is given below.\n",
    "\n",
    "# for (......):\n",
    "    favorite_book = input(\"What is one of your favorite books? \")     # Prompt for a favorite book.\n",
    "    favorite_author = input(\"Who is the author of \"+ favorite_book +\"? \")    # Prompt for author of the book.\n",
    "    \n",
    "    # Add the favorite book & author to the favorite_books dictionary.\n",
    "    # The book title is the key, the author is the value.\n",
    "    # favorite_books[...] = ..."
   ]
  },
  {
   "cell_type": "markdown",
   "metadata": {},
   "source": [
    "Now let's go back through the dictionary of favorite books that we created and print them out!"
   ]
  },
  {
   "cell_type": "code",
   "execution_count": null,
   "metadata": {
    "collapsed": true
   },
   "outputs": [],
   "source": [
    "# Here is the list title.\n",
    "print(\"A list of my favorite books, a.k.a. books I can recommend to others!\")\n",
    "\n",
    "# Complete the following for loop to print out the dictionary.\n",
    "# Here is what a print out should look like:\n",
    "    # \"Oryx & Crake\" by Maragaret Atwood\n",
    "for each in favorite_books:\n",
    "    print()\n",
    "\n",
    "# HINT: You only need the one print statement! Think about concatenation!"
   ]
  },
  {
   "cell_type": "code",
   "execution_count": null,
   "metadata": {
    "collapsed": true
   },
   "outputs": [],
   "source": []
  }
 ],
 "metadata": {
  "kernelspec": {
   "display_name": "Python 3",
   "language": "python",
   "name": "python3"
  },
  "language_info": {
   "codemirror_mode": {
    "name": "ipython",
    "version": 3
   },
   "file_extension": ".py",
   "mimetype": "text/x-python",
   "name": "python",
   "nbconvert_exporter": "python",
   "pygments_lexer": "ipython3",
   "version": "3.6.3"
  }
 },
 "nbformat": 4,
 "nbformat_minor": 2
}
