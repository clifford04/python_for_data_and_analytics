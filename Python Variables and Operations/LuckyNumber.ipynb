{
 "cells": [
  {
   "cell_type": "markdown",
   "metadata": {},
   "source": [
    "**Lucky Number**\n",
    "\n",
    "Many cultures consider number 7 to be a lucky number.  This program takes a numeric\n",
    "input from a user and checks if the input is a \"lucky\" number."
   ]
  },
  {
   "cell_type": "code",
   "execution_count": 1,
   "metadata": {
    "collapsed": true
   },
   "outputs": [],
   "source": [
    "# We will declare our lucky number 7 as a variable\n",
    "LUCKY_NUMBER = 7\n"
   ]
  },
  {
   "cell_type": "code",
   "execution_count": 2,
   "metadata": {},
   "outputs": [
    {
     "name": "stdout",
     "output_type": "stream",
     "text": [
      "Please enter a number:10\n",
      "You entered: 10\n"
     ]
    }
   ],
   "source": [
    "# Ask user to input a number.  Note that even though the user will enter a number,\n",
    "# Python will treat the input as a string\n",
    "user_input = input(\"Please enter a number:\")\n",
    "\n",
    "print(\"You entered: \" + user_input)"
   ]
  },
  {
   "cell_type": "code",
   "execution_count": 3,
   "metadata": {
    "collapsed": true
   },
   "outputs": [],
   "source": [
    "# Now we need to convert the input string to a number.  In this case, we will convert the\n",
    "# input string to an integer\n",
    "num = int(user_input)"
   ]
  },
  {
   "cell_type": "code",
   "execution_count": 4,
   "metadata": {},
   "outputs": [
    {
     "name": "stdout",
     "output_type": "stream",
     "text": [
      "You entered number 10.  It may be a lucky number for you, but it's not the lucky number 7!\n"
     ]
    }
   ],
   "source": [
    "# Check if the number equals to 7.  Note that we are using a comparison operator\n",
    "# (double-equal sign ==) instead of the assignment operator (single equal sign =)\n",
    "# Also important to note that Python will not concatenate strings with other data types,\n",
    "# such as integers, so we need to cast / convert all non-string types to string during\n",
    "# concatenation\n",
    "if num == LUCKY_NUMBER:\n",
    "\tprint(\"You entered the lucky number \" + str(LUCKY_NUMBER) + \"!\")\n",
    "else:\n",
    "\tprint(\"You entered number \" + str(num) + \".  It may be a lucky number for you, but it's not the lucky number \" + str(LUCKY_NUMBER) + \"!\")"
   ]
  },
  {
   "cell_type": "code",
   "execution_count": null,
   "metadata": {
    "collapsed": true
   },
   "outputs": [],
   "source": []
  }
 ],
 "metadata": {
  "kernelspec": {
   "display_name": "Python 3",
   "language": "python",
   "name": "python3"
  },
  "language_info": {
   "codemirror_mode": {
    "name": "ipython",
    "version": 3
   },
   "file_extension": ".py",
   "mimetype": "text/x-python",
   "name": "python",
   "nbconvert_exporter": "python",
   "pygments_lexer": "ipython3",
   "version": "3.6.3"
  }
 },
 "nbformat": 4,
 "nbformat_minor": 2
}
