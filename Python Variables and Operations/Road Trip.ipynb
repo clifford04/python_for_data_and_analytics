{
 "cells": [
  {
   "cell_type": "markdown",
   "metadata": {},
   "source": [
    "** Road Trip **\n",
    "\n",
    "This program takes user input for the distance of a road trip and determines how long it will take to complete using the car's average speed. It also determines how many gallons of gas the trip will require based on the car's fuel efficiency. <br>"
   ]
  },
  {
   "cell_type": "code",
   "execution_count": 5,
   "metadata": {
    "collapsed": true
   },
   "outputs": [],
   "source": [
    "# Set variables\n",
    "AVERAGE_SPEED = 60 # 60 miles per hour\n",
    "FUEL_EFFICIENCY = 20 # 20 miles per gallon"
   ]
  },
  {
   "cell_type": "code",
   "execution_count": 6,
   "metadata": {},
   "outputs": [
    {
     "name": "stdout",
     "output_type": "stream",
     "text": [
      "Please enter the length of the road trip: 200\n"
     ]
    }
   ],
   "source": [
    "# Get user input for the length of the road trip\n",
    "input_trip_length = input(\"Please enter the length of the road trip in miles: \")"
   ]
  },
  {
   "cell_type": "code",
   "execution_count": 7,
   "metadata": {
    "collapsed": true
   },
   "outputs": [],
   "source": [
    "# Values entered through user input are stored as strings (String data type). We need to\n",
    "# convert the coordinates from String to int\n",
    "trip_length = int(input_trip_length)"
   ]
  },
  {
   "cell_type": "code",
   "execution_count": 8,
   "metadata": {
    "collapsed": true
   },
   "outputs": [],
   "source": [
    "# Calculate the time of the trip in hours\n",
    "trip_time = trip_length / AVERAGE_SPEED\n",
    "\n",
    "# Calculate the amount of gas required in gallons\n",
    "gas_required = trip_length / FUEL_EFFICIENCY"
   ]
  },
  {
   "cell_type": "code",
   "execution_count": 9,
   "metadata": {},
   "outputs": [
    {
     "name": "stdout",
     "output_type": "stream",
     "text": [
      "The trip will take 3.3333333333333335 hours and requires 10.0 gallons of gas.\n"
     ]
    }
   ],
   "source": [
    "# Print the results\n",
    "print(\"The trip will take \" + str(trip_time) + \" hours and requires \" + str(gas_required) + \" gallons of gas.\")"
   ]
  }
 ],
 "metadata": {
  "kernelspec": {
   "display_name": "Python 3",
   "language": "python",
   "name": "python3"
  },
  "language_info": {
   "codemirror_mode": {
    "name": "ipython",
    "version": 3
   },
   "file_extension": ".py",
   "mimetype": "text/x-python",
   "name": "python",
   "nbconvert_exporter": "python",
   "pygments_lexer": "ipython3",
   "version": "3.6.3"
  }
 },
 "nbformat": 4,
 "nbformat_minor": 2
}
