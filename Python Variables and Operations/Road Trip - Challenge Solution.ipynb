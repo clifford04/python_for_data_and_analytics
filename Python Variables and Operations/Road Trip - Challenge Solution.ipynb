{
 "cells": [
  {
   "cell_type": "markdown",
   "metadata": {},
   "source": [
    "** Road Trip **\n",
    "\n",
    "This program takes user input for the distance of a road trip and determines how long it will take to complete using the car's average speed. It also determines how many gallons of gas the trip will require based on the car's fuel efficiency. <br>\n",
    "\n",
    "** Challenge **\n",
    "\n",
    "The duration of the trip is more useful to us if reported in hours and minutes instead of fractions of hours. Modify the code to reflect this change (e.g. for a 200 mile trip, report 3 hours 20 minutes instead of 3.33333 hours). <br>\n",
    "\n",
    "HINT: Use the modulus (%) operator to determine the numbers after the decimal of the trip_time variable."
   ]
  },
  {
   "cell_type": "code",
   "execution_count": 11,
   "metadata": {
    "collapsed": true
   },
   "outputs": [],
   "source": [
    "# Set variables\n",
    "AVERAGE_SPEED = 60 # 60 miles per hour\n",
    "FUEL_EFFICIENCY = 20 # 20 miles per gallon"
   ]
  },
  {
   "cell_type": "code",
   "execution_count": 12,
   "metadata": {},
   "outputs": [
    {
     "name": "stdout",
     "output_type": "stream",
     "text": [
      "Please enter the length of the road trip in miles: 250\n"
     ]
    }
   ],
   "source": [
    "# Get user input for the length of the road trip\n",
    "input_trip_length = input(\"Please enter the length of the road trip in miles: \")"
   ]
  },
  {
   "cell_type": "code",
   "execution_count": 13,
   "metadata": {
    "collapsed": true
   },
   "outputs": [],
   "source": [
    "# Values entered through user input are stored as strings (String data type). We need to\n",
    "# convert the coordinates from String to int\n",
    "trip_length = int(input_trip_length)"
   ]
  },
  {
   "cell_type": "code",
   "execution_count": 14,
   "metadata": {
    "collapsed": true
   },
   "outputs": [],
   "source": [
    "# Calculate the time of the trip in hours\n",
    "trip_time = trip_length / AVERAGE_SPEED\n",
    "\n",
    "trip_hours = int(trip_time)\n",
    "trip_minutes_fraction = trip_time % 1\n",
    "trip_minutes = int(trip_minutes_fraction * 60)\n",
    "\n",
    "# Calculate the amount of gas required in gallons\n",
    "gas_required = trip_length / FUEL_EFFICIENCY"
   ]
  },
  {
   "cell_type": "code",
   "execution_count": 15,
   "metadata": {},
   "outputs": [
    {
     "name": "stdout",
     "output_type": "stream",
     "text": [
      "The trip will take 4 hours 10 minutes and requires 12.5 gallons of gas.\n"
     ]
    }
   ],
   "source": [
    "# Print the results\n",
    "print(\"The trip will take \" + str(trip_hours) + \" hours \" + str(trip_minutes) + \" minutes and requires \" + str(gas_required) + \" gallons of gas.\")"
   ]
  }
 ],
 "metadata": {
  "kernelspec": {
   "display_name": "Python 3",
   "language": "python",
   "name": "python3"
  },
  "language_info": {
   "codemirror_mode": {
    "name": "ipython",
    "version": 3
   },
   "file_extension": ".py",
   "mimetype": "text/x-python",
   "name": "python",
   "nbconvert_exporter": "python",
   "pygments_lexer": "ipython3",
   "version": "3.6.3"
  }
 },
 "nbformat": 4,
 "nbformat_minor": 2
}
