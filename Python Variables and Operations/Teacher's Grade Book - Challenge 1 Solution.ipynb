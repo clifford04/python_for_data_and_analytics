{
 "cells": [
  {
   "cell_type": "markdown",
   "metadata": {},
   "source": [
    "## Teacher's Grade Book (1)\n",
    "A teacher is using a simple Python program to enter her student's grades. But she is running into a problem. She can't perform any math operations on the grades. Can you help her?\n",
    "\n",
    "### Challenge\n",
    "Fix the program below to help the teacher do the math on the grades that she needs to:<br>\n",
    "1. What is a student's cumulative number of points?\n",
    "2. What is the average score on an assignment?\n",
    "\n",
    "Assume every assignment is worth 100 points. Do not worry about percentages.\n",
    "\n",
    "**Note**: Because this is a simple program, each time the teacher enters a grade the Notebook Cell needs to be re-run. For this challenge, that is perfectly alright. This challenge is focused on typecasting and math operations and will be built upon later."
   ]
  },
  {
   "cell_type": "code",
   "execution_count": 3,
   "metadata": {
    "collapsed": true
   },
   "outputs": [],
   "source": [
    "# This is one student's total grade before the next assignment is entered.\n",
    "# Do not change this value in completing the challenge.\n",
    "score = 90"
   ]
  },
  {
   "cell_type": "code",
   "execution_count": 1,
   "metadata": {},
   "outputs": [
    {
     "name": "stdout",
     "output_type": "stream",
     "text": [
      "Enter the number of points the student earned: 80\n"
     ]
    }
   ],
   "source": [
    "new_score = int(input(\"Enter the number of points the student earned: \"))\n",
    "# OR\n",
    "# new_score = double(input(\"Enter the number of points the student earned: \"))"
   ]
  },
  {
   "cell_type": "code",
   "execution_count": 4,
   "metadata": {},
   "outputs": [
    {
     "data": {
      "text/plain": [
       "170"
      ]
     },
     "execution_count": 4,
     "metadata": {},
     "output_type": "execute_result"
    }
   ],
   "source": [
    "score = score + new_score\n",
    "score"
   ]
  },
  {
   "cell_type": "code",
   "execution_count": 5,
   "metadata": {},
   "outputs": [
    {
     "name": "stdout",
     "output_type": "stream",
     "text": [
      "How many students are there? 5\n"
     ]
    },
    {
     "data": {
      "text/plain": [
       "144.0"
      ]
     },
     "execution_count": 5,
     "metadata": {},
     "output_type": "execute_result"
    }
   ],
   "source": [
    "total_score = 720        # This is the sum of scores of all students for one assignment.\n",
    "students = int(input('How many students are there? '))      # must be an int (can't have part of a student)\n",
    "average_score = total_score / students\n",
    "average_score"
   ]
  },
  {
   "cell_type": "code",
   "execution_count": null,
   "metadata": {
    "collapsed": true
   },
   "outputs": [],
   "source": []
  }
 ],
 "metadata": {
  "kernelspec": {
   "display_name": "Python 3",
   "language": "python",
   "name": "python3"
  },
  "language_info": {
   "codemirror_mode": {
    "name": "ipython",
    "version": 3
   },
   "file_extension": ".py",
   "mimetype": "text/x-python",
   "name": "python",
   "nbconvert_exporter": "python",
   "pygments_lexer": "ipython3",
   "version": "3.6.1"
  }
 },
 "nbformat": 4,
 "nbformat_minor": 2
}
