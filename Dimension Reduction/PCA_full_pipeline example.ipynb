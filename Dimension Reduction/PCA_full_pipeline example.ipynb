{
 "cells": [
  {
   "cell_type": "code",
   "execution_count": 20,
   "id": "86fee82a-0600-4041-87e9-8657ac449645",
   "metadata": {},
   "outputs": [],
   "source": [
    "import pandas as pd\n",
    "from sklearn.decomposition import PCA\n",
    "from sklearn.preprocessing import StandardScaler\n",
    "import matplotlib.pyplot as plt\n",
    "\n",
    "from sklearn.ensemble import RandomForestClassifier\n",
    "from sklearn.model_selection import train_test_split\n",
    "from sklearn.metrics import accuracy_score, classification_report"
   ]
  },
  {
   "cell_type": "code",
   "execution_count": 7,
   "id": "5c8a8aa3-ae92-4e41-8c4f-bef88a1fe182",
   "metadata": {},
   "outputs": [
    {
     "data": {
      "text/html": [
       "<div>\n",
       "<style scoped>\n",
       "    .dataframe tbody tr th:only-of-type {\n",
       "        vertical-align: middle;\n",
       "    }\n",
       "\n",
       "    .dataframe tbody tr th {\n",
       "        vertical-align: top;\n",
       "    }\n",
       "\n",
       "    .dataframe thead th {\n",
       "        text-align: right;\n",
       "    }\n",
       "</style>\n",
       "<table border=\"1\" class=\"dataframe\">\n",
       "  <thead>\n",
       "    <tr style=\"text-align: right;\">\n",
       "      <th></th>\n",
       "      <th>Pregnancies</th>\n",
       "      <th>Glucose</th>\n",
       "      <th>BloodPressure</th>\n",
       "      <th>SkinThickness</th>\n",
       "      <th>Insulin</th>\n",
       "      <th>BMI</th>\n",
       "      <th>DiabetesPedigreeFunction</th>\n",
       "      <th>Age</th>\n",
       "      <th>Outcome</th>\n",
       "    </tr>\n",
       "  </thead>\n",
       "  <tbody>\n",
       "    <tr>\n",
       "      <th>0</th>\n",
       "      <td>6</td>\n",
       "      <td>148</td>\n",
       "      <td>72</td>\n",
       "      <td>35</td>\n",
       "      <td>0</td>\n",
       "      <td>33.6</td>\n",
       "      <td>0.627</td>\n",
       "      <td>50</td>\n",
       "      <td>1</td>\n",
       "    </tr>\n",
       "    <tr>\n",
       "      <th>1</th>\n",
       "      <td>1</td>\n",
       "      <td>85</td>\n",
       "      <td>66</td>\n",
       "      <td>29</td>\n",
       "      <td>0</td>\n",
       "      <td>26.6</td>\n",
       "      <td>0.351</td>\n",
       "      <td>31</td>\n",
       "      <td>0</td>\n",
       "    </tr>\n",
       "    <tr>\n",
       "      <th>2</th>\n",
       "      <td>8</td>\n",
       "      <td>183</td>\n",
       "      <td>64</td>\n",
       "      <td>0</td>\n",
       "      <td>0</td>\n",
       "      <td>23.3</td>\n",
       "      <td>0.672</td>\n",
       "      <td>32</td>\n",
       "      <td>1</td>\n",
       "    </tr>\n",
       "    <tr>\n",
       "      <th>3</th>\n",
       "      <td>1</td>\n",
       "      <td>89</td>\n",
       "      <td>66</td>\n",
       "      <td>23</td>\n",
       "      <td>94</td>\n",
       "      <td>28.1</td>\n",
       "      <td>0.167</td>\n",
       "      <td>21</td>\n",
       "      <td>0</td>\n",
       "    </tr>\n",
       "    <tr>\n",
       "      <th>4</th>\n",
       "      <td>0</td>\n",
       "      <td>137</td>\n",
       "      <td>40</td>\n",
       "      <td>35</td>\n",
       "      <td>168</td>\n",
       "      <td>43.1</td>\n",
       "      <td>2.288</td>\n",
       "      <td>33</td>\n",
       "      <td>1</td>\n",
       "    </tr>\n",
       "  </tbody>\n",
       "</table>\n",
       "</div>"
      ],
      "text/plain": [
       "   Pregnancies  Glucose  BloodPressure  SkinThickness  Insulin   BMI  \\\n",
       "0            6      148             72             35        0  33.6   \n",
       "1            1       85             66             29        0  26.6   \n",
       "2            8      183             64              0        0  23.3   \n",
       "3            1       89             66             23       94  28.1   \n",
       "4            0      137             40             35      168  43.1   \n",
       "\n",
       "   DiabetesPedigreeFunction  Age  Outcome  \n",
       "0                     0.627   50        1  \n",
       "1                     0.351   31        0  \n",
       "2                     0.672   32        1  \n",
       "3                     0.167   21        0  \n",
       "4                     2.288   33        1  "
      ]
     },
     "execution_count": 7,
     "metadata": {},
     "output_type": "execute_result"
    }
   ],
   "source": [
    "data = pd.read_csv('pima_indians_diabetes.csv')\n",
    "data.head()\n"
   ]
  },
  {
   "cell_type": "markdown",
   "id": "a28c103e-08ca-4b6a-b51e-7e354a21db71",
   "metadata": {},
   "source": [
    "### Data Dictionary\n",
    "\n",
    "* Pregnancies: Number of pregnancies\n",
    "* Glucose: Plasma glucose concentration\n",
    "* BloodPressure: Diastolic blood pressure (mm Hg)\n",
    "* SkinThickness: Triceps skin fold thickness (mm)\n",
    "* Insulin: 2-Hour serum insulin (mu U/ml)\n",
    "* BMI: Body mass index (weight in kg/(height in m)^2)\n",
    "* DiabetesPedigreeFunction: Diabetes pedigree function\n",
    "* Age: Age in years\n",
    "* Outcome: Class variable (0 or 1, indicating diabetes status)\n",
    "  "
   ]
  },
  {
   "cell_type": "code",
   "execution_count": 10,
   "id": "1656024b-e688-42df-a818-680e7780d9c1",
   "metadata": {},
   "outputs": [],
   "source": [
    "# Separate features and target variable\n",
    "features = data.drop(columns=['Outcome'])\n",
    "target = data['Outcome']"
   ]
  },
  {
   "cell_type": "code",
   "execution_count": 12,
   "id": "bcd0cda0-bfcb-42a2-aed0-ed8a68c5871b",
   "metadata": {},
   "outputs": [],
   "source": [
    "# Standardize the features\n",
    "scaler = StandardScaler()\n",
    "features_scaled = scaler.fit_transform(features)"
   ]
  },
  {
   "cell_type": "code",
   "execution_count": 36,
   "id": "ef068a04-f3d1-48bf-b7eb-65d0be226306",
   "metadata": {},
   "outputs": [],
   "source": [
    "# Perform PCA\n",
    "pca = PCA(n_components=3)\n",
    "features_pca = pca.fit_transform(features_scaled)\n",
    "\n",
    "# Explained variance ratio\n",
    "explained_variance_ratio = pca.explained_variance_ratio_\n",
    "\n",
    "# Create a dataframe for PCA results\n",
    "pca_results = pd.DataFrame({\n",
    "    'Principal Component': [f'PC{i+1}' for i in range(len(explained_variance_ratio))],\n",
    "    'Explained Variance Ratio': explained_variance_ratio\n",
    "})\n",
    "\n",
    "# Save PCA results for visualization\n",
    "pca_results_path = 'pca_results.csv'\n",
    "pca_results.to_csv(pca_results_path, index=False)"
   ]
  },
  {
   "cell_type": "code",
   "execution_count": 38,
   "id": "ac1b821d-7332-4cfc-87be-be80729c39d8",
   "metadata": {},
   "outputs": [
    {
     "data": {
      "image/png": "[encoded data removed]",
      "text/plain": [
       "<Figure size 800x500 with 1 Axes>"
      ]
     },
     "metadata": {},
     "output_type": "display_data"
    }
   ],
   "source": [
    "# Prepare the explained variance plot\n",
    "plt.figure(figsize=(8, 5))\n",
    "plt.bar(range(1, len(explained_variance_ratio) + 1), explained_variance_ratio, alpha=0.7)\n",
    "plt.xlabel('Principal Components')\n",
    "plt.ylabel('Explained Variance Ratio')\n",
    "plt.title('Explained Variance Ratio by Principal Component')\n",
    "plt.show()\n"
   ]
  },
  {
   "cell_type": "code",
   "execution_count": 40,
   "id": "8d2c4ca6-e976-45eb-93a6-d50c48332ed8",
   "metadata": {},
   "outputs": [],
   "source": [
    "# Save the PCA-transformed dataset\n",
    "pca_features_path = 'pca_transformed_features.csv'\n",
    "pca_features_df = pd.DataFrame(features_pca, columns=[f'PC{i+1}' for i in range(features_pca.shape[1])])\n",
    "pca_features_df['Outcome'] = target.values\n",
    "pca_features_df.to_csv(pca_features_path, index=False)"
   ]
  },
  {
   "cell_type": "markdown",
   "id": "6e7865a3-2766-44d4-901b-302552bee017",
   "metadata": {},
   "source": [
    "### Training RandomForest Model Using PCA Components\n",
    "\n",
    "* **PCA Components**: We use the top 5 principal components as features for the model.\n",
    "* **Train-Test Split**: The dataset is split into training (70%) and testing (30%) sets, ensuring stratification for balanced class proportions.\n",
    "* **Random Forest Model**:\n",
    "    * random_state=42: Ensures reproducibility.\n",
    "    * n_estimators=100: Uses 100 trees in the forest.\n",
    "* **Model Validation**:\n",
    "    * The accuracy_score computes the overall accuracy.\n",
    "    * The classification_report provides precision, recall, and F1-score for each class."
   ]
  },
  {
   "cell_type": "code",
   "execution_count": 42,
   "id": "72366b49-27ef-4db5-acb6-e33ebe1e3e80",
   "metadata": {},
   "outputs": [
    {
     "name": "stdout",
     "output_type": "stream",
     "text": [
      "Accuracy: 0.70\n",
      "Classification Report:\n",
      "              precision    recall  f1-score   support\n",
      "\n",
      "           0       0.74      0.83      0.78       150\n",
      "           1       0.60      0.46      0.52        81\n",
      "\n",
      "    accuracy                           0.70       231\n",
      "   macro avg       0.67      0.65      0.65       231\n",
      "weighted avg       0.69      0.70      0.69       231\n",
      "\n"
     ]
    }
   ],
   "source": [
    "\n",
    "# Use the first few principal components for training (decide based on explained variance)\n",
    "num_components = 3  # Choose top 3 components (can adjust as needed)\n",
    "X_pca = features_pca[:, :num_components]\n",
    "\n",
    "# Split the dataset\n",
    "X_train, X_test, y_train, y_test = train_test_split(X_pca, target, test_size=0.3, random_state=42, stratify=target)\n",
    "\n",
    "# Train a Random Forest model\n",
    "rf_model = RandomForestClassifier(random_state=42, n_estimators=100)\n",
    "rf_model.fit(X_train, y_train)\n",
    "\n",
    "# Make predictions\n",
    "y_pred = rf_model.predict(X_test)\n",
    "\n",
    "# Evaluate the model\n",
    "accuracy = accuracy_score(y_test, y_pred)\n",
    "classification_rep = classification_report(y_test, y_pred)\n",
    "\n",
    "print(f\"Accuracy: {accuracy:.2f}\")\n",
    "print(\"Classification Report:\")\n",
    "print(classification_rep)\n"
   ]
  },
  {
   "cell_type": "markdown",
   "id": "37d62346-15ea-4ada-8982-f7bf3cdd416f",
   "metadata": {},
   "source": [
    "**Note**: The classification report indicates that the model performs better for classifying class 0 than class 1."
   ]
  },
  {
   "cell_type": "markdown",
   "id": "e08ea2cb-6356-496f-81da-bc15bc63d066",
   "metadata": {},
   "source": [
    "### Identify Feature Importances\n"
   ]
  },
  {
   "cell_type": "code",
   "execution_count": 54,
   "id": "4ac46d43-155e-4e3f-911c-f6995bb33573",
   "metadata": {},
   "outputs": [
    {
     "data": {
      "image/png": "[encoded data removed]",
      "text/plain": [
       "<Figure size 800x500 with 1 Axes>"
      ]
     },
     "metadata": {},
     "output_type": "display_data"
    }
   ],
   "source": [
    "# Get feature importances from the Random Forest model\n",
    "feature_importances = rf_model.feature_importances_\n",
    "\n",
    "# Create labels for the principal components used\n",
    "labels = [f'PC{i+1}' for i in range(num_components)]\n",
    "\n",
    "# Plot feature importances\n",
    "plt.figure(figsize=(8, 5))\n",
    "plt.bar(labels, feature_importances, alpha=0.7)\n",
    "plt.xlabel('Principal Components')\n",
    "plt.ylabel('Feature Importance Score')\n",
    "plt.title('Feature Importance Scores by Principal Component')\n",
    "plt.xticks(rotation=45)\n",
    "plt.tight_layout()\n",
    "\n",
    "# Show the plot\n",
    "plt.show()"
   ]
  },
  {
   "cell_type": "markdown",
   "id": "a1c89e15-7e51-482a-94a4-5a8d9b96b440",
   "metadata": {},
   "source": [
    "### Making Predictions with New Data\n",
    "\n",
    "To make predictions with new data using the Random Forest model trained on PCA-transformed features, you need to preprocess the data as follows:\n",
    "\n",
    "1. Standardize the new data: Ensure the new data is scaled using the same _StandardScaler_ used on the training data.\n",
    "2. Transform using PCA: Project the standardized data onto the principal components using the trained PCA object.\n",
    "3. Make Predictions: Use the trained Random Forest model to make predictions on the transformed data."
   ]
  },
  {
   "cell_type": "code",
   "execution_count": 44,
   "id": "2e97d9c9-dbcb-4c71-aa3b-f35cbb354295",
   "metadata": {},
   "outputs": [
    {
     "name": "stdout",
     "output_type": "stream",
     "text": [
      "Predicted Outcome: [0]\n"
     ]
    },
    {
     "name": "stderr",
     "output_type": "stream",
     "text": [
      "/opt/anaconda3/lib/python3.12/site-packages/sklearn/base.py:493: UserWarning: X does not have valid feature names, but StandardScaler was fitted with feature names\n",
      "  warnings.warn(\n"
     ]
    }
   ],
   "source": [
    "# Example new data \n",
    "new_data = [[5, 120, 70, 25, 100, 30.0, 0.5, 35]]  # Replace with new data rows\n",
    "\n",
    "# Step 1: Standardize the new data\n",
    "new_data_scaled = scaler.transform(new_data)  # Use the previously trained scaler\n",
    "\n",
    "# Step 2: Transform using PCA\n",
    "new_data_pca = pca.transform(new_data_scaled)[:, :num_components]  # Project onto top components\n",
    "\n",
    "# Step 3: Make predictions\n",
    "new_predictions = rf_model.predict(new_data_pca)\n",
    "\n",
    "print(\"Predicted Outcome:\", new_predictions)\n"
   ]
  },
  {
   "cell_type": "markdown",
   "id": "93725538-b87a-42c8-a7a1-1605aeaa16e8",
   "metadata": {},
   "source": [
    "### Mapping New Data to Principal Components\n",
    "\n",
    "Principal components are linear combinations of the original standardized features. Each principal component is defined by its loadings, which are the weights assigned to each feature during PCA.\n",
    "\n",
    "**Steps:**\n",
    "\n",
    "1. The original standardized feature vector (e.g., [z1, z2, ..., zn]) is multiplied by the loading matrix of PCA.\n",
    "2. The output is a lower-dimensional representation where each principal component captures a combination of the original features.\n",
    "\n",
    "For example, if PCA assigns weights to features as:\n",
    "\n",
    "* PC1 = 0.3*Glucose + 0.4*BloodPressure + ...\n",
    "* PC2 = -0.2*Glucose + 0.5*BMI + ...\n",
    "\n",
    "The transformation involves multiplying these weights by the respective scaled feature values in the new data."
   ]
  },
  {
   "cell_type": "code",
   "execution_count": null,
   "id": "20154c03-d108-40c6-8723-ba3f3e920cb5",
   "metadata": {},
   "outputs": [],
   "source": []
  }
 ],
 "metadata": {
  "kernelspec": {
   "display_name": "Python 3 (ipykernel)",
   "language": "python",
   "name": "python3"
  },
  "language_info": {
   "codemirror_mode": {
    "name": "ipython",
    "version": 3
   },
   "file_extension": ".py",
   "mimetype": "text/x-python",
   "name": "python",
   "nbconvert_exporter": "python",
   "pygments_lexer": "ipython3",
   "version": "3.12.4"
  }
 },
 "nbformat": 4,
 "nbformat_minor": 5
}
