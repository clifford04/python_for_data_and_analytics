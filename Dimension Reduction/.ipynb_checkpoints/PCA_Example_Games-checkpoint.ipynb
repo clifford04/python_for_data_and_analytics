{
 "cells": [
  {
   "cell_type": "markdown",
   "metadata": {},
   "source": [
    "<h1 align=\"center\"> PCA + Logistic Regression (MNIST) </h1>\n",
    "* https://towardsdatascience.com/pca-using-python-scikit-learn-e653f8989e60\n",
    "* https://github.com/mGalarnyk/Python_Tutorials/blob/master/Sklearn/PCA/PCA_to_Speed-up_Machine_Learning_Algorithms.ipynb\n",
    "* https://www.analyticsvidhya.com/blog/2016/03/practical-guide-principal-component-analysis-python/"
   ]
  },
  {
   "cell_type": "code",
   "execution_count": 23,
   "metadata": {
    "collapsed": true
   },
   "outputs": [],
   "source": [
    "from sklearn.datasets import fetch_mldata\n",
    "from sklearn.decomposition import PCA\n",
    "from sklearn.preprocessing import StandardScaler\n",
    "from sklearn import metrics\n",
    "from sklearn.model_selection import train_test_split\n",
    "import pandas as pd\n",
    "%matplotlib inline\n",
    "from sklearn.preprocessing import LabelEncoder"
   ]
  },
  {
   "cell_type": "markdown",
   "metadata": {},
   "source": [
    "## Download and Load the Data"
   ]
  },
  {
   "cell_type": "code",
   "execution_count": 24,
   "metadata": {
    "scrolled": true
   },
   "outputs": [
    {
     "data": {
      "text/html": [
       "<div>\n",
       "<style>\n",
       "    .dataframe thead tr:only-child th {\n",
       "        text-align: right;\n",
       "    }\n",
       "\n",
       "    .dataframe thead th {\n",
       "        text-align: left;\n",
       "    }\n",
       "\n",
       "    .dataframe tbody tr th {\n",
       "        vertical-align: top;\n",
       "    }\n",
       "</style>\n",
       "<table border=\"1\" class=\"dataframe\">\n",
       "  <thead>\n",
       "    <tr style=\"text-align: right;\">\n",
       "      <th></th>\n",
       "      <th>rank</th>\n",
       "      <th>bgg_url</th>\n",
       "      <th>game_id</th>\n",
       "      <th>names</th>\n",
       "      <th>min_players</th>\n",
       "      <th>max_players</th>\n",
       "      <th>avg_time</th>\n",
       "      <th>min_time</th>\n",
       "      <th>max_time</th>\n",
       "      <th>year</th>\n",
       "      <th>avg_rating</th>\n",
       "      <th>geek_rating</th>\n",
       "      <th>num_votes</th>\n",
       "      <th>image_url</th>\n",
       "      <th>age</th>\n",
       "      <th>mechanic</th>\n",
       "      <th>owned</th>\n",
       "      <th>category</th>\n",
       "      <th>designer</th>\n",
       "      <th>weight</th>\n",
       "    </tr>\n",
       "  </thead>\n",
       "  <tbody>\n",
       "    <tr>\n",
       "      <th>0</th>\n",
       "      <td>1</td>\n",
       "      <td>https://boardgamegeek.com/boardgame/174430/glo...</td>\n",
       "      <td>174430</td>\n",
       "      <td>Gloomhaven</td>\n",
       "      <td>1</td>\n",
       "      <td>4</td>\n",
       "      <td>120</td>\n",
       "      <td>60</td>\n",
       "      <td>120</td>\n",
       "      <td>2017</td>\n",
       "      <td>8.98893</td>\n",
       "      <td>8.61858</td>\n",
       "      <td>15376</td>\n",
       "      <td>https://cf.geekdo-images.com/original/img/lDN3...</td>\n",
       "      <td>12</td>\n",
       "      <td>Action / Movement Programming, Co-operative Pl...</td>\n",
       "      <td>25928</td>\n",
       "      <td>Adventure, Exploration, Fantasy, Fighting, Min...</td>\n",
       "      <td>Isaac Childres</td>\n",
       "      <td>3.7543</td>\n",
       "    </tr>\n",
       "    <tr>\n",
       "      <th>1</th>\n",
       "      <td>2</td>\n",
       "      <td>https://boardgamegeek.com/boardgame/161936/pan...</td>\n",
       "      <td>161936</td>\n",
       "      <td>Pandemic Legacy: Season 1</td>\n",
       "      <td>2</td>\n",
       "      <td>4</td>\n",
       "      <td>60</td>\n",
       "      <td>60</td>\n",
       "      <td>60</td>\n",
       "      <td>2015</td>\n",
       "      <td>8.66140</td>\n",
       "      <td>8.50163</td>\n",
       "      <td>26063</td>\n",
       "      <td>https://cf.geekdo-images.com/original/img/P_Sw...</td>\n",
       "      <td>13</td>\n",
       "      <td>Action Point Allowance System, Co-operative Pl...</td>\n",
       "      <td>41605</td>\n",
       "      <td>Environmental, Medical</td>\n",
       "      <td>Rob Daviau, Matt Leacock</td>\n",
       "      <td>2.8210</td>\n",
       "    </tr>\n",
       "    <tr>\n",
       "      <th>2</th>\n",
       "      <td>3</td>\n",
       "      <td>https://boardgamegeek.com/boardgame/182028/thr...</td>\n",
       "      <td>182028</td>\n",
       "      <td>Through the Ages: A New Story of Civilization</td>\n",
       "      <td>2</td>\n",
       "      <td>4</td>\n",
       "      <td>240</td>\n",
       "      <td>180</td>\n",
       "      <td>240</td>\n",
       "      <td>2015</td>\n",
       "      <td>8.60673</td>\n",
       "      <td>8.30183</td>\n",
       "      <td>12352</td>\n",
       "      <td>https://cf.geekdo-images.com/original/img/1d2h...</td>\n",
       "      <td>14</td>\n",
       "      <td>Action Point Allowance System, Auction/Bidding...</td>\n",
       "      <td>15848</td>\n",
       "      <td>Card Game, Civilization, Economic</td>\n",
       "      <td>Vlaada ChvÃ¡til</td>\n",
       "      <td>4.3678</td>\n",
       "    </tr>\n",
       "    <tr>\n",
       "      <th>3</th>\n",
       "      <td>4</td>\n",
       "      <td>https://boardgamegeek.com/boardgame/167791/ter...</td>\n",
       "      <td>167791</td>\n",
       "      <td>Terraforming Mars</td>\n",
       "      <td>1</td>\n",
       "      <td>5</td>\n",
       "      <td>120</td>\n",
       "      <td>120</td>\n",
       "      <td>120</td>\n",
       "      <td>2016</td>\n",
       "      <td>8.38461</td>\n",
       "      <td>8.19914</td>\n",
       "      <td>26004</td>\n",
       "      <td>https://cf.geekdo-images.com/original/img/o8z_...</td>\n",
       "      <td>12</td>\n",
       "      <td>Card Drafting, Hand Management, Set Collection...</td>\n",
       "      <td>33340</td>\n",
       "      <td>Economic, Environmental, Industry / Manufactur...</td>\n",
       "      <td>Jacob Fryxelius</td>\n",
       "      <td>3.2456</td>\n",
       "    </tr>\n",
       "    <tr>\n",
       "      <th>4</th>\n",
       "      <td>5</td>\n",
       "      <td>https://boardgamegeek.com/boardgame/12333/twil...</td>\n",
       "      <td>12333</td>\n",
       "      <td>Twilight Struggle</td>\n",
       "      <td>2</td>\n",
       "      <td>2</td>\n",
       "      <td>180</td>\n",
       "      <td>120</td>\n",
       "      <td>180</td>\n",
       "      <td>2005</td>\n",
       "      <td>8.33954</td>\n",
       "      <td>8.19787</td>\n",
       "      <td>31301</td>\n",
       "      <td>https://cf.geekdo-images.com/original/img/ZPnn...</td>\n",
       "      <td>13</td>\n",
       "      <td>Area Control / Area Influence, Campaign / Batt...</td>\n",
       "      <td>42952</td>\n",
       "      <td>Modern Warfare, Political, Wargame</td>\n",
       "      <td>Ananda Gupta, Jason Matthews</td>\n",
       "      <td>3.5518</td>\n",
       "    </tr>\n",
       "  </tbody>\n",
       "</table>\n",
       "</div>"
      ],
      "text/plain": [
       "   rank                                            bgg_url  game_id  \\\n",
       "0     1  https://boardgamegeek.com/boardgame/174430/glo...   174430   \n",
       "1     2  https://boardgamegeek.com/boardgame/161936/pan...   161936   \n",
       "2     3  https://boardgamegeek.com/boardgame/182028/thr...   182028   \n",
       "3     4  https://boardgamegeek.com/boardgame/167791/ter...   167791   \n",
       "4     5  https://boardgamegeek.com/boardgame/12333/twil...    12333   \n",
       "\n",
       "                                           names  min_players  max_players  \\\n",
       "0                                     Gloomhaven            1            4   \n",
       "1                      Pandemic Legacy: Season 1            2            4   \n",
       "2  Through the Ages: A New Story of Civilization            2            4   \n",
       "3                              Terraforming Mars            1            5   \n",
       "4                              Twilight Struggle            2            2   \n",
       "\n",
       "   avg_time  min_time  max_time  year  avg_rating  geek_rating  num_votes  \\\n",
       "0       120        60       120  2017     8.98893      8.61858      15376   \n",
       "1        60        60        60  2015     8.66140      8.50163      26063   \n",
       "2       240       180       240  2015     8.60673      8.30183      12352   \n",
       "3       120       120       120  2016     8.38461      8.19914      26004   \n",
       "4       180       120       180  2005     8.33954      8.19787      31301   \n",
       "\n",
       "                                           image_url  age  \\\n",
       "0  https://cf.geekdo-images.com/original/img/lDN3...   12   \n",
       "1  https://cf.geekdo-images.com/original/img/P_Sw...   13   \n",
       "2  https://cf.geekdo-images.com/original/img/1d2h...   14   \n",
       "3  https://cf.geekdo-images.com/original/img/o8z_...   12   \n",
       "4  https://cf.geekdo-images.com/original/img/ZPnn...   13   \n",
       "\n",
       "                                            mechanic  owned  \\\n",
       "0  Action / Movement Programming, Co-operative Pl...  25928   \n",
       "1  Action Point Allowance System, Co-operative Pl...  41605   \n",
       "2  Action Point Allowance System, Auction/Bidding...  15848   \n",
       "3  Card Drafting, Hand Management, Set Collection...  33340   \n",
       "4  Area Control / Area Influence, Campaign / Batt...  42952   \n",
       "\n",
       "                                            category  \\\n",
       "0  Adventure, Exploration, Fantasy, Fighting, Min...   \n",
       "1                             Environmental, Medical   \n",
       "2                  Card Game, Civilization, Economic   \n",
       "3  Economic, Environmental, Industry / Manufactur...   \n",
       "4                 Modern Warfare, Political, Wargame   \n",
       "\n",
       "                       designer  weight  \n",
       "0                Isaac Childres  3.7543  \n",
       "1      Rob Daviau, Matt Leacock  2.8210  \n",
       "2               Vlaada ChvÃ¡til  4.3678  \n",
       "3               Jacob Fryxelius  3.2456  \n",
       "4  Ananda Gupta, Jason Matthews  3.5518  "
      ]
     },
     "execution_count": 24,
     "metadata": {},
     "output_type": "execute_result"
    }
   ],
   "source": [
    "df = pd.read_csv(\"bgg_db_1806.csv\", encoding='latin-1')\n",
    "df.head()"
   ]
  },
  {
   "cell_type": "code",
   "execution_count": 25,
   "metadata": {},
   "outputs": [
    {
     "data": {
      "text/plain": [
       "<matplotlib.axes._subplots.AxesSubplot at 0x117e436a0>"
      ]
     },
     "execution_count": 25,
     "metadata": {},
     "output_type": "execute_result"
    },
    {
     "data": {
      "image/png": "[encoded data removed]",
      "text/plain": [
       "<matplotlib.figure.Figure at 0x1180df160>"
      ]
     },
     "metadata": {},
     "output_type": "display_data"
    }
   ],
   "source": [
    "df['avg_rating'].hist()"
   ]
  },
  {
   "cell_type": "code",
   "execution_count": 26,
   "metadata": {
    "collapsed": true
   },
   "outputs": [],
   "source": [
    "df[\"avg_rating_buckets\"] = pd.cut(df.avg_rating, [0,4,6,8,10], labels=[\"abysmal\", \"low\", \"average\", \"high\"], include_lowest=True)"
   ]
  },
  {
   "cell_type": "code",
   "execution_count": 27,
   "metadata": {},
   "outputs": [
    {
     "data": {
      "text/html": [
       "<div>\n",
       "<style>\n",
       "    .dataframe thead tr:only-child th {\n",
       "        text-align: right;\n",
       "    }\n",
       "\n",
       "    .dataframe thead th {\n",
       "        text-align: left;\n",
       "    }\n",
       "\n",
       "    .dataframe tbody tr th {\n",
       "        vertical-align: top;\n",
       "    }\n",
       "</style>\n",
       "<table border=\"1\" class=\"dataframe\">\n",
       "  <thead>\n",
       "    <tr style=\"text-align: right;\">\n",
       "      <th></th>\n",
       "      <th>rank</th>\n",
       "      <th>bgg_url</th>\n",
       "      <th>game_id</th>\n",
       "      <th>names</th>\n",
       "      <th>min_players</th>\n",
       "      <th>max_players</th>\n",
       "      <th>avg_time</th>\n",
       "      <th>min_time</th>\n",
       "      <th>max_time</th>\n",
       "      <th>year</th>\n",
       "      <th>...</th>\n",
       "      <th>geek_rating</th>\n",
       "      <th>num_votes</th>\n",
       "      <th>image_url</th>\n",
       "      <th>age</th>\n",
       "      <th>mechanic</th>\n",
       "      <th>owned</th>\n",
       "      <th>category</th>\n",
       "      <th>designer</th>\n",
       "      <th>weight</th>\n",
       "      <th>avg_rating_buckets</th>\n",
       "    </tr>\n",
       "  </thead>\n",
       "  <tbody>\n",
       "    <tr>\n",
       "      <th>0</th>\n",
       "      <td>1</td>\n",
       "      <td>https://boardgamegeek.com/boardgame/174430/glo...</td>\n",
       "      <td>174430</td>\n",
       "      <td>Gloomhaven</td>\n",
       "      <td>1</td>\n",
       "      <td>4</td>\n",
       "      <td>120</td>\n",
       "      <td>60</td>\n",
       "      <td>120</td>\n",
       "      <td>2017</td>\n",
       "      <td>...</td>\n",
       "      <td>8.61858</td>\n",
       "      <td>15376</td>\n",
       "      <td>https://cf.geekdo-images.com/original/img/lDN3...</td>\n",
       "      <td>12</td>\n",
       "      <td>Action / Movement Programming, Co-operative Pl...</td>\n",
       "      <td>25928</td>\n",
       "      <td>Adventure, Exploration, Fantasy, Fighting, Min...</td>\n",
       "      <td>Isaac Childres</td>\n",
       "      <td>3.7543</td>\n",
       "      <td>high</td>\n",
       "    </tr>\n",
       "    <tr>\n",
       "      <th>1</th>\n",
       "      <td>2</td>\n",
       "      <td>https://boardgamegeek.com/boardgame/161936/pan...</td>\n",
       "      <td>161936</td>\n",
       "      <td>Pandemic Legacy: Season 1</td>\n",
       "      <td>2</td>\n",
       "      <td>4</td>\n",
       "      <td>60</td>\n",
       "      <td>60</td>\n",
       "      <td>60</td>\n",
       "      <td>2015</td>\n",
       "      <td>...</td>\n",
       "      <td>8.50163</td>\n",
       "      <td>26063</td>\n",
       "      <td>https://cf.geekdo-images.com/original/img/P_Sw...</td>\n",
       "      <td>13</td>\n",
       "      <td>Action Point Allowance System, Co-operative Pl...</td>\n",
       "      <td>41605</td>\n",
       "      <td>Environmental, Medical</td>\n",
       "      <td>Rob Daviau, Matt Leacock</td>\n",
       "      <td>2.8210</td>\n",
       "      <td>high</td>\n",
       "    </tr>\n",
       "    <tr>\n",
       "      <th>2</th>\n",
       "      <td>3</td>\n",
       "      <td>https://boardgamegeek.com/boardgame/182028/thr...</td>\n",
       "      <td>182028</td>\n",
       "      <td>Through the Ages: A New Story of Civilization</td>\n",
       "      <td>2</td>\n",
       "      <td>4</td>\n",
       "      <td>240</td>\n",
       "      <td>180</td>\n",
       "      <td>240</td>\n",
       "      <td>2015</td>\n",
       "      <td>...</td>\n",
       "      <td>8.30183</td>\n",
       "      <td>12352</td>\n",
       "      <td>https://cf.geekdo-images.com/original/img/1d2h...</td>\n",
       "      <td>14</td>\n",
       "      <td>Action Point Allowance System, Auction/Bidding...</td>\n",
       "      <td>15848</td>\n",
       "      <td>Card Game, Civilization, Economic</td>\n",
       "      <td>Vlaada ChvÃ¡til</td>\n",
       "      <td>4.3678</td>\n",
       "      <td>high</td>\n",
       "    </tr>\n",
       "    <tr>\n",
       "      <th>3</th>\n",
       "      <td>4</td>\n",
       "      <td>https://boardgamegeek.com/boardgame/167791/ter...</td>\n",
       "      <td>167791</td>\n",
       "      <td>Terraforming Mars</td>\n",
       "      <td>1</td>\n",
       "      <td>5</td>\n",
       "      <td>120</td>\n",
       "      <td>120</td>\n",
       "      <td>120</td>\n",
       "      <td>2016</td>\n",
       "      <td>...</td>\n",
       "      <td>8.19914</td>\n",
       "      <td>26004</td>\n",
       "      <td>https://cf.geekdo-images.com/original/img/o8z_...</td>\n",
       "      <td>12</td>\n",
       "      <td>Card Drafting, Hand Management, Set Collection...</td>\n",
       "      <td>33340</td>\n",
       "      <td>Economic, Environmental, Industry / Manufactur...</td>\n",
       "      <td>Jacob Fryxelius</td>\n",
       "      <td>3.2456</td>\n",
       "      <td>high</td>\n",
       "    </tr>\n",
       "    <tr>\n",
       "      <th>4</th>\n",
       "      <td>5</td>\n",
       "      <td>https://boardgamegeek.com/boardgame/12333/twil...</td>\n",
       "      <td>12333</td>\n",
       "      <td>Twilight Struggle</td>\n",
       "      <td>2</td>\n",
       "      <td>2</td>\n",
       "      <td>180</td>\n",
       "      <td>120</td>\n",
       "      <td>180</td>\n",
       "      <td>2005</td>\n",
       "      <td>...</td>\n",
       "      <td>8.19787</td>\n",
       "      <td>31301</td>\n",
       "      <td>https://cf.geekdo-images.com/original/img/ZPnn...</td>\n",
       "      <td>13</td>\n",
       "      <td>Area Control / Area Influence, Campaign / Batt...</td>\n",
       "      <td>42952</td>\n",
       "      <td>Modern Warfare, Political, Wargame</td>\n",
       "      <td>Ananda Gupta, Jason Matthews</td>\n",
       "      <td>3.5518</td>\n",
       "      <td>high</td>\n",
       "    </tr>\n",
       "  </tbody>\n",
       "</table>\n",
       "<p>5 rows × 21 columns</p>\n",
       "</div>"
      ],
      "text/plain": [
       "   rank                                            bgg_url  game_id  \\\n",
       "0     1  https://boardgamegeek.com/boardgame/174430/glo...   174430   \n",
       "1     2  https://boardgamegeek.com/boardgame/161936/pan...   161936   \n",
       "2     3  https://boardgamegeek.com/boardgame/182028/thr...   182028   \n",
       "3     4  https://boardgamegeek.com/boardgame/167791/ter...   167791   \n",
       "4     5  https://boardgamegeek.com/boardgame/12333/twil...    12333   \n",
       "\n",
       "                                           names  min_players  max_players  \\\n",
       "0                                     Gloomhaven            1            4   \n",
       "1                      Pandemic Legacy: Season 1            2            4   \n",
       "2  Through the Ages: A New Story of Civilization            2            4   \n",
       "3                              Terraforming Mars            1            5   \n",
       "4                              Twilight Struggle            2            2   \n",
       "\n",
       "   avg_time  min_time  max_time  year         ...          geek_rating  \\\n",
       "0       120        60       120  2017         ...              8.61858   \n",
       "1        60        60        60  2015         ...              8.50163   \n",
       "2       240       180       240  2015         ...              8.30183   \n",
       "3       120       120       120  2016         ...              8.19914   \n",
       "4       180       120       180  2005         ...              8.19787   \n",
       "\n",
       "   num_votes                                          image_url age  \\\n",
       "0      15376  https://cf.geekdo-images.com/original/img/lDN3...  12   \n",
       "1      26063  https://cf.geekdo-images.com/original/img/P_Sw...  13   \n",
       "2      12352  https://cf.geekdo-images.com/original/img/1d2h...  14   \n",
       "3      26004  https://cf.geekdo-images.com/original/img/o8z_...  12   \n",
       "4      31301  https://cf.geekdo-images.com/original/img/ZPnn...  13   \n",
       "\n",
       "                                            mechanic  owned  \\\n",
       "0  Action / Movement Programming, Co-operative Pl...  25928   \n",
       "1  Action Point Allowance System, Co-operative Pl...  41605   \n",
       "2  Action Point Allowance System, Auction/Bidding...  15848   \n",
       "3  Card Drafting, Hand Management, Set Collection...  33340   \n",
       "4  Area Control / Area Influence, Campaign / Batt...  42952   \n",
       "\n",
       "                                            category  \\\n",
       "0  Adventure, Exploration, Fantasy, Fighting, Min...   \n",
       "1                             Environmental, Medical   \n",
       "2                  Card Game, Civilization, Economic   \n",
       "3  Economic, Environmental, Industry / Manufactur...   \n",
       "4                 Modern Warfare, Political, Wargame   \n",
       "\n",
       "                       designer  weight  avg_rating_buckets  \n",
       "0                Isaac Childres  3.7543                high  \n",
       "1      Rob Daviau, Matt Leacock  2.8210                high  \n",
       "2               Vlaada ChvÃ¡til  4.3678                high  \n",
       "3               Jacob Fryxelius  3.2456                high  \n",
       "4  Ananda Gupta, Jason Matthews  3.5518                high  \n",
       "\n",
       "[5 rows x 21 columns]"
      ]
     },
     "execution_count": 27,
     "metadata": {},
     "output_type": "execute_result"
    }
   ],
   "source": [
    "df.head()"
   ]
  },
  {
   "cell_type": "markdown",
   "metadata": {},
   "source": [
    "## Splitting Data into Training and Test Sets"
   ]
  },
  {
   "cell_type": "code",
   "execution_count": 28,
   "metadata": {
    "collapsed": true
   },
   "outputs": [],
   "source": [
    "def label_encode(df, columns):\n",
    "    for col in columns:\n",
    "        le = LabelEncoder()\n",
    "        col_values_unique = list(df[col].unique())\n",
    "        le_fitted = le.fit(col_values_unique)\n",
    " \n",
    "        col_values = list(df[col].values)\n",
    "        #le.classes_\n",
    "        col_values_transformed = le.transform(col_values)\n",
    "        df[col] = col_values_transformed\n",
    "        "
   ]
  },
  {
   "cell_type": "code",
   "execution_count": 29,
   "metadata": {},
   "outputs": [
    {
     "data": {
      "text/plain": [
       "Index(['rank', 'bgg_url', 'game_id', 'names', 'min_players', 'max_players',\n",
       "       'avg_time', 'min_time', 'max_time', 'year', 'avg_rating', 'geek_rating',\n",
       "       'num_votes', 'image_url', 'age', 'mechanic', 'owned', 'category',\n",
       "       'designer', 'weight', 'avg_rating_buckets'],\n",
       "      dtype='object')"
      ]
     },
     "execution_count": 29,
     "metadata": {},
     "output_type": "execute_result"
    }
   ],
   "source": [
    "df.columns"
   ]
  },
  {
   "cell_type": "code",
   "execution_count": 30,
   "metadata": {},
   "outputs": [
    {
     "name": "stderr",
     "output_type": "stream",
     "text": [
      "/Users/dmitriyb/anaconda3/lib/python3.6/site-packages/ipykernel_launcher.py:10: SettingWithCopyWarning: \n",
      "A value is trying to be set on a copy of a slice from a DataFrame.\n",
      "Try using .loc[row_indexer,col_indexer] = value instead\n",
      "\n",
      "See the caveats in the documentation: http://pandas.pydata.org/pandas-docs/stable/indexing.html#indexing-view-versus-copy\n",
      "  # Remove the CWD from sys.path while we load stuff.\n"
     ]
    }
   ],
   "source": [
    "# Encode Labels\n",
    "features = df[['rank', 'min_players', 'max_players', 'avg_time', 'min_time', 'max_time', \n",
    "               'year', 'num_votes', 'image_url', 'age', \n",
    "               'mechanic', 'owned', 'category','designer', 'weight']]\n",
    "\n",
    "label_encode(features, features.columns.values)\n",
    "\n",
    "target = df[['avg_rating_buckets']]\n",
    "label_encode(target, target.columns.values)\n",
    "\n"
   ]
  },
  {
   "cell_type": "code",
   "execution_count": 31,
   "metadata": {
    "collapsed": true
   },
   "outputs": [],
   "source": [
    "features_train, features_test, target_train, target_test = train_test_split(features, target, test_size = 0.33, random_state = 10)\n"
   ]
  },
  {
   "cell_type": "markdown",
   "metadata": {},
   "source": [
    "## PCA to Speed up Machine Learning Algorithms (Logistic Regression)"
   ]
  },
  {
   "cell_type": "markdown",
   "metadata": {},
   "source": [
    "<b>Step 0:</b> Import and use PCA. After PCA you will apply a machine learning algorithm of your choice to the transformed data"
   ]
  },
  {
   "cell_type": "code",
   "execution_count": 32,
   "metadata": {
    "collapsed": true
   },
   "outputs": [],
   "source": [
    "from sklearn.decomposition import PCA"
   ]
  },
  {
   "cell_type": "markdown",
   "metadata": {},
   "source": [
    "Make an instance of the Model"
   ]
  },
  {
   "cell_type": "code",
   "execution_count": 33,
   "metadata": {
    "collapsed": true
   },
   "outputs": [],
   "source": [
    "pca = PCA(n_components=3)"
   ]
  },
  {
   "cell_type": "markdown",
   "metadata": {},
   "source": [
    "Fit PCA on training set. <b>Note: you are fitting PCA on the training set only</b>"
   ]
  },
  {
   "cell_type": "code",
   "execution_count": 34,
   "metadata": {},
   "outputs": [
    {
     "data": {
      "text/plain": [
       "PCA(copy=True, iterated_power='auto', n_components=3, random_state=None,\n",
       "  svd_solver='auto', tol=0.0, whiten=False)"
      ]
     },
     "execution_count": 34,
     "metadata": {},
     "output_type": "execute_result"
    }
   ],
   "source": [
    "pca.fit(features_train)"
   ]
  },
  {
   "cell_type": "code",
   "execution_count": 35,
   "metadata": {
    "scrolled": true
   },
   "outputs": [
    {
     "name": "stdout",
     "output_type": "stream",
     "text": [
      "Explained Variance: [0.39911139 0.28091578 0.1129833 ]\n"
     ]
    }
   ],
   "source": [
    "print(\"Explained Variance:\", pca.explained_variance_ratio_)"
   ]
  },
  {
   "cell_type": "code",
   "execution_count": 36,
   "metadata": {},
   "outputs": [
    {
     "data": {
      "text/html": [
       "<div>\n",
       "<style>\n",
       "    .dataframe thead tr:only-child th {\n",
       "        text-align: right;\n",
       "    }\n",
       "\n",
       "    .dataframe thead th {\n",
       "        text-align: left;\n",
       "    }\n",
       "\n",
       "    .dataframe tbody tr th {\n",
       "        vertical-align: top;\n",
       "    }\n",
       "</style>\n",
       "<table border=\"1\" class=\"dataframe\">\n",
       "  <thead>\n",
       "    <tr style=\"text-align: right;\">\n",
       "      <th></th>\n",
       "      <th>component1</th>\n",
       "      <th>component2</th>\n",
       "      <th>component3</th>\n",
       "    </tr>\n",
       "  </thead>\n",
       "  <tbody>\n",
       "    <tr>\n",
       "      <th>0</th>\n",
       "      <td>-2069.713610</td>\n",
       "      <td>1185.267590</td>\n",
       "      <td>939.686472</td>\n",
       "    </tr>\n",
       "    <tr>\n",
       "      <th>1</th>\n",
       "      <td>-585.542596</td>\n",
       "      <td>36.611372</td>\n",
       "      <td>217.804106</td>\n",
       "    </tr>\n",
       "    <tr>\n",
       "      <th>2</th>\n",
       "      <td>1450.130353</td>\n",
       "      <td>-595.084707</td>\n",
       "      <td>-198.299377</td>\n",
       "    </tr>\n",
       "    <tr>\n",
       "      <th>3</th>\n",
       "      <td>-522.292095</td>\n",
       "      <td>-1317.784919</td>\n",
       "      <td>948.823830</td>\n",
       "    </tr>\n",
       "    <tr>\n",
       "      <th>4</th>\n",
       "      <td>-517.915279</td>\n",
       "      <td>-138.789604</td>\n",
       "      <td>-513.437076</td>\n",
       "    </tr>\n",
       "  </tbody>\n",
       "</table>\n",
       "</div>"
      ],
      "text/plain": [
       "    component1   component2  component3\n",
       "0 -2069.713610  1185.267590  939.686472\n",
       "1  -585.542596    36.611372  217.804106\n",
       "2  1450.130353  -595.084707 -198.299377\n",
       "3  -522.292095 -1317.784919  948.823830\n",
       "4  -517.915279  -138.789604 -513.437076"
      ]
     },
     "execution_count": 36,
     "metadata": {},
     "output_type": "execute_result"
    }
   ],
   "source": [
    "# Convert principal components into a dataframe\n",
    "principalComponents = pca.fit_transform(features_train)\n",
    "pca_df = pd.DataFrame(data=principalComponents, columns=['component1','component2','component3'])\n",
    "pca_df.head()"
   ]
  },
  {
   "cell_type": "code",
   "execution_count": 39,
   "metadata": {},
   "outputs": [
    {
     "name": "stdout",
     "output_type": "stream",
     "text": [
      "Original dataframe shape: \n",
      "(3349, 15)\n",
      "PCA dataframe shape: \n",
      "(3349, 3)\n"
     ]
    }
   ],
   "source": [
    "print(\"Original dataframe shape: \")\n",
    "print(features_train.shape)\n",
    "print(\"PCA dataframe shape: \")\n",
    "print(pca_df.shape)"
   ]
  },
  {
   "cell_type": "markdown",
   "metadata": {},
   "source": [
    "Apply the mapping (transform) to <b>both</b> the training set and the test set. "
   ]
  },
  {
   "cell_type": "code",
   "execution_count": 38,
   "metadata": {
    "collapsed": true
   },
   "outputs": [],
   "source": [
    "train_img = pca.transform(features_train)\n",
    "test_img = pca.transform(features_test)"
   ]
  },
  {
   "cell_type": "markdown",
   "metadata": {},
   "source": [
    "<b>Step 1: </b> Import the model you want to use"
   ]
  },
  {
   "cell_type": "markdown",
   "metadata": {},
   "source": [
    "In sklearn, all machine learning models are implemented as Python classes"
   ]
  },
  {
   "cell_type": "code",
   "execution_count": 40,
   "metadata": {
    "collapsed": true
   },
   "outputs": [],
   "source": [
    "from sklearn.linear_model import LogisticRegression"
   ]
  },
  {
   "cell_type": "markdown",
   "metadata": {},
   "source": [
    "<b>Step 2:</b> Make an instance of the Model"
   ]
  },
  {
   "cell_type": "code",
   "execution_count": 41,
   "metadata": {
    "collapsed": true
   },
   "outputs": [],
   "source": [
    "\n",
    "logisticRegr = LogisticRegression()"
   ]
  },
  {
   "cell_type": "markdown",
   "metadata": {},
   "source": [
    "<b>Step 3:</b> Training the model on the data, storing the information learned from the data"
   ]
  },
  {
   "cell_type": "markdown",
   "metadata": {},
   "source": [
    "Model is learning the relationship between x (digits) and y (labels)"
   ]
  },
  {
   "cell_type": "code",
   "execution_count": 42,
   "metadata": {},
   "outputs": [
    {
     "name": "stderr",
     "output_type": "stream",
     "text": [
      "/Users/dmitriyb/anaconda3/lib/python3.6/site-packages/sklearn/utils/validation.py:578: DataConversionWarning: A column-vector y was passed when a 1d array was expected. Please change the shape of y to (n_samples, ), for example using ravel().\n",
      "  y = column_or_1d(y, warn=True)\n"
     ]
    },
    {
     "data": {
      "text/plain": [
       "LogisticRegression(C=1.0, class_weight=None, dual=False, fit_intercept=True,\n",
       "          intercept_scaling=1, max_iter=100, multi_class='ovr', n_jobs=1,\n",
       "          penalty='l2', random_state=None, solver='liblinear', tol=0.0001,\n",
       "          verbose=0, warm_start=False)"
      ]
     },
     "execution_count": 42,
     "metadata": {},
     "output_type": "execute_result"
    }
   ],
   "source": [
    "logisticRegr.fit(features_train, target_train)"
   ]
  },
  {
   "cell_type": "markdown",
   "metadata": {},
   "source": [
    "<b>Step 4:</b> Predict the labels of new data (new images)"
   ]
  },
  {
   "cell_type": "markdown",
   "metadata": {},
   "source": [
    "Uses the information the model learned during the model training process"
   ]
  },
  {
   "cell_type": "code",
   "execution_count": 43,
   "metadata": {},
   "outputs": [
    {
     "data": {
      "text/plain": [
       "array([0, 0, 0, ..., 0, 0, 0])"
      ]
     },
     "execution_count": 43,
     "metadata": {},
     "output_type": "execute_result"
    }
   ],
   "source": [
    "# Returns a NumPy Array\n",
    "logisticRegr.predict(features_test)"
   ]
  },
  {
   "cell_type": "markdown",
   "metadata": {},
   "source": [
    "## Measuring Model Performance"
   ]
  },
  {
   "cell_type": "markdown",
   "metadata": {},
   "source": [
    "accuracy (fraction of correct predictions): correct predictions / total number of data points"
   ]
  },
  {
   "cell_type": "markdown",
   "metadata": {},
   "source": [
    "Basically, how the model performs on new data (test set)"
   ]
  },
  {
   "cell_type": "code",
   "execution_count": 44,
   "metadata": {},
   "outputs": [
    {
     "name": "stdout",
     "output_type": "stream",
     "text": [
      "0.9357575757575758\n"
     ]
    }
   ],
   "source": [
    "score = logisticRegr.score(features_test, target_test)\n",
    "print(score)"
   ]
  },
  {
   "cell_type": "code",
   "execution_count": null,
   "metadata": {
    "collapsed": true
   },
   "outputs": [],
   "source": []
  }
 ],
 "metadata": {
  "anaconda-cloud": {},
  "kernelspec": {
   "display_name": "Python 3",
   "language": "python",
   "name": "python3"
  },
  "language_info": {
   "codemirror_mode": {
    "name": "ipython",
    "version": 3
   },
   "file_extension": ".py",
   "mimetype": "text/x-python",
   "name": "python",
   "nbconvert_exporter": "python",
   "pygments_lexer": "ipython3",
   "version": "3.6.3"
  }
 },
 "nbformat": 4,
 "nbformat_minor": 1
}
