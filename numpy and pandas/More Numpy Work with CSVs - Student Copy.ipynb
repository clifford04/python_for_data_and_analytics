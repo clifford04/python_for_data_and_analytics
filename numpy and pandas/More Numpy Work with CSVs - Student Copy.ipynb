{
 "cells": [
  {
   "cell_type": "markdown",
   "metadata": {},
   "source": [
    "## Revisiting `diabetes_num.csv`\n",
    "You've already worked a bit with the `diabetes` and `diabetes_num` CSV files, but what else can you do with the file now that you've learned the magic known as `numpy`? Well that's what you're going to find out by doing this challenge!\n",
    "\n",
    "#### Note:\n",
    "The directions for this challenge aren't all contained at the top, they're written throughout in a step-by-step way to get you more acquainted with all of the different things that `numpy` can do (which ultimately will make your life a lot easier!)!"
   ]
  },
  {
   "cell_type": "markdown",
   "metadata": {},
   "source": [
    "### STEP 1: Importing the necessary tools\n",
    "First things first, import the necessary packages. After importing what you need, read in the diabetes CSV file. <br><br>\n",
    "__Hint 1:__ There are two different ways that you can read in the file.<br>\n",
    "__Hint 2:__ Make sure to use the `diabetes_num` CSV file, which contains only numeric values."
   ]
  },
  {
   "cell_type": "code",
   "execution_count": 3,
   "metadata": {
    "collapsed": true
   },
   "outputs": [],
   "source": [
    "import numpy as np  # Using the np abbreviation will be helpful when you're repeatedly using this package later on!"
   ]
  },
  {
   "cell_type": "code",
   "execution_count": 7,
   "metadata": {
    "collapsed": true
   },
   "outputs": [],
   "source": [
    "data_file = \"diabetes_num.csv\"    # file name\n",
    "\n",
    "# When reading in the file this way, remember to skip the header because it contains non-numeric (NAN) values.\n",
    "# Give the variable a useful name, you'll be using it often.\n",
    "diabetes = np.genfromtxt()"
   ]
  },
  {
   "cell_type": "code",
   "execution_count": 1,
   "metadata": {},
   "outputs": [
    {
     "ename": "NameError",
     "evalue": "name 'diabetes' is not defined",
     "output_type": "error",
     "traceback": [
      "\u001b[0;31m---------------------------------------------------------------------------\u001b[0m",
      "\u001b[0;31mNameError\u001b[0m                                 Traceback (most recent call last)",
      "\u001b[0;32m<ipython-input-1-987857831adb>\u001b[0m in \u001b[0;36m<module>\u001b[0;34m()\u001b[0m\n\u001b[1;32m      1\u001b[0m \u001b[0;31m# What does the data we read in look like? It's an array of arrays! (Multi-dimensional array!)\u001b[0m\u001b[0;34m\u001b[0m\u001b[0;34m\u001b[0m\u001b[0m\n\u001b[0;32m----> 2\u001b[0;31m \u001b[0mdiabetes\u001b[0m\u001b[0;34m\u001b[0m\u001b[0m\n\u001b[0m",
      "\u001b[0;31mNameError\u001b[0m: name 'diabetes' is not defined"
     ]
    }
   ],
   "source": [
    "# What does the data we read in look like? It's an array of arrays! (Multi-dimensional array!)\n",
    "diabetes"
   ]
  },
  {
   "cell_type": "markdown",
   "metadata": {},
   "source": [
    "### STEP 2: Back to basics\n",
    "If I asked you to find the average cholesterol values for all patients listed in the CSV file, as well as the highest and lowest values WITHOUT using loops or building your own functions, do you think you could do it??<br><br>\n",
    "Well you can with the power of numpy!!<br><br>\n",
    "Cholesterol is at index 1 in every row (if you need to double check, just open the CSV file on your computer), so the math we'll be doing is on that index for every array."
   ]
  },
  {
   "cell_type": "code",
   "execution_count": 4,
   "metadata": {},
   "outputs": [
    {
     "ename": "NameError",
     "evalue": "name 'np' is not defined",
     "output_type": "error",
     "traceback": [
      "\u001b[0;31m---------------------------------------------------------------------------\u001b[0m",
      "\u001b[0;31mNameError\u001b[0m                                 Traceback (most recent call last)",
      "\u001b[0;32m<ipython-input-4-72e1f98021ab>\u001b[0m in \u001b[0;36m<module>\u001b[0;34m()\u001b[0m\n\u001b[1;32m      3\u001b[0m \u001b[0;31m# How would we slice that? Plug that slice of the diabetes multi-dimensional array into numpy's mean function,\u001b[0m\u001b[0;34m\u001b[0m\u001b[0;34m\u001b[0m\u001b[0m\n\u001b[1;32m      4\u001b[0m \u001b[0;31m# which finds the average value for the values given.\u001b[0m\u001b[0;34m\u001b[0m\u001b[0;34m\u001b[0m\u001b[0m\n\u001b[0;32m----> 5\u001b[0;31m \u001b[0mnp\u001b[0m\u001b[0;34m.\u001b[0m\u001b[0mmean\u001b[0m\u001b[0;34m(\u001b[0m\u001b[0;34m)\u001b[0m\u001b[0;34m\u001b[0m\u001b[0m\n\u001b[0m",
      "\u001b[0;31mNameError\u001b[0m: name 'np' is not defined"
     ]
    }
   ],
   "source": [
    "# First up, let's find the average cholesterol value for this data set.\n",
    "# We want to use index 1 from every row (every array) within the multi-dimensional array that we named `diabetes`.\n",
    "# How would we slice that? Plug that slice of the diabetes multi-dimensional array into numpy's mean function,\n",
    "# which finds the average value for the values given.\n",
    "np.mean()"
   ]
  },
  {
   "cell_type": "code",
   "execution_count": 2,
   "metadata": {},
   "outputs": [],
   "source": [
    "# Does the value found by np.mean() make sense?\n",
    "# You could double check the math by hand or by writing your own function, but let's \"cheat\" and find\n",
    "# the max and min values for the cholesterol and use reasoning to see if this average makes sense.\n",
    "# Hint: Use the same slicing from above and plug it into np.min() and np.max() to find the min and max values\n",
    "\n",
    "#find the min"
   ]
  },
  {
   "cell_type": "code",
   "execution_count": 3,
   "metadata": {},
   "outputs": [],
   "source": [
    "# find the max"
   ]
  },
  {
   "cell_type": "markdown",
   "metadata": {},
   "source": [
    "### Step 3: On your own!\n",
    "Told you that you could do it! Now go back to the [cheatsheet](#https://www.dataquest.io/blog/large_files/numpy-cheat-sheet.pdf) given to you and pick out some other functions that you want to try. Try them out on other columns, do the results make sense? If you don't remember what the columns are, just open up the CSV and double check to see what the headers are. Get stuck or need help? Just ask! :)"
   ]
  },
  {
   "cell_type": "code",
   "execution_count": null,
   "metadata": {
    "collapsed": true
   },
   "outputs": [],
   "source": []
  }
 ],
 "metadata": {
  "kernelspec": {
   "display_name": "Python 3",
   "language": "python",
   "name": "python3"
  },
  "language_info": {
   "codemirror_mode": {
    "name": "ipython",
    "version": 3
   },
   "file_extension": ".py",
   "mimetype": "text/x-python",
   "name": "python",
   "nbconvert_exporter": "python",
   "pygments_lexer": "ipython3",
   "version": "3.6.1"
  }
 },
 "nbformat": 4,
 "nbformat_minor": 2
}
