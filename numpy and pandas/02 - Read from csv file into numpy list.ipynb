{
 "cells": [
  {
   "cell_type": "markdown",
   "metadata": {},
   "source": [
    "**Reading data from csv file into NumPy array**\n",
    "\n",
    "**Mathematical operations with NumPy arrays**\n",
    "\n",
    "Some of the content for this tutorial was adapted from https://www.dataquest.io/blog/numpy-tutorial-python/"
   ]
  },
  {
   "cell_type": "code",
   "execution_count": 14,
   "metadata": {
    "collapsed": true
   },
   "outputs": [],
   "source": [
    "import numpy as np"
   ]
  },
  {
   "cell_type": "code",
   "execution_count": 15,
   "metadata": {},
   "outputs": [],
   "source": [
    "data_file_name = \"diabetes_num.csv\"\n",
    "\n",
    "ds = np.genfromtxt(data_file_name, delimiter=\",\", skip_header=1)"
   ]
  },
  {
   "cell_type": "code",
   "execution_count": 16,
   "metadata": {},
   "outputs": [
    {
     "data": {
      "text/plain": [
       "array([ 23.,  33.,  42.])"
      ]
     },
     "execution_count": 16,
     "metadata": {},
     "output_type": "execute_result"
    }
   ],
   "source": [
    "ds[0:3, 3]"
   ]
  },
  {
   "cell_type": "markdown",
   "metadata": {},
   "source": [
    "** 1-Dimensional Array Math **\n",
    "\n",
    "If you do any of the basic mathematical operations (/, *, -, +, ^) with an array and a value, it will apply the operation to each of the elements in the array."
   ]
  },
  {
   "cell_type": "code",
   "execution_count": 23,
   "metadata": {},
   "outputs": [
    {
     "name": "stdout",
     "output_type": "stream",
     "text": [
      "[ 51.  56.  36.  63.  35.  43.  60.  49.  74.  31.]\n",
      "[ 52.  57.  37.  64.  36.  44.  61.  50.  75.  32.]\n"
     ]
    }
   ],
   "source": [
    "# For example, we could add 1 to the age column of our dataset\n",
    "\n",
    "print(ds[:10, 6]) # print first 10 rows of column 6 of the diabetes dataset before adding 1\n",
    "\n",
    "ds_plus = ds[:,6] + 1\n",
    "\n",
    "# Note that the above operation won't change the ds array - it will return \n",
    "# a new 1-dimensional array where 1 has been added to each element in the age column.\n",
    "\n",
    "print(ds_plus[:10]) # print first 10 rows of column 6 of the diabetes dataset after adding 1\n"
   ]
  },
  {
   "cell_type": "code",
   "execution_count": 25,
   "metadata": {},
   "outputs": [
    {
     "data": {
      "text/plain": [
       "array([ 53.,  58.,  38.,  65.,  37.,  45.,  62.,  51.,  76.,  33.])"
      ]
     },
     "execution_count": 25,
     "metadata": {},
     "output_type": "execute_result"
    }
   ],
   "source": [
    "# If we wanted modify the array in place instead, we can use += operator:\n",
    "\n",
    "ds[:,6] += 1\n",
    "ds[:10,6] # print first 10 rows of column 6 of the diabetes dataset after adding 1"
   ]
  },
  {
   "cell_type": "code",
   "execution_count": 27,
   "metadata": {},
   "outputs": [
    {
     "name": "stdout",
     "output_type": "stream",
     "text": [
      "[ 1772.  1616.  1388.  1368.  1348.  1288.  1272.  1228.  1224.  1220.]\n",
      "[ 1772.  1616.  1388.  1368.  1348.  1288.  1272.  1228.  1224.  1220.]\n"
     ]
    }
   ],
   "source": [
    "# All the other operations work the same way. \n",
    "# For example, if we want to multiply each of the cholesterol value by 2, we would do the following:\n",
    "ds_mult = ds[:, 1] * 2\n",
    "print(ds_mult[:10])\n",
    "\n",
    "# If we wanted to modify the original array in place, we would use the following logic:\n",
    "ds[:,1] *= 2\n",
    "print(ds[:10, 1])"
   ]
  },
  {
   "cell_type": "code",
   "execution_count": null,
   "metadata": {
    "collapsed": true
   },
   "outputs": [],
   "source": []
  }
 ],
 "metadata": {
  "kernelspec": {
   "display_name": "Python 3",
   "language": "python",
   "name": "python3"
  }
 },
 "nbformat": 4,
 "nbformat_minor": 2
}
