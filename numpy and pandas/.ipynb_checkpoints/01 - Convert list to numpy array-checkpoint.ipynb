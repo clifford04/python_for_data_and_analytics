{
 "cells": [
  {
   "cell_type": "markdown",
   "metadata": {},
   "source": [
    "** Introduction to NumPy **\n",
    "\n",
    "NumPy is a commonly used Python data analysis package. By using NumPy, you can speed up your workflow (especially when it comes to math and statistical operations), and interface with other packages in the Python ecosystem, like scikit-learn and pandas, that use NumPy under the hood."
   ]
  },
  {
   "cell_type": "code",
   "execution_count": 4,
   "metadata": {
    "collapsed": true
   },
   "outputs": [],
   "source": [
    "# Let's start by importing the modules that we'll need for this tutorial\n",
    "import csv\n",
    "import numpy as np"
   ]
  },
  {
   "cell_type": "code",
   "execution_count": 19,
   "metadata": {},
   "outputs": [
    {
     "name": "stdout",
     "output_type": "stream",
     "text": [
      "[['1000', '203', '82', '56', '3.599999905', '4.309999943', '46', '62', '121', '118', '59', '29', '38'], ['1001', '165', '97', '24', '6.900000095', '4.440000057', '29', '64', '218', '112', '68', '46', '48'], ['1002', '228', '92', '37', '6.199999809', '4.639999866', '58', '61', '256', '190', '92', '49', '57']]\n"
     ]
    }
   ],
   "source": [
    "# We'll start by looking at the differences between a standard Python list and a numpy array\n",
    "\n",
    "# Open the csv data file\n",
    "data_file_name = \"diabetes_num.csv\"\n",
    "data_file = open(data_file_name)\n",
    "data_csv = csv.reader(data_file)\n",
    "\n",
    "# Instead of iterating through the csv file as we did in past tutorials and assignments, \n",
    "# let's convert it into a list.  We'll end up with an object that is essentially a list of lists,\n",
    "# or a list of data rows from the original csv data file\n",
    "list_ds = list(data_csv)\n",
    "\n",
    "print(list_ds[1:][0:3])\n",
    "\n"
   ]
  },
  {
   "cell_type": "markdown",
   "metadata": {},
   "source": [
    "**Numpy 2-Dimensional Arrays**\n",
    "With NumPy, we work with multidimensional arrays. For now, we'll focus on 2-dimensional arrays. A 2-dimensional array is also known as a matrix. A matrix has rows and columns. By specifying a row number and a column number, we're able to extract an element from a matrix."
   ]
  },
  {
   "cell_type": "code",
   "execution_count": 27,
   "metadata": {},
   "outputs": [
    {
     "data": {
      "text/plain": [
       "array([[ 1001.        ,   165.        ,    97.        ,    24.        ,\n",
       "            6.9000001 ,     4.44000006,    29.        ,    64.        ,\n",
       "          218.        ,   112.        ,    68.        ,    46.        ,\n",
       "           48.        ],\n",
       "       [ 1002.        ,   228.        ,    92.        ,    37.        ,\n",
       "            6.19999981,     4.63999987,    58.        ,    61.        ,\n",
       "          256.        ,   190.        ,    92.        ,    49.        ,\n",
       "           57.        ],\n",
       "       [ 1003.        ,    78.        ,    93.        ,    12.        ,\n",
       "            6.5       ,     4.63000011,    67.        ,    67.        ,\n",
       "          119.        ,   110.        ,    50.        ,    33.        ,\n",
       "           38.        ],\n",
       "       [ 1005.        ,   249.        ,    90.        ,    28.        ,\n",
       "            8.89999962,     7.71999979,    64.        ,    68.        ,\n",
       "          183.        ,   138.        ,    80.        ,    44.        ,\n",
       "           41.        ]])"
      ]
     },
     "execution_count": 27,
     "metadata": {},
     "output_type": "execute_result"
    }
   ],
   "source": [
    "# Convert the Python list to a 2D NumPy array\n",
    "# Pass the list of lists wines into the numpy.array function, which converts it into a NumPy array.\n",
    "# Exclude the header row with list slicing [1:].\n",
    "# Specify the argument 'dtype' to make sure each element is converted to a float. \n",
    "\n",
    "np_ds = np.array(list_ds[1:][1:5], dtype=np.float)\n",
    "np_ds\n"
   ]
  },
  {
   "cell_type": "code",
   "execution_count": 28,
   "metadata": {},
   "outputs": [
    {
     "data": {
      "text/plain": [
       "(4, 13)"
      ]
     },
     "execution_count": 28,
     "metadata": {},
     "output_type": "execute_result"
    }
   ],
   "source": [
    "# We can check the number of rows and columns in our data using the shape property of NumPy arrays:\n",
    "np_ds.shape"
   ]
  },
  {
   "cell_type": "markdown",
   "metadata": {},
   "source": [
    "**Alternative NumPy Array Creation Methods**\n",
    "\n",
    "There are a variety of methods that we can use to create NumPy arrays. Sometimes it is really useful to create an array where every element is zero. The below code will create an array with 3 rows and 5 columns, where every element is 0, using numpy.zeros.  For example, it's useful to create an array with all zero elements in cases when you need an array of fixed size, but don't have any values for it yet."
   ]
  },
  {
   "cell_type": "code",
   "execution_count": 30,
   "metadata": {},
   "outputs": [
    {
     "data": {
      "text/plain": [
       "array([[ 0.,  0.,  0.,  0.,  0.],\n",
       "       [ 0.,  0.,  0.,  0.,  0.],\n",
       "       [ 0.,  0.,  0.,  0.,  0.]])"
      ]
     },
     "execution_count": 30,
     "metadata": {},
     "output_type": "execute_result"
    }
   ],
   "source": [
    "empty_array = np.zeros((3,5))\n",
    "empty_array"
   ]
  },
  {
   "cell_type": "markdown",
   "metadata": {},
   "source": [
    "Sometimes it is also useful to create an array where each element is a random number using numpy.random.rand.  These types of arrays are often used for testing your program's logic"
   ]
  },
  {
   "cell_type": "code",
   "execution_count": 31,
   "metadata": {},
   "outputs": [
    {
     "data": {
      "text/plain": [
       "array([[ 0.29160107,  0.07887505,  0.87400499,  0.39425393,  0.03598815],\n",
       "       [ 0.76400302,  0.80766258,  0.4910861 ,  0.61800219,  0.06220531],\n",
       "       [ 0.04793067,  0.40991014,  0.0889837 ,  0.30882094,  0.30143846]])"
      ]
     },
     "execution_count": 31,
     "metadata": {},
     "output_type": "execute_result"
    }
   ],
   "source": [
    "np.random.rand(3,5)"
   ]
  },
  {
   "cell_type": "code",
   "execution_count": 34,
   "metadata": {},
   "outputs": [
    {
     "data": {
      "text/plain": [
       "2132.8399996749999"
      ]
     },
     "execution_count": 34,
     "metadata": {},
     "output_type": "execute_result"
    }
   ],
   "source": [
    "np.sum(np_ds[0:][1])"
   ]
  },
  {
   "cell_type": "code",
   "execution_count": 35,
   "metadata": {},
   "outputs": [
    {
     "data": {
      "text/plain": [
       "array([ 1883.34000015,  2132.83999967,  1681.13000011,  2006.61999941])"
      ]
     },
     "execution_count": 35,
     "metadata": {},
     "output_type": "execute_result"
    }
   ],
   "source": [
    "# Row sum\n",
    "np.sum(np_ds, axis = 1)"
   ]
  },
  {
   "cell_type": "code",
   "execution_count": 36,
   "metadata": {},
   "outputs": [
    {
     "data": {
      "text/plain": [
       "array([ 4011.        ,   720.        ,   372.        ,   101.        ,\n",
       "          28.49999952,    21.42999983,   218.        ,   260.        ,\n",
       "         776.        ,   550.        ,   290.        ,   172.        ,\n",
       "         184.        ])"
      ]
     },
     "execution_count": 36,
     "metadata": {},
     "output_type": "execute_result"
    }
   ],
   "source": [
    "# Column sum\n",
    "np.sum(np_ds, axis = 0)"
   ]
  },
  {
   "cell_type": "code",
   "execution_count": 37,
   "metadata": {},
   "outputs": [
    {
     "data": {
      "text/plain": [
       "2132.8399996749999"
      ]
     },
     "execution_count": 37,
     "metadata": {},
     "output_type": "execute_result"
    }
   ],
   "source": [
    "# Specific row sum\n",
    "np_ds[1].sum()"
   ]
  },
  {
   "cell_type": "code",
   "execution_count": 39,
   "metadata": {},
   "outputs": [
    {
     "data": {
      "text/plain": [
       "720.0"
      ]
     },
     "execution_count": 39,
     "metadata": {},
     "output_type": "execute_result"
    }
   ],
   "source": [
    "# Specific column sum\n",
    "np_ds[:, 1].sum()"
   ]
  },
  {
   "cell_type": "code",
   "execution_count": 45,
   "metadata": {},
   "outputs": [
    {
     "data": {
      "text/plain": [
       "180.0"
      ]
     },
     "execution_count": 45,
     "metadata": {},
     "output_type": "execute_result"
    }
   ],
   "source": [
    "# Specific column average\n",
    "np_ds[:, 1].mean()"
   ]
  },
  {
   "cell_type": "code",
   "execution_count": 46,
   "metadata": {},
   "outputs": [
    {
     "data": {
      "text/plain": [
       "249.0"
      ]
     },
     "execution_count": 46,
     "metadata": {},
     "output_type": "execute_result"
    }
   ],
   "source": [
    "# Specific column max\n",
    "np_ds[:, 1].max()"
   ]
  },
  {
   "cell_type": "code",
   "execution_count": 47,
   "metadata": {},
   "outputs": [
    {
     "data": {
      "text/plain": [
       "66.509397832186096"
      ]
     },
     "execution_count": 47,
     "metadata": {},
     "output_type": "execute_result"
    }
   ],
   "source": [
    "# Specific column standard deviation\n",
    "np_ds[:, 1].std()"
   ]
  },
  {
   "cell_type": "markdown",
   "metadata": {},
   "source": [
    "** Assigning Values To NumPy Arrays **\n",
    "\n",
    "We can also use indexing to assign values to certain elements in arrays. "
   ]
  },
  {
   "cell_type": "code",
   "execution_count": 50,
   "metadata": {},
   "outputs": [
    {
     "data": {
      "text/plain": [
       "10.0"
      ]
     },
     "execution_count": 50,
     "metadata": {},
     "output_type": "execute_result"
    }
   ],
   "source": [
    "# We can change a value in a NumPy array by assigning directly to the indexed \"cell\":\n",
    "np_ds[1,5] = 10\n",
    "\n",
    "np_ds[1,5]"
   ]
  },
  {
   "cell_type": "code",
   "execution_count": 51,
   "metadata": {},
   "outputs": [
    {
     "data": {
      "text/plain": [
       "array([ 50.,  50.,  50.,  50.])"
      ]
     },
     "execution_count": 51,
     "metadata": {},
     "output_type": "execute_result"
    }
   ],
   "source": [
    "# We can do the same for slices. To overwrite an entire column, we can do this:\n",
    "np_ds[:,5] = 50\n",
    "np_ds[:,5]"
   ]
  },
  {
   "cell_type": "code",
   "execution_count": null,
   "metadata": {
    "collapsed": true
   },
   "outputs": [],
   "source": []
  }
 ],
 "metadata": {
  "kernelspec": {
   "display_name": "Python 3",
   "language": "python",
   "name": "python3"
  },
  "language_info": {
   "codemirror_mode": {
    "name": "ipython",
    "version": 3
   },
   "file_extension": ".py",
   "mimetype": "text/x-python",
   "name": "python",
   "nbconvert_exporter": "python",
   "pygments_lexer": "ipython3",
   "version": "3.6.3"
  }
 },
 "nbformat": 4,
 "nbformat_minor": 2
}
