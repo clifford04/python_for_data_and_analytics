{
 "cells": [
  {
   "cell_type": "markdown",
   "metadata": {},
   "source": [
    "## Let's Revisit (again)\n",
    "Numpy and Pandas do a lot of cool things, so with Pandas we're going to revisit the `diabetes.csv` file that includes both numeric and non-numeric values to see what else we can do with it. But first things first, we have to import the pandas package and read in the CSV file to a DataFrame."
   ]
  },
  {
   "cell_type": "code",
   "execution_count": 1,
   "metadata": {
    "collapsed": true
   },
   "outputs": [],
   "source": [
    "import pandas as pd    # abbreviations help when you use the package a lot"
   ]
  },
  {
   "cell_type": "code",
   "execution_count": 2,
   "metadata": {
    "collapsed": true
   },
   "outputs": [],
   "source": [
    "# Use the read_csv() function to read in the csv.\n",
    "# Specify the index column using the index_col argument so that a unique identifer is assigned to each row in the\n",
    "# DataFrame. You don't need to have this argument, pandas will create an index by default, but we have an column\n",
    "# where every value is unique (id) so let's use it!\n",
    "diabetes_df = pd.read_csv()"
   ]
  },
  {
   "cell_type": "code",
   "execution_count": 2,
   "metadata": {},
   "outputs": [],
   "source": [
    "# \"Preview\" the dataframe using head() or tail()\n"
   ]
  },
  {
   "cell_type": "markdown",
   "metadata": {},
   "source": [
    "We can do so many things now that we have our data displayed to us in this neat format. What should we do first? Well it seems that data was collected at multiple locations, let's use `value_counts()` to count how many data samples were taken at each location."
   ]
  },
  {
   "cell_type": "code",
   "execution_count": 3,
   "metadata": {},
   "outputs": [],
   "source": [
    "# Remember to specify which column of the dataframe you want the value counts for.\n"
   ]
  },
  {
   "cell_type": "code",
   "execution_count": 4,
   "metadata": {},
   "outputs": [],
   "source": [
    "# How many patients of each gender where there?\n"
   ]
  },
  {
   "cell_type": "markdown",
   "metadata": {},
   "source": [
    "There's a several good cheatsheets out there, here's a couple:\n",
    "- [DataQuest](#https://www.dataquest.io/blog/large_files/pandas-cheat-sheet.pdf)\n",
    "- [PyData](#https://github.com/pandas-dev/pandas/blob/master/doc/cheatsheet/Pandas_Cheat_Sheet.pdf)\n",
    "- [DataCamp](#https://s3.amazonaws.com/assets.datacamp.com/blog_assets/PandasPythonForDataScience.pdf)\n",
    "\n",
    "Check them out and pick a couple math functions to try with the data. You can perform operations on every column at once, select columns, select rows, basically whatever you want! Where it gets tricky is how to slice the dataframe and feed it into the functions to get the results that you want."
   ]
  },
  {
   "cell_type": "code",
   "execution_count": 13,
   "metadata": {},
   "outputs": [
    {
     "data": {
      "text/plain": [
       "64.0"
      ]
     },
     "execution_count": 13,
     "metadata": {},
     "output_type": "execute_result"
    }
   ],
   "source": [
    "# Let's do an average of the heights of patients 10-20.\n",
    "# First, we need to use iloc[] to specify the rows that we want. Then we need to specify what column(s) we want.\n",
    "# Finally we can do the math.\n",
    "diabetes_df.iloc[10:21]['height'].mean()"
   ]
  },
  {
   "cell_type": "code",
   "execution_count": 14,
   "metadata": {},
   "outputs": [
    {
     "data": {
      "text/plain": [
       "chol        213.000000\n",
       "stab.glu     99.727273\n",
       "hdl          43.272727\n",
       "ratio         5.136364\n",
       "glyhb         5.340909\n",
       "age          42.909091\n",
       "height       64.000000\n",
       "weight      169.818182\n",
       "bp.1s       125.800000\n",
       "bp.1d        83.800000\n",
       "waist        37.454545\n",
       "hip          42.545455\n",
       "dtype: float64"
      ]
     },
     "execution_count": 14,
     "metadata": {},
     "output_type": "execute_result"
    }
   ],
   "source": [
    "# What happens if we remove the column specification?\n",
    "diabetes_df.iloc[10:21].mean()"
   ]
  },
  {
   "cell_type": "markdown",
   "metadata": {},
   "source": [
    "Your turn! Do some exploring with various pandas functions, whether it be math, slicing, dropping columns/rows (careful!) or something else. Get stuck or need help? Just ask! :)"
   ]
  },
  {
   "cell_type": "code",
   "execution_count": null,
   "metadata": {
    "collapsed": true
   },
   "outputs": [],
   "source": []
  }
 ],
 "metadata": {
  "kernelspec": {
   "display_name": "Python 3",
   "language": "python",
   "name": "python3"
  },
  "language_info": {
   "codemirror_mode": {
    "name": "ipython",
    "version": 3
   },
   "file_extension": ".py",
   "mimetype": "text/x-python",
   "name": "python",
   "nbconvert_exporter": "python",
   "pygments_lexer": "ipython3",
   "version": "3.6.1"
  }
 },
 "nbformat": 4,
 "nbformat_minor": 2
}
