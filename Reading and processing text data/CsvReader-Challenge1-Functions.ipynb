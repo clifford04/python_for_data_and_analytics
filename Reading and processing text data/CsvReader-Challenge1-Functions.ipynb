{
 "cells": [
  {
   "cell_type": "markdown",
   "metadata": {},
   "source": [
    "**Working With CSV Files**\n",
    "\n",
    "CSV files are used to store a large number of variables – or data. They are incredibly simplified spreadsheets – think Excel – only the content is stored in plaintext.\n",
    "\n",
    "**Challenge 2**\n",
    "\n",
    "Functions allow us to organize our code and make it more modular and reusable. \n",
    "Rewrite the logic for calculating the average and the highest cholesterol values to use functions.\n",
    "\n",
    "1. Write a function for calculating the average of a numerical list.\n",
    "    \n",
    "    - Input parameters: \n",
    "        - CSV file object\n",
    "        - index of the column for which we need to calculate the average\n",
    "    - Return parameter: \n",
    "        - average value\n",
    "        \n",
    "2. Write a function for calculating the maximum value of a numerical list\n",
    "    - Input parameters: \n",
    "        - CSV file object\n",
    "        - index of the column for which we need to calculate the maximum\n",
    "    - Return parameter: \n",
    "        - maximum value\n",
    "        \n",
    "\n"
   ]
  },
  {
   "cell_type": "code",
   "execution_count": 5,
   "metadata": {
    "collapsed": true
   },
   "outputs": [],
   "source": [
    "# To parse CSV files, we use the csv module. CSV literally stands for comma separated value, \n",
    "# where the comma is what is known as a \"delimiter.\" The csv module provides a number of built-in\n",
    "# functions to make it easier to parse and iterate through CSV files.\n",
    "import csv"
   ]
  },
  {
   "cell_type": "code",
   "execution_count": 6,
   "metadata": {
    "collapsed": true
   },
   "outputs": [],
   "source": [
    "# Open the diabetes file.  Note that when Python opens data files and stores them in variables,\n",
    "# the variables DO NOT actually contain text.  In the example below, the diabetes_file \n",
    "# variable stores the file in a special format (one that Python can understand and interpret)\n",
    "diabetes_file = open(\"diabetes.csv\")\n",
    "\n",
    "\n",
    "# Now we need to tell Python that the file stored in diabetes_file variable should be read as \n",
    "# and interpreted as a CSV file.  We do that by calling on the reader() function of the csv module\n",
    "diabetes_data = csv.reader(diabetes_file)\n",
    "\n"
   ]
  },
  {
   "cell_type": "code",
   "execution_count": 7,
   "metadata": {
    "collapsed": true
   },
   "outputs": [],
   "source": [
    "# A function is a block of organized, reusable code that is used \n",
    "# to perform a single, related action. Functions provide better modularity \n",
    "# for your application and a high degree of code reusing.\n",
    "# https://www.tutorialspoint.com/python/python_functions.htm\n",
    "\n",
    "# Just like with variables, functions need to be declared before they can be used\n",
    "# The example below shows a function for calculating an average value from a column in a CSV file object\n",
    "\n",
    "def calculate_average(csv_data, column_index):\n",
    "    cnt = 0 # Initialize a temporary counter\n",
    "    total = 0 # This variable will hold the sum of all cholesterol values\n",
    "\n",
    "    for row in diabetes_data:\n",
    "        if row[1] != \"\":\n",
    "            if cnt > 0:\n",
    "                total = total + int(row[column_index])\n",
    "            cnt = cnt + 1 # Increment the counter by one\n",
    "\n",
    "    column_average = total / cnt\n",
    "\n",
    "    return column_average\n",
    "\n"
   ]
  },
  {
   "cell_type": "code",
   "execution_count": 8,
   "metadata": {},
   "outputs": [
    {
     "name": "stdout",
     "output_type": "stream",
     "text": [
      "Average cholesterol:  207.3300248138958\n"
     ]
    }
   ],
   "source": [
    "# Call the function\n",
    "diabetes_file.seek(0) # Reset the read position of the file object\n",
    "avg_chol = calculate_average(diabetes_data, 1); \n",
    "print(\"Average cholesterol: \" , avg_chol)"
   ]
  },
  {
   "cell_type": "code",
   "execution_count": 10,
   "metadata": {},
   "outputs": [
    {
     "name": "stdout",
     "output_type": "stream",
     "text": [
      "Maximum cholesterol:  443\n"
     ]
    }
   ],
   "source": [
    "def calculate_max(csv_data, column_index):\n",
    "    cnt = 0 # Initialize a temporary counter\n",
    "    max_chol = 0 # This variable will hold the sum of all cholesterol values\n",
    "\n",
    "    for row in csv_data:\n",
    "        if row[1] != \"\":\n",
    "            if cnt > 0:\n",
    "                # Every time through the loop (for every row that contains a value)\n",
    "                # we compare the value from the data with the value stored in \n",
    "                # max_chol variable.  \n",
    "                # If the value from the data is larger, we set max_chol to that larger value\n",
    "                # After the loop finishes running, the largest value will be stored in max_chols\n",
    "                if max_chol < int(row[column_index]):\n",
    "                    max_chol = int(row[column_index])\n",
    "            cnt = cnt + 1 # Increment the counter by one\n",
    "\n",
    "    return max_chol\n",
    "\n",
    "\n",
    "# Calculate maximum cholesterol\n",
    "diabetes_file.seek(0) # Reset the read position of the file object\n",
    "max_chol = calculate_max(diabetes_data, 1)\n",
    "print(\"Maximum cholesterol: \", max_chol)"
   ]
  },
  {
   "cell_type": "code",
   "execution_count": null,
   "metadata": {
    "collapsed": true
   },
   "outputs": [],
   "source": []
  }
 ],
 "metadata": {
  "kernelspec": {
   "display_name": "Python 3",
   "language": "python",
   "name": "python3"
  },
  "language_info": {
   "codemirror_mode": {
    "name": "ipython",
    "version": 3
   },
   "file_extension": ".py",
   "mimetype": "text/x-python",
   "name": "python",
   "nbconvert_exporter": "python",
   "pygments_lexer": "ipython3",
   "version": "3.6.3"
  }
 },
 "nbformat": 4,
 "nbformat_minor": 2
}
