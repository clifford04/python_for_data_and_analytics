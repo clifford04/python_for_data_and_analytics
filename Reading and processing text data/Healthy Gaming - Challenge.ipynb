{
 "cells": [
  {
   "cell_type": "markdown",
   "metadata": {},
   "source": [
    "## Healthy Gaming\n",
    "Video games. We've all played them at some point, no matter how simple or complex they may be.<br><br>\n",
    "Edutainment games are those created to teach. As this class is mostly pharmacy students, many of you may be wondering about the different videos games that are specifically health-related. Good news, there's more than you might think!<br><br>\n",
    "The CSV used for this challenge is adapted from [this category on Wikipedia](https://en.wikipedia.org/wiki/Category:Health_video_games). Note that no Dance Dance Revolution or Just Dance games are included in the list created for this challenge, as they would dominate the list and could skew and investigation you may do. (But feel free to update it on your own if you wish!)"
   ]
  },
  {
   "cell_type": "markdown",
   "metadata": {},
   "source": [
    "### Challenge\n",
    "This challenge will look at the different platforms that these edutainment games are available on. It may not seem interesting now, but once you learn more (including pandas!) this challenge will be expanded upon and you'll learn more about these healthy games!<br><br>\n",
    "The first part of this challenge is to read in the \"HealthyGames\" CSV, the second part of the challenge will investigate the different platforms for the games."
   ]
  },
  {
   "cell_type": "code",
   "execution_count": 1,
   "metadata": {
    "collapsed": true
   },
   "outputs": [],
   "source": [
    "# import the csv module"
   ]
  },
  {
   "cell_type": "code",
   "execution_count": 2,
   "metadata": {
    "scrolled": true
   },
   "outputs": [],
   "source": [
    "# Open the HealthyGames.CSV file\n",
    "healthygames_file\n",
    "\n",
    "# Read in the data from the CSV file\n",
    "healthygames_data\n",
    "\n",
    "# Make sure that the data was read in.\n",
    "# HINT: Remember that you can only read in the CSV data once each time you open the file.\n",
    "for row in healthygames_data:\n",
    "  print(row)"
   ]
  },
  {
   "cell_type": "code",
   "execution_count": 3,
   "metadata": {
    "collapsed": true
   },
   "outputs": [],
   "source": [
    "# Notice that there is no ID column in this file. The columns are named 'Game_Name' and 'Platform'.\n",
    "# When doing the next part of the challenge, make sure you don't treat the headers as part of the data.\n",
    "\n",
    "# Write a function that loops through the data. When looping through the data, create a dictionary that keeps\n",
    "# track of the different platforms and a count of how many games are available for that platform.\n",
    "# Make the return value of the function the dictionary that you create.\n",
    "# HINT: Use the platform as the key and the game count as the value.\n",
    "\n",
    "def games_per_platform(data):\n",
    "    game_count = {}\n",
    "\n",
    "    # for .....\n",
    "    \n",
    "    return game_count"
   ]
  },
  {
   "cell_type": "code",
   "execution_count": 4,
   "metadata": {},
   "outputs": [],
   "source": [
    "# Call the function you just wrote.\n",
    "games_per_platform(healthygames_data)"
   ]
  },
  {
   "cell_type": "markdown",
   "metadata": {},
   "source": [
    "Which platform(s) had the most healthy games released on it? Which platform(s) had the least?<br>\n",
    "Are there any platforms with healthy games that surprise you?<br><br>\n",
    "This was a short challenge, but there's more investigation on this list to come once you learn about [pandas](http://i.dailymail.co.uk/i/pix/2016/12/30/07/3BB53A8000000578-0-image-a-9_1483083988973.jpg)!"
   ]
  },
  {
   "cell_type": "code",
   "execution_count": null,
   "metadata": {
    "collapsed": true
   },
   "outputs": [],
   "source": []
  }
 ],
 "metadata": {
  "kernelspec": {
   "display_name": "Python 3",
   "language": "python",
   "name": "python3"
  },
  "language_info": {
   "codemirror_mode": {
    "name": "ipython",
    "version": 3
   },
   "file_extension": ".py",
   "mimetype": "text/x-python",
   "name": "python",
   "nbconvert_exporter": "python",
   "pygments_lexer": "ipython3",
   "version": "3.6.1"
  }
 },
 "nbformat": 4,
 "nbformat_minor": 2
}
