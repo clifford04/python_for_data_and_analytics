{
 "cells": [
  {
   "cell_type": "markdown",
   "metadata": {},
   "source": [
    "** Parsing .txt Files **\n",
    "\n",
    "This example introduces the Python concepts necessary to use data from .txt files. We can create these files in a number of ways. For example, we could use a text editor to type in and save the data. We could also download the data and then save it in a file. Regardless of how the file is created, Python will allow us to manipulate the contents.\n",
    "\n",
    "** Finding a File On Your Disk **\n",
    "\n",
    "Opening a file requires that you and Python agree about the location of the file on your disk. The way that files are located on disk is by their path. You can think of the filename as the short name for a file, and the path as the full name. For example, on a Mac if you save the file filename.txt in your home directory, then the path to that file is /Users/yourname/filename.txt. On a Windows machine, the path looks a bit different but the same principles are in use. For example, on Windows the path might be C:\\Users\\yourname\\hello.txt.\n",
    "\n",
    "You can access files in folders, also called directories, under your home directory by adding a slash and the name of the folder. For example, if you had a file called program.py in a folder called Spring2018 that was inside a folder called PythonProjects under your home directory, then the full name for program.py stored in your folder would be /Users/yourname/PythonProjects/Spring2018/program.py.\n",
    "\n",
    "Here’s the important rule to remember: If your file and your Python program are in the same directory, you can simply use the filename to refer to your file. If your file and your Python program are in different directories then you should use the path to the file. For the sake of this example, we will assume that the .txt file is in the same directory as our Python program.\n",
    "\n",
    "** Video Game Sales and Ratings **\n",
    "\n",
    "As an example, suppose we have a file called Video_Game_Sales.txt that contains the following data for video game titles: Rank, Name, Platform, Year of Release, Genre, Publisher, North America Sales, Europe Sales, Japan Sales, Other Sales, and Global Sales. We will take a look at using this file to develop some insights and statistics.\n"
   ]
  },
  {
   "cell_type": "code",
   "execution_count": 6,
   "metadata": {},
   "outputs": [],
   "source": [
    "# In Python, we must open files before we can use them and close them when we are finished with them. \n",
    "# Once a file is opened, it becomes a Python object just like all other data. \n",
    "\n",
    "# To open this file, we would call the open function. The variable, video_game_file, now holds a reference to the file \n",
    "# object returned by open. When we are finished with the file, we can close it by using the close method. \n",
    "# After the file is closed any further attempts to use fileref will result in an error.\n",
    "\n",
    "video_game_file = open(\"Video_Game_Sales.txt\", \"r\")"
   ]
  },
  {
   "cell_type": "code",
   "execution_count": 7,
   "metadata": {},
   "outputs": [
    {
     "name": "stdout",
     "output_type": "stream",
     "text": [
      "Wii Sports, published by Nintendo in 2006, had $8.46 billion in global sales.\n",
      "Super Mario Bros., published by Nintendo in 1985, had $0.77 billion in global sales.\n",
      "Mario Kart Wii, published by Nintendo in 2008, had $3.31 billion in global sales.\n",
      "Wii Sports Resort, published by Nintendo in 2009, had $2.96 billion in global sales.\n",
      "Pokemon Red/Pokemon Blue, published by Nintendo in 1996, had $1 billion in global sales.\n",
      "Tetris, published by Nintendo in 1989, had $0.58 billion in global sales.\n",
      "New Super Mario Bros., published by Nintendo in 2006, had $2.9 billion in global sales.\n",
      "Wii Play, published by Nintendo in 2006, had $2.85 billion in global sales.\n",
      "New Super Mario Bros. Wii, published by Nintendo in 2009, had $2.26 billion in global sales.\n",
      "Duck Hunt, published by Nintendo in 1984, had $0.47 billion in global sales.\n"
     ]
    }
   ],
   "source": [
    "# We will now use this file as input in a program that will do some data processing. In the program, we will \n",
    "# read each line of the file and print it with some additional text. Because text files are sequences of lines \n",
    "# of text, we can use the for loop to iterate through each line of the file.\n",
    "\n",
    "# A line of a file is defined to be a sequence of characters up to and including a special character called the \n",
    "# newline character. If you evaluate a string that contains a newline character you will see the character \n",
    "# represented as \\n. If you print a string that contains a newline you will not see the \\n, you will just see \n",
    "# its effects. When you are typing a Python program and you press the enter or return key on your keyboard, \n",
    "# the editor inserts a newline character into your text at that point.\n",
    "\n",
    "# To process all of our video game data, we will use a for loop to iterate over the lines of the file. \n",
    "# Using the split method using the \"\\t\" delimeter since items in the file are separated by tabs, we can break \n",
    "# each line into a list containing all the fields of interest about the game. \n",
    "# We can then take the values corresponding to the Name, Year, Publisher, Global Sales, and User Score to print \n",
    "# information about the game. Since this is a huge, file, we will only print information for the first 10 games.\n",
    "\n",
    "for i in range(0, 10):\n",
    "    line = video_game_file.readline()\n",
    "    values = line.split('\\t')\n",
    "    print(values[1] + \", published by \" + values[5] + \" in \" + values[3] + \", had $\" + values[9] + \" billion in global sales.\")"
   ]
  },
  {
   "cell_type": "code",
   "execution_count": 8,
   "metadata": {
    "collapsed": true
   },
   "outputs": [],
   "source": [
    "# Once finished with a file, we must close it.\n",
    "video_game_file.close()"
   ]
  },
  {
   "cell_type": "code",
   "execution_count": 9,
   "metadata": {},
   "outputs": [
    {
     "name": "stdout",
     "output_type": "stream",
     "text": [
      "Nintendo has sold $92.5800000000004 billion dollars in games.\n"
     ]
    }
   ],
   "source": [
    "# Now let's use the data for something a bit more useful. Say we want to know how much sales a particular publisher,\n",
    "# Nintendo, has had across all of its games. We can figure this out by looping through the file and selecting only the\n",
    "# values that correspond with that publisher. \n",
    "\n",
    "# Notice that the loop looks a bit different from above since we are simply going through every line in the file.\n",
    "# We again split based on the '\\t' delimeter, check to see whether the publisher field matches the string 'Nintendo', \n",
    "# and grab the sales field from our values list. Note that we must cast, or convert, the string representing sales\n",
    "# to a float so that we can do anything useful with it (which in this case is adding it to our total).\n",
    "video_game_file = open(\"Video_Game_Sales.txt\", \"r\")\n",
    "\n",
    "total_nintendo_sales = 0\n",
    "for line in video_game_file:\n",
    "    values = line.split('\\t')\n",
    "    if values[5] == 'Nintendo':\n",
    "        game_sales = float(values[9])\n",
    "        total_nintendo_sales = total_nintendo_sales + game_sales\n",
    "        \n",
    "video_game_file.close()\n",
    "    \n",
    "print(\"Nintendo has sold $\" + str(total_nintendo_sales) + \" billion dollars in games.\")"
   ]
  },
  {
   "cell_type": "code",
   "execution_count": 10,
   "metadata": {},
   "outputs": [
    {
     "name": "stdout",
     "output_type": "stream",
     "text": [
      "Grand Theft Auto V\n"
     ]
    }
   ],
   "source": [
    "# Finally, let's do something even more involved with the data. Say we want to find the most popular game in Europe\n",
    "# that sold better than it did in the United States. Note that when we compare data in our values list, we must cast\n",
    "# them so that we are comparing floats, not strings.\n",
    "video_game_file = open(\"Video_Game_Sales.txt\", \"r\")\n",
    "\n",
    "europe_sales = 0\n",
    "europe_title = ''\n",
    "for line in video_game_file:\n",
    "    values = line.split('\\t')\n",
    "    if float(values[7]) > float(values[6]): # if Europe_sales > America_sales\n",
    "        if float(values[7]) > europe_sales:\n",
    "            europe_sales = float(values[7])\n",
    "            europe_title = values[1]\n",
    "            #print(europe_title + \"  \" + values[6])\n",
    "            \n",
    "video_game_file.close()\n",
    "            \n",
    "print(europe_title)"
   ]
  },
  {
   "cell_type": "code",
   "execution_count": null,
   "metadata": {
    "collapsed": true
   },
   "outputs": [],
   "source": []
  }
 ],
 "metadata": {
  "kernelspec": {
   "display_name": "Python 3",
   "language": "python",
   "name": "python3"
  },
  "language_info": {
   "codemirror_mode": {
    "name": "ipython",
    "version": 3
   },
   "file_extension": ".py",
   "mimetype": "text/x-python",
   "name": "python",
   "nbconvert_exporter": "python",
   "pygments_lexer": "ipython3",
   "version": "3.6.3"
  }
 },
 "nbformat": 4,
 "nbformat_minor": 2
}
