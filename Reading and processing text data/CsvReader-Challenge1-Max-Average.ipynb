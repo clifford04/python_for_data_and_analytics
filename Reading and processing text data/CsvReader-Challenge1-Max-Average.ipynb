{
 "cells": [
  {
   "cell_type": "markdown",
   "metadata": {},
   "source": [
    "**Working With CSV Files**\n",
    "\n",
    "CSV files are used to store a large number of variables – or data. They are incredibly simplified spreadsheets – think Excel – only the content is stored in plaintext.\n",
    "\n",
    "**Challenge 1**\n",
    "\n",
    "Calculate the average and the highest cholesterol value based on the data available in the dataset.\n"
   ]
  },
  {
   "cell_type": "code",
   "execution_count": 2,
   "metadata": {
    "collapsed": true
   },
   "outputs": [],
   "source": [
    "# To parse CSV files, we use the csv module. CSV literally stands for comma separated value, \n",
    "# where the comma is what is known as a \"delimiter.\" The csv module provides a number of built-in\n",
    "# functions to make it easier to parse and iterate through CSV files.\n",
    "import csv"
   ]
  },
  {
   "cell_type": "code",
   "execution_count": 4,
   "metadata": {},
   "outputs": [],
   "source": [
    "# Open the diabetes file.  Note that when Python opens data files and stores them in variables,\n",
    "# the variables DO NOT actually contain text.  In the example below, the diabetes_file \n",
    "# variable stores the file in a special format (one that Python can understand and interpret)\n",
    "diabetes_file = open(\"diabetes.csv\")\n",
    "\n",
    "\n",
    "# Now we need to tell Python that the file stored in diabetes_file variable should be read as \n",
    "# and interpreted as a CSV file.  We do that by calling on the reader() function of the csv module\n",
    "diabetes_data = csv.reader(diabetes_file)\n",
    "\n"
   ]
  },
  {
   "cell_type": "code",
   "execution_count": 8,
   "metadata": {},
   "outputs": [
    {
     "name": "stdout",
     "output_type": "stream",
     "text": [
      "Total:  83554\n",
      "Count:  403\n",
      "Average:  207.3300248138958\n"
     ]
    }
   ],
   "source": [
    "# Calculate average cholesterol\n",
    "\n",
    "cnt = 0 # Initialize a temporary counter\n",
    "diabetes_file.seek(0) # Reset the read position of the file object\n",
    "total = 0 # This variable will hold the sum of all cholesterol values\n",
    "\n",
    "for row in diabetes_data:\n",
    "    if row[1] != \"\":\n",
    "        if cnt > 0:\n",
    "            total = total + int(row[1])\n",
    "        cnt = cnt + 1 # Increment the counter by one\n",
    "        \n",
    "print(\"Total: \" , total)\n",
    "print(\"Count: \" , cnt)\n",
    "\n",
    "avg_chol = total / cnt\n",
    "\n",
    "print(\"Average: \", avg_chol)"
   ]
  },
  {
   "cell_type": "code",
   "execution_count": 9,
   "metadata": {},
   "outputs": [
    {
     "name": "stdout",
     "output_type": "stream",
     "text": [
      "Maximum cholesterol:  443\n"
     ]
    }
   ],
   "source": [
    "# Calculate average cholesterol\n",
    "\n",
    "cnt = 0 # Initialize a temporary counter\n",
    "diabetes_file.seek(0) # Reset the read position of the file object\n",
    "max_chol = 0 # This variable will hold the sum of all cholesterol values\n",
    "\n",
    "for row in diabetes_data:\n",
    "    if row[1] != \"\":\n",
    "        if cnt > 0:\n",
    "            # Every time through the loop (for every row that contains a value)\n",
    "            # we compare the value from the data with the value stored in \n",
    "            # max_chol variable.  \n",
    "            # If the value from the data is larger, we set max_chol to that larger value\n",
    "            # After the loop finishes running, the largest value will be stored in max_chols\n",
    "            if max_chol < int(row[1]):\n",
    "                max_chol = int(row[1])\n",
    "        cnt = cnt + 1 # Increment the counter by one\n",
    "        \n",
    "\n",
    "print(\"Maximum cholesterol: \", max_chol)"
   ]
  },
  {
   "cell_type": "code",
   "execution_count": null,
   "metadata": {
    "collapsed": true
   },
   "outputs": [],
   "source": []
  }
 ],
 "metadata": {
  "kernelspec": {
   "display_name": "Python 3",
   "language": "python",
   "name": "python3"
  },
  "language_info": {
   "codemirror_mode": {
    "name": "ipython",
    "version": 3
   },
   "file_extension": ".py",
   "mimetype": "text/x-python",
   "name": "python",
   "nbconvert_exporter": "python",
   "pygments_lexer": "ipython3",
   "version": "3.6.3"
  }
 },
 "nbformat": 4,
 "nbformat_minor": 2
}
