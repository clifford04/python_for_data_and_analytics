{
 "cells": [
  {
   "cell_type": "code",
   "execution_count": 2,
   "id": "abbbf6e4-7813-4a67-9eef-656ecb39f3f6",
   "metadata": {},
   "outputs": [],
   "source": [
    "def add_numbers(x, y):\n",
    "    return x+y"
   ]
  },
  {
   "cell_type": "code",
   "execution_count": 4,
   "id": "b5e9df03-923f-4e78-8066-6ea3036ee500",
   "metadata": {},
   "outputs": [
    {
     "data": {
      "text/plain": [
       "15"
      ]
     },
     "execution_count": 4,
     "metadata": {},
     "output_type": "execute_result"
    }
   ],
   "source": [
    "add_numbers(5, 10)"
   ]
  },
  {
   "cell_type": "code",
   "execution_count": 10,
   "id": "de687307-6b5d-4aea-aa3d-42fa41af3a8f",
   "metadata": {},
   "outputs": [],
   "source": [
    "def sum_list(l):\n",
    "    s = 0\n",
    "    for item in l:\n",
    "        s = s + item\n",
    "    return s"
   ]
  },
  {
   "cell_type": "code",
   "execution_count": 14,
   "id": "be048c2d-af43-4df9-88f9-d2f64326f61d",
   "metadata": {},
   "outputs": [
    {
     "data": {
      "text/plain": [
       "10"
      ]
     },
     "execution_count": 14,
     "metadata": {},
     "output_type": "execute_result"
    }
   ],
   "source": [
    "l = [1, 2, 3, 4]\n",
    "sum_list(l)"
   ]
  },
  {
   "cell_type": "code",
   "execution_count": 16,
   "id": "60cdcbc0-2fc9-4096-9360-c1ee9f64f34a",
   "metadata": {},
   "outputs": [],
   "source": [
    "import random\n",
    "def add_rand_nums(x, y):\n",
    "    return x+y+random.randint(0, 10)\n"
   ]
  },
  {
   "cell_type": "code",
   "execution_count": 26,
   "id": "10fdeb90-64c6-40c0-acb4-4019543ea9d5",
   "metadata": {},
   "outputs": [
    {
     "data": {
      "text/plain": [
       "24"
      ]
     },
     "execution_count": 26,
     "metadata": {},
     "output_type": "execute_result"
    }
   ],
   "source": [
    "add_rand_nums(5, 10)"
   ]
  },
  {
   "cell_type": "code",
   "execution_count": null,
   "id": "644bfae1-fb04-4d5c-87ac-4f3b041ea3c7",
   "metadata": {},
   "outputs": [],
   "source": []
  }
 ],
 "metadata": {
  "kernelspec": {
   "display_name": "Python 3 (ipykernel)",
   "language": "python",
   "name": "python3"
  },
  "language_info": {
   "codemirror_mode": {
    "name": "ipython",
    "version": 3
   },
   "file_extension": ".py",
   "mimetype": "text/x-python",
   "name": "python",
   "nbconvert_exporter": "python",
   "pygments_lexer": "ipython3",
   "version": "3.12.4"
  }
 },
 "nbformat": 4,
 "nbformat_minor": 5
}
