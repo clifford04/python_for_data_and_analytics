{
 "cells": [
  {
   "cell_type": "code",
   "execution_count": 286,
   "id": "9f5fc222-49bb-4564-9a13-61cb40e3b592",
   "metadata": {},
   "outputs": [],
   "source": [
    "import pandas as pd\n",
    "import numpy as np\n",
    "import math"
   ]
  },
  {
   "cell_type": "code",
   "execution_count": 288,
   "id": "919c8a58-c06b-4c45-b2d6-da64c8edb4b4",
   "metadata": {},
   "outputs": [],
   "source": [
    "df = pd.read_csv('Software Engineer Salaries.csv')"
   ]
  },
  {
   "cell_type": "code",
   "execution_count": 290,
   "id": "4057725a-6dab-4655-8036-551d067ea385",
   "metadata": {},
   "outputs": [
    {
     "data": {
      "text/html": [
       "<div>\n",
       "<style scoped>\n",
       "    .dataframe tbody tr th:only-of-type {\n",
       "        vertical-align: middle;\n",
       "    }\n",
       "\n",
       "    .dataframe tbody tr th {\n",
       "        vertical-align: top;\n",
       "    }\n",
       "\n",
       "    .dataframe thead th {\n",
       "        text-align: right;\n",
       "    }\n",
       "</style>\n",
       "<table border=\"1\" class=\"dataframe\">\n",
       "  <thead>\n",
       "    <tr style=\"text-align: right;\">\n",
       "      <th></th>\n",
       "      <th>Company</th>\n",
       "      <th>Company Score</th>\n",
       "      <th>Job Title</th>\n",
       "      <th>Location</th>\n",
       "      <th>Date</th>\n",
       "      <th>Salary</th>\n",
       "    </tr>\n",
       "  </thead>\n",
       "  <tbody>\n",
       "    <tr>\n",
       "      <th>0</th>\n",
       "      <td>ViewSoft</td>\n",
       "      <td>4.8</td>\n",
       "      <td>Software Engineer</td>\n",
       "      <td>Manassas, VA</td>\n",
       "      <td>8d</td>\n",
       "      <td>$68K - $94K (Glassdoor est.)</td>\n",
       "    </tr>\n",
       "    <tr>\n",
       "      <th>1</th>\n",
       "      <td>Workiva</td>\n",
       "      <td>4.3</td>\n",
       "      <td>Software Support Engineer</td>\n",
       "      <td>Remote</td>\n",
       "      <td>2d</td>\n",
       "      <td>$61K - $104K (Employer est.)</td>\n",
       "    </tr>\n",
       "    <tr>\n",
       "      <th>2</th>\n",
       "      <td>Garmin International, Inc.</td>\n",
       "      <td>3.9</td>\n",
       "      <td>C# Software Engineer</td>\n",
       "      <td>Cary, NC</td>\n",
       "      <td>2d</td>\n",
       "      <td>$95K - $118K (Glassdoor est.)</td>\n",
       "    </tr>\n",
       "    <tr>\n",
       "      <th>3</th>\n",
       "      <td>Snapchat</td>\n",
       "      <td>3.5</td>\n",
       "      <td>Software Engineer, Fullstack, 1+ Years of Expe...</td>\n",
       "      <td>Los Angeles, CA</td>\n",
       "      <td>2d</td>\n",
       "      <td>$97K - $145K (Employer est.)</td>\n",
       "    </tr>\n",
       "    <tr>\n",
       "      <th>4</th>\n",
       "      <td>Vitesco Technologies Group AG</td>\n",
       "      <td>3.1</td>\n",
       "      <td>Software Engineer</td>\n",
       "      <td>Seguin, TX</td>\n",
       "      <td>2d</td>\n",
       "      <td>$85K - $108K (Glassdoor est.)</td>\n",
       "    </tr>\n",
       "  </tbody>\n",
       "</table>\n",
       "</div>"
      ],
      "text/plain": [
       "                         Company  Company Score  \\\n",
       "0                       ViewSoft            4.8   \n",
       "1                        Workiva            4.3   \n",
       "2     Garmin International, Inc.            3.9   \n",
       "3                       Snapchat            3.5   \n",
       "4  Vitesco Technologies Group AG            3.1   \n",
       "\n",
       "                                           Job Title         Location Date  \\\n",
       "0                                  Software Engineer     Manassas, VA   8d   \n",
       "1                          Software Support Engineer           Remote   2d   \n",
       "2                               C# Software Engineer         Cary, NC   2d   \n",
       "3  Software Engineer, Fullstack, 1+ Years of Expe...  Los Angeles, CA   2d   \n",
       "4                                  Software Engineer       Seguin, TX   2d   \n",
       "\n",
       "                          Salary  \n",
       "0   $68K - $94K (Glassdoor est.)  \n",
       "1   $61K - $104K (Employer est.)  \n",
       "2  $95K - $118K (Glassdoor est.)  \n",
       "3   $97K - $145K (Employer est.)  \n",
       "4  $85K - $108K (Glassdoor est.)  "
      ]
     },
     "execution_count": 290,
     "metadata": {},
     "output_type": "execute_result"
    }
   ],
   "source": [
    "df.head()"
   ]
  },
  {
   "cell_type": "code",
   "execution_count": 292,
   "id": "2ac30dd9-975f-4345-8086-d92f4289ab34",
   "metadata": {},
   "outputs": [],
   "source": [
    "def split_salary_col(val):\n",
    "    data_source = \"\"\n",
    "    pay = \"\"\n",
    "    \n",
    "    # Check for null and nan\n",
    "    if val == None:\n",
    "        val = \"\"\n",
    "\n",
    "    # Convert value to lower case\n",
    "    val = str(val)\n",
    "    val = val.lower().replace(\"$\", \"\")\n",
    "\n",
    "    # Extract the \"source\" part of the value\n",
    "    if val.find(\"(glassdoor est.)\") != -1:\n",
    "        data_source = \"Glassdoor\"\n",
    "    elif val.find(\"(employer est.)\") != -1:\n",
    "        data_source = \"Employer\"\n",
    "    else:\n",
    "        data_source = \"Unknown\"\n",
    "\n",
    "    # Extract the \"pay per hour vs. salary\" part of the value\n",
    "    if val.find(\"per hour\") != -1:\n",
    "        pay = \"hourly\"\n",
    "    else:\n",
    "        pay = \"salary\"\n",
    "\n",
    "    # Remove \"source\" part of the value\n",
    "    val = str(val).replace(\"(glassdoor est.)\", \"\").replace(\"(employer est.)\", \"\").strip()\n",
    "\n",
    "    # Remove \"pay\" part of the value\n",
    "    val = val.replace(\"per hour\", \"\")\n",
    "\n",
    "    # Replace instances of letter 'k' with '000' to signify thousands\n",
    "    val = val.replace(\"k\", \"000\")\n",
    "    \n",
    "    # Split value into lower and upper range bounds\n",
    "    temp = val.split(\"-\")\n",
    "\n",
    "    # Check if only the lower range exists.  If only lower range exists, duplicate it to upper range\n",
    "    if len(temp) == 1:\n",
    "        temp.append(temp[0])\n",
    "\n",
    "    # Deal with blank or missing or NULL values\n",
    "    for i in range(0, len(temp)):\n",
    "        temp[i] = temp[i].strip().replace(\"nan\", \"0\")\n",
    "        if temp[i] == \"\":\n",
    "            temp[i] = 0\n",
    "    \n",
    "    \n",
    "    return data_source, pay, float(temp[0]), float(temp[1])\n",
    "    "
   ]
  },
  {
   "cell_type": "code",
   "execution_count": 294,
   "id": "0cc67467-b14b-4951-820b-5d198ff191d2",
   "metadata": {},
   "outputs": [
    {
     "data": {
      "text/plain": [
       "('Glassdoor', 'salary', 68000.0, 94000.0)"
      ]
     },
     "execution_count": 294,
     "metadata": {},
     "output_type": "execute_result"
    }
   ],
   "source": [
    "# Test the function\n",
    "split_salary_col(df['Salary'].loc[0])"
   ]
  },
  {
   "cell_type": "code",
   "execution_count": 296,
   "id": "073d4a09-bc31-4bc9-af4e-fed5cc33b54a",
   "metadata": {},
   "outputs": [
    {
     "data": {
      "text/plain": [
       "('Unknown', 'salary', 65000.0, 65000.0)"
      ]
     },
     "execution_count": 296,
     "metadata": {},
     "output_type": "execute_result"
    }
   ],
   "source": [
    "# Test the function more\n",
    "split_salary_col(\"65K\")"
   ]
  },
  {
   "cell_type": "code",
   "execution_count": 298,
   "id": "8f89dafb-e4c2-4b14-939b-df1520ce531b",
   "metadata": {},
   "outputs": [
    {
     "data": {
      "text/plain": [
       "('Unknown', 'salary', 0.0, 0.0)"
      ]
     },
     "execution_count": 298,
     "metadata": {},
     "output_type": "execute_result"
    }
   ],
   "source": [
    "# Test the function even more with null values\n",
    "split_salary_col(None)"
   ]
  },
  {
   "cell_type": "code",
   "execution_count": 300,
   "id": "86836ca0-db8c-4d3a-8b51-d121b9883a55",
   "metadata": {},
   "outputs": [
    {
     "data": {
      "text/plain": [
       "('Unknown', 'salary', 0.0, 0.0)"
      ]
     },
     "execution_count": 300,
     "metadata": {},
     "output_type": "execute_result"
    }
   ],
   "source": [
    "# And now test with NaN values\n",
    "split_salary_col(np.nan)"
   ]
  },
  {
   "cell_type": "code",
   "execution_count": 302,
   "id": "848237ee-7ad8-4d91-9cff-6dc5a069a68d",
   "metadata": {},
   "outputs": [],
   "source": [
    "# Create new columns and initialize the values\n",
    "df[['DataSource', 'Pay']] = ''\n",
    "df[['IncomeLowerBound', 'IncomeUpperBound']] = 0.0"
   ]
  },
  {
   "cell_type": "code",
   "execution_count": 304,
   "id": "1ffdca60-2cc0-4c98-87e3-07f9d62004e5",
   "metadata": {},
   "outputs": [],
   "source": [
    "# Iterate through the DataFrame\n",
    "for idx, row in df.iterrows():\n",
    "    data = split_salary_col(row['Salary']) # This will return four values (employer, pay, lower range, upper range)\n",
    "    df.at[idx, 'DataSource'] = data[0] # Data source refers to who reported the income - employer vs. glassdoor\n",
    "    df.at[idx, 'Pay'] = data[1] # Hourly vs. salary\n",
    "    df.at[idx, 'IncomeLowerBound'] = data[2] # Lower bound of the pay range\n",
    "    df.at[idx, 'IncomeUpperBound'] = data[3] # Upper bound of the pay range"
   ]
  },
  {
   "cell_type": "code",
   "execution_count": 310,
   "id": "bd2e48cf-f00d-4c48-8ac7-9619bc7e3e93",
   "metadata": {},
   "outputs": [
    {
     "data": {
      "text/html": [
       "<div>\n",
       "<style scoped>\n",
       "    .dataframe tbody tr th:only-of-type {\n",
       "        vertical-align: middle;\n",
       "    }\n",
       "\n",
       "    .dataframe tbody tr th {\n",
       "        vertical-align: top;\n",
       "    }\n",
       "\n",
       "    .dataframe thead th {\n",
       "        text-align: right;\n",
       "    }\n",
       "</style>\n",
       "<table border=\"1\" class=\"dataframe\">\n",
       "  <thead>\n",
       "    <tr style=\"text-align: right;\">\n",
       "      <th></th>\n",
       "      <th>Company</th>\n",
       "      <th>Company Score</th>\n",
       "      <th>Job Title</th>\n",
       "      <th>Location</th>\n",
       "      <th>Date</th>\n",
       "      <th>Salary</th>\n",
       "      <th>DataSource</th>\n",
       "      <th>Pay</th>\n",
       "      <th>IncomeLowerBound</th>\n",
       "      <th>IncomeUpperBound</th>\n",
       "    </tr>\n",
       "  </thead>\n",
       "  <tbody>\n",
       "    <tr>\n",
       "      <th>86</th>\n",
       "      <td>ILOGIC INC</td>\n",
       "      <td>3.5</td>\n",
       "      <td>SOFTWARE DEVELOPERS</td>\n",
       "      <td>Township of Hamilton</td>\n",
       "      <td>30d+</td>\n",
       "      <td>$80.00 Per Hour (Employer est.)</td>\n",
       "      <td>Employer</td>\n",
       "      <td>hourly</td>\n",
       "      <td>80.0</td>\n",
       "      <td>80.0</td>\n",
       "    </tr>\n",
       "    <tr>\n",
       "      <th>115</th>\n",
       "      <td>Two Six Technologies</td>\n",
       "      <td>4.1</td>\n",
       "      <td>Software Engineer</td>\n",
       "      <td>Warrenton, VA</td>\n",
       "      <td>17d</td>\n",
       "      <td>$50.00 Per Hour (Employer est.)</td>\n",
       "      <td>Employer</td>\n",
       "      <td>hourly</td>\n",
       "      <td>50.0</td>\n",
       "      <td>50.0</td>\n",
       "    </tr>\n",
       "    <tr>\n",
       "      <th>161</th>\n",
       "      <td>Mailprotector</td>\n",
       "      <td>4.6</td>\n",
       "      <td>Software Engineer</td>\n",
       "      <td>Remote</td>\n",
       "      <td>2d</td>\n",
       "      <td>$50.00 Per Hour (Employer est.)</td>\n",
       "      <td>Employer</td>\n",
       "      <td>hourly</td>\n",
       "      <td>50.0</td>\n",
       "      <td>50.0</td>\n",
       "    </tr>\n",
       "    <tr>\n",
       "      <th>174</th>\n",
       "      <td>First Command Financial Services, Inc.</td>\n",
       "      <td>4.2</td>\n",
       "      <td>Software Engineer</td>\n",
       "      <td>NaN</td>\n",
       "      <td>2d</td>\n",
       "      <td>$50.00 - $70.00 Per Hour (Employer est.)</td>\n",
       "      <td>Employer</td>\n",
       "      <td>hourly</td>\n",
       "      <td>50.0</td>\n",
       "      <td>70.0</td>\n",
       "    </tr>\n",
       "    <tr>\n",
       "      <th>212</th>\n",
       "      <td>Salesforce</td>\n",
       "      <td>3.1</td>\n",
       "      <td>Software Engineering MTS</td>\n",
       "      <td>San Francisco, CA</td>\n",
       "      <td>3d</td>\n",
       "      <td>$40.00 - $55.00 Per Hour (Employer est.)</td>\n",
       "      <td>Employer</td>\n",
       "      <td>hourly</td>\n",
       "      <td>40.0</td>\n",
       "      <td>55.0</td>\n",
       "    </tr>\n",
       "  </tbody>\n",
       "</table>\n",
       "</div>"
      ],
      "text/plain": [
       "                                    Company  Company Score  \\\n",
       "86                               ILOGIC INC            3.5   \n",
       "115                    Two Six Technologies            4.1   \n",
       "161                           Mailprotector            4.6   \n",
       "174  First Command Financial Services, Inc.            4.2   \n",
       "212                              Salesforce            3.1   \n",
       "\n",
       "                    Job Title              Location  Date  \\\n",
       "86        SOFTWARE DEVELOPERS  Township of Hamilton  30d+   \n",
       "115         Software Engineer         Warrenton, VA   17d   \n",
       "161         Software Engineer                Remote    2d   \n",
       "174         Software Engineer                   NaN    2d   \n",
       "212  Software Engineering MTS     San Francisco, CA    3d   \n",
       "\n",
       "                                       Salary DataSource     Pay  \\\n",
       "86            $80.00 Per Hour (Employer est.)   Employer  hourly   \n",
       "115           $50.00 Per Hour (Employer est.)   Employer  hourly   \n",
       "161           $50.00 Per Hour (Employer est.)   Employer  hourly   \n",
       "174  $50.00 - $70.00 Per Hour (Employer est.)   Employer  hourly   \n",
       "212  $40.00 - $55.00 Per Hour (Employer est.)   Employer  hourly   \n",
       "\n",
       "     IncomeLowerBound  IncomeUpperBound  \n",
       "86               80.0              80.0  \n",
       "115              50.0              50.0  \n",
       "161              50.0              50.0  \n",
       "174              50.0              70.0  \n",
       "212              40.0              55.0  "
      ]
     },
     "execution_count": 310,
     "metadata": {},
     "output_type": "execute_result"
    }
   ],
   "source": [
    "df.head()"
   ]
  },
  {
   "cell_type": "code",
   "execution_count": null,
   "id": "ea221cfd-2350-4bdd-a8d9-7c346b8834d2",
   "metadata": {},
   "outputs": [],
   "source": []
  }
 ],
 "metadata": {
  "kernelspec": {
   "display_name": "Python 3 (ipykernel)",
   "language": "python",
   "name": "python3"
  },
  "language_info": {
   "codemirror_mode": {
    "name": "ipython",
    "version": 3
   },
   "file_extension": ".py",
   "mimetype": "text/x-python",
   "name": "python",
   "nbconvert_exporter": "python",
   "pygments_lexer": "ipython3",
   "version": "3.12.4"
  }
 },
 "nbformat": 4,
 "nbformat_minor": 5
}
