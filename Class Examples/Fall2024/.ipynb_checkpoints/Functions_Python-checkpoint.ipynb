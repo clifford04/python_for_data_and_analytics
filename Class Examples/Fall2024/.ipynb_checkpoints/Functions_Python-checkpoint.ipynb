{
 "cells": [
  {
   "cell_type": "code",
   "execution_count": 1,
   "id": "350b29a8-8a9d-4067-ae05-06e1c66bbb84",
   "metadata": {},
   "outputs": [],
   "source": [
    "def add_numbers(n1, n2):\n",
    "    return n1 + n2"
   ]
  },
  {
   "cell_type": "code",
   "execution_count": 3,
   "id": "501ea00c-7dfd-4fef-965a-0aefc3908614",
   "metadata": {},
   "outputs": [
    {
     "data": {
      "text/plain": [
       "3"
      ]
     },
     "execution_count": 3,
     "metadata": {},
     "output_type": "execute_result"
    }
   ],
   "source": [
    "add_numbers(1, 2)"
   ]
  },
  {
   "cell_type": "code",
   "execution_count": null,
   "id": "c66cbc37-e822-467e-b3be-07f83f302b11",
   "metadata": {},
   "outputs": [],
   "source": [
    "def do_math(n1, n2, operator):\n",
    "    if operator == \"+\":\n",
    "        return n1 + n2\n",
    "    elif operator == \"-\":\n",
    "        return n1 - n2\n",
    "    elif operator == \"/\":\n",
    "        return n1 / n2\n",
    "    elif operator == \"*\":\n",
    "        return n1 * n2\n",
    "    "
   ]
  }
 ],
 "metadata": {
  "kernelspec": {
   "display_name": "Python 3 (ipykernel)",
   "language": "python",
   "name": "python3"
  },
  "language_info": {
   "codemirror_mode": {
    "name": "ipython",
    "version": 3
   },
   "file_extension": ".py",
   "mimetype": "text/x-python",
   "name": "python",
   "nbconvert_exporter": "python",
   "pygments_lexer": "ipython3",
   "version": "3.12.4"
  }
 },
 "nbformat": 4,
 "nbformat_minor": 5
}
