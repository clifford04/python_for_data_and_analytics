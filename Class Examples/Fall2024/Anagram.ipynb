{
 "cells": [
  {
   "cell_type": "code",
   "execution_count": 1,
   "id": "5cf94e2f-41d3-4a3d-87ba-6f784c96ae5f",
   "metadata": {},
   "outputs": [
    {
     "data": {
      "text/plain": [
       "<_io.TextIOWrapper name='words.txt' mode='r' encoding='UTF-8'>"
      ]
     },
     "execution_count": 1,
     "metadata": {},
     "output_type": "execute_result"
    }
   ],
   "source": [
    "f = open('words.txt')\n",
    "f"
   ]
  },
  {
   "cell_type": "code",
   "execution_count": 5,
   "id": "983d82e4-bbbc-4e72-8859-3078531031d2",
   "metadata": {},
   "outputs": [
    {
     "name": "stdout",
     "output_type": "stream",
     "text": [
      "2\n",
      "1080\n",
      "&c\n",
      "10-point\n",
      "10th\n",
      "11-point\n",
      "12-point\n",
      "16-point\n",
      "18-point\n",
      "1st\n",
      "2,4,5-t\n",
      "2,4-d\n",
      "20-point\n",
      "2D\n",
      "2nd\n",
      "30-30\n",
      "\n"
     ]
    }
   ],
   "source": [
    "data = f.read()\n",
    "print(data[:100])"
   ]
  },
  {
   "cell_type": "code",
   "execution_count": 9,
   "id": "ec2a41aa-d97c-4709-a633-47738b642218",
   "metadata": {},
   "outputs": [
    {
     "data": {
      "text/plain": [
       "['2\\n',\n",
       " '1080\\n',\n",
       " '&c\\n',\n",
       " '10-point\\n',\n",
       " '10th\\n',\n",
       " '11-point\\n',\n",
       " '12-point\\n',\n",
       " '16-point\\n',\n",
       " '18-point\\n',\n",
       " '1st\\n']"
      ]
     },
     "execution_count": 9,
     "metadata": {},
     "output_type": "execute_result"
    }
   ],
   "source": [
    "### A better way!\n",
    "f = open('words.txt')\n",
    "words = f.readlines()\n",
    "words[:10]"
   ]
  },
  {
   "cell_type": "code",
   "execution_count": 11,
   "id": "46c69da5-e11e-40c8-8b0d-1556b17a63c5",
   "metadata": {},
   "outputs": [
    {
     "data": {
      "text/plain": [
       "['2',\n",
       " '1080',\n",
       " '&c',\n",
       " '10-point',\n",
       " '10th',\n",
       " '11-point',\n",
       " '12-point',\n",
       " '16-point',\n",
       " '18-point',\n",
       " '1st']"
      ]
     },
     "execution_count": 11,
     "metadata": {},
     "output_type": "execute_result"
    }
   ],
   "source": [
    "for i in range(0, len(words)):\n",
    "    words[i] = words[i].replace('\\n', '')\n",
    "\n",
    "words[:10]"
   ]
  },
  {
   "cell_type": "code",
   "execution_count": 13,
   "id": "ea587c52-d51f-417e-bb11-d531d481fd2a",
   "metadata": {},
   "outputs": [],
   "source": [
    "w1 = 'angel'\n",
    "w2 = 'glean'"
   ]
  },
  {
   "cell_type": "code",
   "execution_count": 15,
   "id": "33d1fd35-e3c3-40f9-bb8f-c2fe51359e9e",
   "metadata": {},
   "outputs": [
    {
     "data": {
      "text/plain": [
       "[-2, 0, 1, 7, 27, 40]"
      ]
     },
     "execution_count": 15,
     "metadata": {},
     "output_type": "execute_result"
    }
   ],
   "source": [
    "l = [1, 7, 0, -2, 40, 27]\n",
    "sorted(l)"
   ]
  },
  {
   "cell_type": "code",
   "execution_count": 17,
   "id": "c1faa1f3-65b3-461e-b2e6-8486a1b91c74",
   "metadata": {},
   "outputs": [
    {
     "data": {
      "text/plain": [
       "['a', 'c', 'x', 'z']"
      ]
     },
     "execution_count": 17,
     "metadata": {},
     "output_type": "execute_result"
    }
   ],
   "source": [
    "l2 = ['x', 'a', 'z', 'c']\n",
    "sorted(l2)"
   ]
  },
  {
   "cell_type": "code",
   "execution_count": 19,
   "id": "1d951bbb-a7ac-498e-9d73-11775e39618a",
   "metadata": {},
   "outputs": [
    {
     "data": {
      "text/plain": [
       "['a', 'e', 'g', 'l', 'n']"
      ]
     },
     "execution_count": 19,
     "metadata": {},
     "output_type": "execute_result"
    }
   ],
   "source": [
    "sorted(w1)"
   ]
  },
  {
   "cell_type": "code",
   "execution_count": 21,
   "id": "64d20513-08fd-479a-91e1-f5c9b79ca2e9",
   "metadata": {},
   "outputs": [
    {
     "data": {
      "text/plain": [
       "['a', 'e', 'g', 'l', 'n']"
      ]
     },
     "execution_count": 21,
     "metadata": {},
     "output_type": "execute_result"
    }
   ],
   "source": [
    "sorted(w2)"
   ]
  },
  {
   "cell_type": "code",
   "execution_count": 23,
   "id": "64be9ee6-4bf9-44e1-a645-ce9e9948b86f",
   "metadata": {},
   "outputs": [
    {
     "data": {
      "text/plain": [
       "True"
      ]
     },
     "execution_count": 23,
     "metadata": {},
     "output_type": "execute_result"
    }
   ],
   "source": [
    "sorted(w1) == sorted(w2)"
   ]
  },
  {
   "cell_type": "code",
   "execution_count": 25,
   "id": "de53cac2-f6ea-4192-b78a-82a165b87115",
   "metadata": {},
   "outputs": [],
   "source": [
    "def find_anagrams(user_input):\n",
    "    f = open('words.txt')\n",
    "    words = f.readlines()\n",
    "    for word in words:\n",
    "        if sorted(user_input) == sorted(word.replace('\\n', '')):\n",
    "            print(word)\n",
    "    "
   ]
  },
  {
   "cell_type": "code",
   "execution_count": 27,
   "id": "c1ccb83f-d286-40a1-b58a-ed2127661025",
   "metadata": {},
   "outputs": [
    {
     "name": "stdout",
     "output_type": "stream",
     "text": [
      "agnel\n",
      "\n",
      "genal\n",
      "\n",
      "glean\n",
      "\n",
      "lagen\n",
      "\n"
     ]
    }
   ],
   "source": [
    "find_anagrams('angel')"
   ]
  },
  {
   "cell_type": "code",
   "execution_count": null,
   "id": "3096ccbc-53a2-4b59-8328-894899b3cac1",
   "metadata": {},
   "outputs": [],
   "source": []
  }
 ],
 "metadata": {
  "kernelspec": {
   "display_name": "Python 3 (ipykernel)",
   "language": "python",
   "name": "python3"
  },
  "language_info": {
   "codemirror_mode": {
    "name": "ipython",
    "version": 3
   },
   "file_extension": ".py",
   "mimetype": "text/x-python",
   "name": "python",
   "nbconvert_exporter": "python",
   "pygments_lexer": "ipython3",
   "version": "3.12.4"
  }
 },
 "nbformat": 4,
 "nbformat_minor": 5
}
