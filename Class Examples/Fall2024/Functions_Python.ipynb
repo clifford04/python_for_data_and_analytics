{
 "cells": [
  {
   "cell_type": "code",
   "execution_count": 1,
   "id": "350b29a8-8a9d-4067-ae05-06e1c66bbb84",
   "metadata": {},
   "outputs": [],
   "source": [
    "def add_numbers(n1, n2):\n",
    "    return n1 + n2"
   ]
  },
  {
   "cell_type": "code",
   "execution_count": 3,
   "id": "501ea00c-7dfd-4fef-965a-0aefc3908614",
   "metadata": {},
   "outputs": [
    {
     "data": {
      "text/plain": [
       "3"
      ]
     },
     "execution_count": 3,
     "metadata": {},
     "output_type": "execute_result"
    }
   ],
   "source": [
    "add_numbers(1, 2)"
   ]
  },
  {
   "cell_type": "code",
   "execution_count": 5,
   "id": "c66cbc37-e822-467e-b3be-07f83f302b11",
   "metadata": {},
   "outputs": [],
   "source": [
    "def do_math(n1, n2, operator=\"+\"):\n",
    "    if operator == \"+\":\n",
    "        return n1 + n2\n",
    "    elif operator == \"-\":\n",
    "        return n1 - n2\n",
    "    elif operator == \"/\":\n",
    "        return n1 / n2\n",
    "    elif operator == \"*\":\n",
    "        return n1 * n2\n",
    "    "
   ]
  },
  {
   "cell_type": "code",
   "execution_count": 7,
   "id": "9d04b9af-3d50-49ac-8da6-8ab254f33759",
   "metadata": {},
   "outputs": [
    {
     "data": {
      "text/plain": [
       "15"
      ]
     },
     "execution_count": 7,
     "metadata": {},
     "output_type": "execute_result"
    }
   ],
   "source": [
    "do_math(5, 10)"
   ]
  },
  {
   "cell_type": "code",
   "execution_count": 9,
   "id": "a1077bfc-1438-4ea8-b360-9ac0ccba45d4",
   "metadata": {},
   "outputs": [
    {
     "data": {
      "text/plain": [
       "0.5"
      ]
     },
     "execution_count": 9,
     "metadata": {},
     "output_type": "execute_result"
    }
   ],
   "source": [
    "do_math(5, 10, \"/\")"
   ]
  },
  {
   "cell_type": "code",
   "execution_count": 11,
   "id": "0a13888c-8f74-4fbd-8311-86df52c5e7e5",
   "metadata": {},
   "outputs": [],
   "source": [
    "def do_math(n1=0, n2=0, operator=\"+\"):\n",
    "    if operator == \"+\":\n",
    "        return n1 + n2\n",
    "    elif operator == \"-\":\n",
    "        return n1 - n2\n",
    "    elif operator == \"/\":\n",
    "        return n1 / n2\n",
    "    elif operator == \"*\":\n",
    "        return n1 * n2\n",
    "    "
   ]
  },
  {
   "cell_type": "code",
   "execution_count": 13,
   "id": "90019195-33d3-4394-9524-baedae9ef4ec",
   "metadata": {},
   "outputs": [
    {
     "data": {
      "text/plain": [
       "-10"
      ]
     },
     "execution_count": 13,
     "metadata": {},
     "output_type": "execute_result"
    }
   ],
   "source": [
    "do_math(10, 20, \"-\")"
   ]
  },
  {
   "cell_type": "code",
   "execution_count": 15,
   "id": "d9021e04-74d1-4462-b478-4af361722ad7",
   "metadata": {},
   "outputs": [
    {
     "data": {
      "text/plain": [
       "200"
      ]
     },
     "execution_count": 15,
     "metadata": {},
     "output_type": "execute_result"
    }
   ],
   "source": [
    "do_math(operator=\"*\", n2=10, n1=20)"
   ]
  },
  {
   "cell_type": "code",
   "execution_count": 17,
   "id": "50d25d8d-de35-4f62-9310-e785e297327d",
   "metadata": {},
   "outputs": [],
   "source": [
    "def do_math(n1, n2):\n",
    "    return n1 + n2, n1 - n2, n1 / n2, n1 * n2\n",
    "    "
   ]
  },
  {
   "cell_type": "code",
   "execution_count": 19,
   "id": "7f37a193-9ff9-479f-8ab5-9faf673ed048",
   "metadata": {},
   "outputs": [
    {
     "data": {
      "text/plain": [
       "(15, 5, 2.0, 50)"
      ]
     },
     "execution_count": 19,
     "metadata": {},
     "output_type": "execute_result"
    }
   ],
   "source": [
    "do_math(10, 5)"
   ]
  },
  {
   "cell_type": "code",
   "execution_count": 21,
   "id": "963e8fa2-ac68-44c1-8116-8ac62332f4db",
   "metadata": {},
   "outputs": [
    {
     "name": "stdout",
     "output_type": "stream",
     "text": [
      "5\n"
     ]
    }
   ],
   "source": [
    "a, s, d, m = do_math(10, 5)\n",
    "print(s)"
   ]
  },
  {
   "cell_type": "code",
   "execution_count": null,
   "id": "ae984e1d-7823-47a7-b250-2ed8e10a1ce3",
   "metadata": {},
   "outputs": [],
   "source": []
  }
 ],
 "metadata": {
  "kernelspec": {
   "display_name": "Python 3 (ipykernel)",
   "language": "python",
   "name": "python3"
  },
  "language_info": {
   "codemirror_mode": {
    "name": "ipython",
    "version": 3
   },
   "file_extension": ".py",
   "mimetype": "text/x-python",
   "name": "python",
   "nbconvert_exporter": "python",
   "pygments_lexer": "ipython3",
   "version": "3.12.4"
  }
 },
 "nbformat": 4,
 "nbformat_minor": 5
}
