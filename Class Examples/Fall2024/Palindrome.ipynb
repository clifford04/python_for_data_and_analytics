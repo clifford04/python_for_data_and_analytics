{
 "cells": [
  {
   "cell_type": "markdown",
   "id": "b4f437d3-3213-4311-a2ba-7df10be955b9",
   "metadata": {},
   "source": [
    "# Palindrome\n",
    "\n",
    "### This notebook demonstrates how to identify whether a statement is a palindrome or not\n",
    "\n",
    "**Palindrome detection algorithm**\n",
    "\n",
    "_A word or a sentence that reads the same backward and forward_\n",
    "\n",
    "1. Get user input\n",
    "2. Store user input in a variable\n",
    "3. Convert user input to lowercase\n",
    "4. Remove non-letter characters\n",
    "5. Reverse the string\n",
    "6. Compare reversed string with the original"
   ]
  },
  {
   "cell_type": "code",
   "execution_count": 5,
   "id": "21862e44-a3ca-4fec-a756-5fafff926567",
   "metadata": {},
   "outputs": [
    {
     "name": "stdin",
     "output_type": "stream",
     "text": [
      "Please enter a palindrome Race car\n"
     ]
    }
   ],
   "source": [
    "# Steps 1 + 2\n",
    "user_input = input(\"Please enter a palindrome\")"
   ]
  },
  {
   "cell_type": "code",
   "execution_count": 7,
   "id": "f813f9ca-b09e-44b7-b141-afd1e2697b67",
   "metadata": {},
   "outputs": [
    {
     "name": "stdout",
     "output_type": "stream",
     "text": [
      "Race car\n"
     ]
    }
   ],
   "source": [
    "print(user_input)"
   ]
  },
  {
   "cell_type": "code",
   "execution_count": 9,
   "id": "48136757-f822-4db0-bcfb-1743193d3f38",
   "metadata": {},
   "outputs": [
    {
     "name": "stdout",
     "output_type": "stream",
     "text": [
      "race car\n"
     ]
    }
   ],
   "source": [
    "# Step 3\n",
    "user_input = user_input.lower()\n",
    "print(user_input)"
   ]
  },
  {
   "cell_type": "code",
   "execution_count": 27,
   "id": "af3d42b2-566f-4372-984b-82c2410472ef",
   "metadata": {},
   "outputs": [
    {
     "name": "stdout",
     "output_type": "stream",
     "text": [
      "racecar\n"
     ]
    }
   ],
   "source": [
    "# Step 4\n",
    "# If an ASCII value of a character is not between 97 and 122, it is not a letter\n",
    "\n",
    "clean_input = \"\"\n",
    "\n",
    "#Loop through each character in the input string\n",
    "for letter in user_input:\n",
    "    # If the ASCII value is not between 97 and 122\n",
    "    #if ord(letter) >= 97 and ord(letter) <= 122:\n",
    "    if ord(letter) in range(97, 123):\n",
    "        #print(ord(letter))\n",
    "        clean_input = clean_input + letter\n",
    "\n",
    "print(clean_input)\n"
   ]
  },
  {
   "cell_type": "code",
   "execution_count": 29,
   "id": "b71f7407-2ca6-45da-8759-6feffb8920fc",
   "metadata": {},
   "outputs": [
    {
     "name": "stdout",
     "output_type": "stream",
     "text": [
      "racecar\n"
     ]
    }
   ],
   "source": [
    "# Step 5: Reverse string\n",
    "reverse_input = clean_input[::-1]\n",
    "print(reverse_input)"
   ]
  },
  {
   "cell_type": "code",
   "execution_count": 31,
   "id": "50e24dbb-6823-4402-9d1b-46a033ac50e2",
   "metadata": {},
   "outputs": [
    {
     "name": "stdout",
     "output_type": "stream",
     "text": [
      "Palindrome\n"
     ]
    }
   ],
   "source": [
    "# Step 6: Compare\n",
    "if clean_input == reverse_input:\n",
    "    print(\"Palindrome\")\n",
    "else:\n",
    "    print(\"Not a palindrome\")"
   ]
  },
  {
   "cell_type": "code",
   "execution_count": null,
   "id": "f475c9a4-0fdb-4db6-a6a7-fac22b8012e0",
   "metadata": {},
   "outputs": [],
   "source": [
    "def is_palindrome(user_input):\n",
    "    user_input = user_input.lower()\n",
    "    clean_input = \"\"\n",
    "\n",
    "\n",
    "    for letter in user_input:\n",
    "        if ord(letter) in range(97, 123):\n",
    "            clean_input = clean_input + letter\n",
    "    \n",
    "    reverse_input = clean_input[::-1]\n",
    "\n",
    "    if clean_input == reverse_input:\n",
    "        return True\n",
    "    else:\n",
    "        return False"
   ]
  }
 ],
 "metadata": {
  "kernelspec": {
   "display_name": "Python 3 (ipykernel)",
   "language": "python",
   "name": "python3"
  },
  "language_info": {
   "codemirror_mode": {
    "name": "ipython",
    "version": 3
   },
   "file_extension": ".py",
   "mimetype": "text/x-python",
   "name": "python",
   "nbconvert_exporter": "python",
   "pygments_lexer": "ipython3",
   "version": "3.12.4"
  }
 },
 "nbformat": 4,
 "nbformat_minor": 5
}
