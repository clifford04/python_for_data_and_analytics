{
 "cells": [
  {
   "cell_type": "code",
   "execution_count": 8,
   "metadata": {},
   "outputs": [],
   "source": [
    "# Required Python Machine learning Packages\n",
    "import pandas as pd\n",
    "import numpy as np\n",
    "import operator\n",
    "\n",
    "# To split the dataset into train and test datasets\n",
    "from sklearn.model_selection import train_test_split\n",
    "\n",
    "# Classifiers\n",
    "from sklearn.naive_bayes import GaussianNB\n",
    "from sklearn import svm\n",
    "from sklearn.neighbors import KNeighborsRegressor\n",
    "from sklearn.ensemble import RandomForestRegressor\n",
    "from sklearn.linear_model import LogisticRegression\n",
    "from sklearn.tree import DecisionTreeClassifier, export_graphviz\n",
    "\n",
    "from sklearn.cross_validation import cross_val_score, cross_val_predict\n",
    "from sklearn.feature_selection import RFE\n",
    "from sklearn.feature_selection import SelectKBest\n",
    "from sklearn.feature_selection import chi2\n",
    "from sklearn.decomposition import PCA\n",
    "from sklearn.ensemble import ExtraTreesClassifier\n",
    "\n",
    "# To calculate the accuracy score of the model\n",
    "from sklearn.preprocessing import LabelEncoder\n",
    "from sklearn import metrics\n",
    "\n",
    "import matplotlib.pyplot as plt\n",
    "%matplotlib inline"
   ]
  },
  {
   "cell_type": "code",
   "execution_count": 9,
   "metadata": {
    "collapsed": true
   },
   "outputs": [],
   "source": [
    "def label_encode(df, columns):\n",
    "    for col in columns:\n",
    "        le = LabelEncoder()\n",
    "        col_values_unique = list(df[col].unique())\n",
    "        le_fitted = le.fit(col_values_unique)\n",
    " \n",
    "        col_values = list(df[col].values)\n",
    "        #le.classes_\n",
    "        col_values_transformed = le.transform(col_values)\n",
    "        df[col] = col_values_transformed"
   ]
  },
  {
   "cell_type": "code",
   "execution_count": 10,
   "metadata": {
    "collapsed": true
   },
   "outputs": [],
   "source": [
    "def classify(predictors, response, classifier = 'svm', kern='rbf', neighbors=3, kfolds=0, report=False, features_select=0):        \n",
    "    # split X and y into training and testing sets\n",
    "    X_train, X_test, y_train, y_test = train_test_split(predictors, response, test_size=0.20, random_state=1)\n",
    "\n",
    "    \n",
    "    if classifier == 'nb':\n",
    "        cl = GaussianNB() # instantiate model\n",
    "        msg = 'Naive Bayes'\n",
    "    elif classifier == 'svm':\n",
    "        cl = svm.SVC(kernel=kern) # instantiate model\n",
    "        msg = 'SVM with ' + kern + ' kernel'\n",
    "    elif classifier == 'knn':\n",
    "        cl = KNeighborsRegressor(n_neighbors=neighbors)\n",
    "        msg = 'KNN with k=' + str(neighbors)\n",
    "    elif classifier == 'rf':\n",
    "        # Instantiate model with  decision trees\n",
    "        # Note that the number of decision trees is denoted\n",
    "        # using the neighbors parameter, which is set to 3 by default\n",
    "        cl = RandomForestRegressor(n_estimators = 1000, random_state = 42)\n",
    "        msg = 'Random Forest with ' + str(neighbors) + ' decision trees'\n",
    "    elif classifier == 'dtree':\n",
    "        cl = DecisionTreeClassifier(min_samples_split=20, random_state=99)\n",
    "        msg = 'Decision tree'\n",
    "    elif classifier == 'logisticregression':\n",
    "        cl = LogisticRegression()\n",
    "        msg = 'Logistic Regression'\n",
    "        \n",
    "    model = cl.fit(X_train, y_train)\n",
    "    y_pred_class = model.predict(X_test)\n",
    "    print(msg + ' model accuracy score: ', metrics.accuracy_score(y_test, y_pred_class.round()))\n",
    "    \n",
    "    if kfolds > 0:\n",
    "        # Perform k-fold cross validation\n",
    "        scores = cross_val_score(model, predictors, response, cv=kfolds)\n",
    "        print('Cross-validated score:', scores.mean())\n",
    "    \n",
    "    if report == True:\n",
    "        print('Confusion matrix')\n",
    "        print(metrics.confusion_matrix(y_test, y_pred_class)) # confusion matrix\n",
    "        print('Classification report')\n",
    "        target_names=['low','med','high']\n",
    "        print(metrics.classification_report(y_test, y_pred_class, target_names=target_names))\n",
    "        \n",
    "        print('______________________________')\n",
    "    \n",
    "    if features_select > 0:\n",
    "        test = SelectKBest(score_func=chi2, k=features_select)\n",
    "        fit = test.fit(predictors, response)\n",
    "        \n",
    "        # summarize scores\n",
    "        np.set_printoptions(precision=3)\n",
    "        # print(fit.scores_)\n",
    "        features_scores = {}\n",
    "        for i in range(0, len(predictors.columns)):\n",
    "            features_scores[predictors.columns[i]] = fit.scores_[i]\n",
    "            \n",
    "        # print(features_scores)\n",
    "        sorted_features_scores = sorted(features_scores.items(), key=operator.itemgetter(1))\n",
    "        print(sorted_features_scores[-5:])\n",
    "        \n",
    "    \n",
    "        \n",
    "    \n",
    "        "
   ]
  },
  {
   "cell_type": "code",
   "execution_count": 11,
   "metadata": {
    "collapsed": true
   },
   "outputs": [],
   "source": [
    "def decompose(predictors):\n",
    "    # feature extraction\n",
    "    pca = PCA(n_components=3)\n",
    "    fit = pca.fit(predictors)\n",
    "    \n",
    "    # summarize components\n",
    "    # print(fit.explained_variance_ratio_)\n",
    "    # print(fit.components_)\n",
    "    return pd.DataFrame(fit.components_)"
   ]
  },
  {
   "cell_type": "code",
   "execution_count": 12,
   "metadata": {
    "scrolled": true
   },
   "outputs": [
    {
     "data": {
      "text/html": [
       "<div>\n",
       "<style>\n",
       "    .dataframe thead tr:only-child th {\n",
       "        text-align: right;\n",
       "    }\n",
       "\n",
       "    .dataframe thead th {\n",
       "        text-align: left;\n",
       "    }\n",
       "\n",
       "    .dataframe tbody tr th {\n",
       "        vertical-align: top;\n",
       "    }\n",
       "</style>\n",
       "<table border=\"1\" class=\"dataframe\">\n",
       "  <thead>\n",
       "    <tr style=\"text-align: right;\">\n",
       "      <th></th>\n",
       "      <th>Pregnancies</th>\n",
       "      <th>Glucose</th>\n",
       "      <th>BloodPressure</th>\n",
       "      <th>SkinThickness</th>\n",
       "      <th>Insulin</th>\n",
       "      <th>BMI</th>\n",
       "      <th>DiabetesPedigreeFunction</th>\n",
       "      <th>Age</th>\n",
       "      <th>Outcome</th>\n",
       "    </tr>\n",
       "  </thead>\n",
       "  <tbody>\n",
       "    <tr>\n",
       "      <th>0</th>\n",
       "      <td>6</td>\n",
       "      <td>148</td>\n",
       "      <td>72</td>\n",
       "      <td>35</td>\n",
       "      <td>0</td>\n",
       "      <td>33.6</td>\n",
       "      <td>0.627</td>\n",
       "      <td>50</td>\n",
       "      <td>1</td>\n",
       "    </tr>\n",
       "    <tr>\n",
       "      <th>1</th>\n",
       "      <td>1</td>\n",
       "      <td>85</td>\n",
       "      <td>66</td>\n",
       "      <td>29</td>\n",
       "      <td>0</td>\n",
       "      <td>26.6</td>\n",
       "      <td>0.351</td>\n",
       "      <td>31</td>\n",
       "      <td>0</td>\n",
       "    </tr>\n",
       "    <tr>\n",
       "      <th>2</th>\n",
       "      <td>8</td>\n",
       "      <td>183</td>\n",
       "      <td>64</td>\n",
       "      <td>0</td>\n",
       "      <td>0</td>\n",
       "      <td>23.3</td>\n",
       "      <td>0.672</td>\n",
       "      <td>32</td>\n",
       "      <td>1</td>\n",
       "    </tr>\n",
       "    <tr>\n",
       "      <th>3</th>\n",
       "      <td>1</td>\n",
       "      <td>89</td>\n",
       "      <td>66</td>\n",
       "      <td>23</td>\n",
       "      <td>94</td>\n",
       "      <td>28.1</td>\n",
       "      <td>0.167</td>\n",
       "      <td>21</td>\n",
       "      <td>0</td>\n",
       "    </tr>\n",
       "    <tr>\n",
       "      <th>4</th>\n",
       "      <td>0</td>\n",
       "      <td>137</td>\n",
       "      <td>40</td>\n",
       "      <td>35</td>\n",
       "      <td>168</td>\n",
       "      <td>43.1</td>\n",
       "      <td>2.288</td>\n",
       "      <td>33</td>\n",
       "      <td>1</td>\n",
       "    </tr>\n",
       "  </tbody>\n",
       "</table>\n",
       "</div>"
      ],
      "text/plain": [
       "   Pregnancies  Glucose  BloodPressure  SkinThickness  Insulin   BMI  \\\n",
       "0            6      148             72             35        0  33.6   \n",
       "1            1       85             66             29        0  26.6   \n",
       "2            8      183             64              0        0  23.3   \n",
       "3            1       89             66             23       94  28.1   \n",
       "4            0      137             40             35      168  43.1   \n",
       "\n",
       "   DiabetesPedigreeFunction  Age  Outcome  \n",
       "0                     0.627   50        1  \n",
       "1                     0.351   31        0  \n",
       "2                     0.672   32        1  \n",
       "3                     0.167   21        0  \n",
       "4                     2.288   33        1  "
      ]
     },
     "execution_count": 12,
     "metadata": {},
     "output_type": "execute_result"
    }
   ],
   "source": [
    "# df = pd.read_csv(\"master_no_missing_vals_1532369164.csv\")\n",
    "# df = pd.read_csv(\"master_binary_outcomes_v1_07_27_2018.csv\")\n",
    "df = pd.read_csv(\"pima_indians_diabetes.csv\")\n",
    "df.head()"
   ]
  },
  {
   "cell_type": "code",
   "execution_count": 13,
   "metadata": {},
   "outputs": [
    {
     "data": {
      "text/plain": [
       "Index(['Pregnancies', 'Glucose', 'BloodPressure', 'SkinThickness', 'Insulin',\n",
       "       'BMI', 'DiabetesPedigreeFunction', 'Age', 'Outcome'],\n",
       "      dtype='object')"
      ]
     },
     "execution_count": 13,
     "metadata": {},
     "output_type": "execute_result"
    }
   ],
   "source": [
    "df.columns"
   ]
  },
  {
   "cell_type": "code",
   "execution_count": 14,
   "metadata": {},
   "outputs": [
    {
     "name": "stderr",
     "output_type": "stream",
     "text": [
      "/Users/dmitriyb/anaconda3/lib/python3.6/site-packages/ipykernel_launcher.py:10: SettingWithCopyWarning: \n",
      "A value is trying to be set on a copy of a slice from a DataFrame.\n",
      "Try using .loc[row_indexer,col_indexer] = value instead\n",
      "\n",
      "See the caveats in the documentation: http://pandas.pydata.org/pandas-docs/stable/indexing.html#indexing-view-versus-copy\n",
      "  # Remove the CWD from sys.path while we load stuff.\n"
     ]
    }
   ],
   "source": [
    "\n",
    "# define X and y\n",
    "X = df[['Pregnancies', 'Glucose', 'BloodPressure', 'SkinThickness', 'Insulin',\n",
    "       'BMI', 'DiabetesPedigreeFunction', 'Age']]\n",
    "label_encode(X, X.columns.values)\n",
    "\n",
    "\n",
    "y = df[['Outcome']]\n",
    "label_encode(y, y.columns.values)\n",
    "y = y['Outcome']\n",
    "\n",
    "\n"
   ]
  },
  {
   "cell_type": "code",
   "execution_count": null,
   "metadata": {},
   "outputs": [],
   "source": [
    "#classify(X, y, classifier='nb', kfolds=10, report=True, features_select=3)\n",
    "#classify(X, y, classifier='svm', kern='rbf', kfolds=10, report=False, features_select=3)\n",
    "#X_pca = decompose(X)\n",
    "#classify(X_pca, y, classifier='svm', kern='rbf', kfolds=10, report=False, features_select=3)\n",
    "#print(X_pca.shape)\n",
    "# classify(X, y, classifier='svm', kern='linear', kfolds=10, report=True)\n",
    "# classify(X, y, classifier='svm', kern='poly', kfolds=10, report=True)\n",
    "# classify(X, y, classifier='knn', neighbors=3, kfolds=10)\n",
    "#classify(X, y, classifier='knn', neighbors=5, kfolds=10)\n",
    "# classify(X, y, classifier='knn', neighbors=7)\n",
    "classify(X, y, classifier='rf', neighbors=1000, kfolds=10)\n",
    "# classify(X, y, classifier='rf', neighbors=2000)\n",
    "# classify(X, y, classifier='dtree', kfolds=10)\n",
    "#classify(X, y, classifier='logisticregression', kfolds=10)"
   ]
  },
  {
   "cell_type": "code",
   "execution_count": null,
   "metadata": {
    "collapsed": true
   },
   "outputs": [],
   "source": []
  }
 ],
 "metadata": {
  "kernelspec": {
   "display_name": "Python 3",
   "language": "python",
   "name": "python3"
  },
  "language_info": {
   "codemirror_mode": {
    "name": "ipython",
    "version": 3
   },
   "file_extension": ".py",
   "mimetype": "text/x-python",
   "name": "python",
   "nbconvert_exporter": "python",
   "pygments_lexer": "ipython3",
   "version": "3.6.3"
  }
 },
 "nbformat": 4,
 "nbformat_minor": 2
}
