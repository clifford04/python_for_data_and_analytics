{
 "cells": [
  {
   "cell_type": "code",
   "execution_count": 1,
   "metadata": {},
   "outputs": [],
   "source": [
    "# Import Pandas module\n",
    "import pandas as pd\n",
    "\n",
    "# Import NumPy module\n",
    "import numpy as np\n",
    "\n",
    "# We will cover data visualization in more details later in the semester.\n",
    "# For now the only visualization that we'll explore is histograms.\n",
    "# Histograms are helpful for visually examining distribution of a particular variable\n",
    "\n",
    "# The following line is a directive that tells matplotlib module to display\n",
    "# generated graphs inline with the output of your code\n",
    "%matplotlib inline \n",
    "\n",
    "# Import matplotlib module.  Matplotlib module allows us to generate graphs from data\n",
    "import matplotlib.pyplot as plt\n"
   ]
  },
  {
   "cell_type": "code",
   "execution_count": 2,
   "metadata": {},
   "outputs": [
    {
     "data": {
      "text/html": [
       "<div>\n",
       "<style scoped>\n",
       "    .dataframe tbody tr th:only-of-type {\n",
       "        vertical-align: middle;\n",
       "    }\n",
       "\n",
       "    .dataframe tbody tr th {\n",
       "        vertical-align: top;\n",
       "    }\n",
       "\n",
       "    .dataframe thead th {\n",
       "        text-align: right;\n",
       "    }\n",
       "</style>\n",
       "<table border=\"1\" class=\"dataframe\">\n",
       "  <thead>\n",
       "    <tr style=\"text-align: right;\">\n",
       "      <th></th>\n",
       "      <th>id</th>\n",
       "      <th>chol</th>\n",
       "      <th>stab.glu</th>\n",
       "      <th>hdl</th>\n",
       "      <th>ratio</th>\n",
       "      <th>glyhb</th>\n",
       "      <th>location</th>\n",
       "      <th>age</th>\n",
       "      <th>gender</th>\n",
       "      <th>height</th>\n",
       "      <th>weight</th>\n",
       "      <th>frame</th>\n",
       "      <th>bp.1s</th>\n",
       "      <th>bp.1d</th>\n",
       "      <th>waist</th>\n",
       "      <th>hip</th>\n",
       "    </tr>\n",
       "  </thead>\n",
       "  <tbody>\n",
       "    <tr>\n",
       "      <td>0</td>\n",
       "      <td>1000</td>\n",
       "      <td>203.0</td>\n",
       "      <td>82.0</td>\n",
       "      <td>56.0</td>\n",
       "      <td>3.6</td>\n",
       "      <td>4.31</td>\n",
       "      <td>Buckingham</td>\n",
       "      <td>_46</td>\n",
       "      <td>female</td>\n",
       "      <td>62.0</td>\n",
       "      <td>121.0</td>\n",
       "      <td>medium</td>\n",
       "      <td>118.0</td>\n",
       "      <td>59.0</td>\n",
       "      <td>29.0</td>\n",
       "      <td>38.0</td>\n",
       "    </tr>\n",
       "    <tr>\n",
       "      <td>1</td>\n",
       "      <td>1001</td>\n",
       "      <td>165.0</td>\n",
       "      <td>97.0</td>\n",
       "      <td>24.0</td>\n",
       "      <td>6.9</td>\n",
       "      <td>4.44</td>\n",
       "      <td>Buckingham</td>\n",
       "      <td>29</td>\n",
       "      <td>female</td>\n",
       "      <td>64.0</td>\n",
       "      <td>218.0</td>\n",
       "      <td>large</td>\n",
       "      <td>112.0</td>\n",
       "      <td>68.0</td>\n",
       "      <td>46.0</td>\n",
       "      <td>48.0</td>\n",
       "    </tr>\n",
       "    <tr>\n",
       "      <td>2</td>\n",
       "      <td>1002</td>\n",
       "      <td>228.0</td>\n",
       "      <td>92.0</td>\n",
       "      <td>37.0</td>\n",
       "      <td>6.2</td>\n",
       "      <td>4.64</td>\n",
       "      <td>Buckingham</td>\n",
       "      <td>58</td>\n",
       "      <td>female</td>\n",
       "      <td>61.0</td>\n",
       "      <td>256.0</td>\n",
       "      <td>large</td>\n",
       "      <td>190.0</td>\n",
       "      <td>92.0</td>\n",
       "      <td>49.0</td>\n",
       "      <td>57.0</td>\n",
       "    </tr>\n",
       "    <tr>\n",
       "      <td>3</td>\n",
       "      <td>1003</td>\n",
       "      <td>78.0</td>\n",
       "      <td>93.0</td>\n",
       "      <td>12.0</td>\n",
       "      <td>6.5</td>\n",
       "      <td>4.63</td>\n",
       "      <td>Buckingham</td>\n",
       "      <td>67</td>\n",
       "      <td>male</td>\n",
       "      <td>67.0</td>\n",
       "      <td>119.0</td>\n",
       "      <td>large</td>\n",
       "      <td>110.0</td>\n",
       "      <td>50.0</td>\n",
       "      <td>33.0</td>\n",
       "      <td>38.0</td>\n",
       "    </tr>\n",
       "    <tr>\n",
       "      <td>4</td>\n",
       "      <td>1005</td>\n",
       "      <td>249.0</td>\n",
       "      <td>90.0</td>\n",
       "      <td>28.0</td>\n",
       "      <td>8.9</td>\n",
       "      <td>7.72</td>\n",
       "      <td>Buckingham</td>\n",
       "      <td>64</td>\n",
       "      <td>male</td>\n",
       "      <td>68.0</td>\n",
       "      <td>183.0</td>\n",
       "      <td>medium</td>\n",
       "      <td>138.0</td>\n",
       "      <td>80.0</td>\n",
       "      <td>44.0</td>\n",
       "      <td>41.0</td>\n",
       "    </tr>\n",
       "  </tbody>\n",
       "</table>\n",
       "</div>"
      ],
      "text/plain": [
       "     id   chol  stab.glu   hdl  ratio  glyhb    location  age  gender  height  \\\n",
       "0  1000  203.0      82.0  56.0    3.6   4.31  Buckingham  _46  female    62.0   \n",
       "1  1001  165.0      97.0  24.0    6.9   4.44  Buckingham   29  female    64.0   \n",
       "2  1002  228.0      92.0  37.0    6.2   4.64  Buckingham   58  female    61.0   \n",
       "3  1003   78.0      93.0  12.0    6.5   4.63  Buckingham   67    male    67.0   \n",
       "4  1005  249.0      90.0  28.0    8.9   7.72  Buckingham   64    male    68.0   \n",
       "\n",
       "   weight   frame  bp.1s  bp.1d  waist   hip  \n",
       "0   121.0  medium  118.0   59.0   29.0  38.0  \n",
       "1   218.0   large  112.0   68.0   46.0  48.0  \n",
       "2   256.0   large  190.0   92.0   49.0  57.0  \n",
       "3   119.0   large  110.0   50.0   33.0  38.0  \n",
       "4   183.0  medium  138.0   80.0   44.0  41.0  "
      ]
     },
     "execution_count": 2,
     "metadata": {},
     "output_type": "execute_result"
    }
   ],
   "source": [
    "# Import data file into a Pandas dataframe\n",
    "df = pd.read_csv(\"diabetes.csv\")\n",
    "\n",
    "# Display the first 5 rows of the data\n",
    "df.head()"
   ]
  },
  {
   "cell_type": "code",
   "execution_count": 3,
   "metadata": {},
   "outputs": [
    {
     "data": {
      "text/html": [
       "<div>\n",
       "<style scoped>\n",
       "    .dataframe tbody tr th:only-of-type {\n",
       "        vertical-align: middle;\n",
       "    }\n",
       "\n",
       "    .dataframe tbody tr th {\n",
       "        vertical-align: top;\n",
       "    }\n",
       "\n",
       "    .dataframe thead th {\n",
       "        text-align: right;\n",
       "    }\n",
       "</style>\n",
       "<table border=\"1\" class=\"dataframe\">\n",
       "  <thead>\n",
       "    <tr style=\"text-align: right;\">\n",
       "      <th></th>\n",
       "      <th>id</th>\n",
       "      <th>chol</th>\n",
       "      <th>stab.glu</th>\n",
       "      <th>hdl</th>\n",
       "      <th>ratio</th>\n",
       "      <th>glyhb</th>\n",
       "      <th>height</th>\n",
       "      <th>weight</th>\n",
       "      <th>bp.1s</th>\n",
       "      <th>bp.1d</th>\n",
       "      <th>waist</th>\n",
       "      <th>hip</th>\n",
       "    </tr>\n",
       "  </thead>\n",
       "  <tbody>\n",
       "    <tr>\n",
       "      <td>count</td>\n",
       "      <td>403.000000</td>\n",
       "      <td>400.000000</td>\n",
       "      <td>401.000000</td>\n",
       "      <td>402.000000</td>\n",
       "      <td>402.000000</td>\n",
       "      <td>390.000000</td>\n",
       "      <td>398.000000</td>\n",
       "      <td>402.000000</td>\n",
       "      <td>398.000000</td>\n",
       "      <td>398.000000</td>\n",
       "      <td>401.000000</td>\n",
       "      <td>401.000000</td>\n",
       "    </tr>\n",
       "    <tr>\n",
       "      <td>mean</td>\n",
       "      <td>15978.310174</td>\n",
       "      <td>207.895000</td>\n",
       "      <td>106.690773</td>\n",
       "      <td>50.445274</td>\n",
       "      <td>4.521642</td>\n",
       "      <td>5.589769</td>\n",
       "      <td>66.020101</td>\n",
       "      <td>177.592040</td>\n",
       "      <td>136.904523</td>\n",
       "      <td>83.321608</td>\n",
       "      <td>37.900249</td>\n",
       "      <td>43.039900</td>\n",
       "    </tr>\n",
       "    <tr>\n",
       "      <td>std</td>\n",
       "      <td>11881.122124</td>\n",
       "      <td>44.535069</td>\n",
       "      <td>53.206852</td>\n",
       "      <td>17.262626</td>\n",
       "      <td>1.727886</td>\n",
       "      <td>2.242595</td>\n",
       "      <td>3.918515</td>\n",
       "      <td>40.340666</td>\n",
       "      <td>22.741033</td>\n",
       "      <td>13.589227</td>\n",
       "      <td>5.729313</td>\n",
       "      <td>5.656713</td>\n",
       "    </tr>\n",
       "    <tr>\n",
       "      <td>min</td>\n",
       "      <td>1000.000000</td>\n",
       "      <td>78.000000</td>\n",
       "      <td>48.000000</td>\n",
       "      <td>12.000000</td>\n",
       "      <td>1.500000</td>\n",
       "      <td>2.680000</td>\n",
       "      <td>52.000000</td>\n",
       "      <td>99.000000</td>\n",
       "      <td>90.000000</td>\n",
       "      <td>48.000000</td>\n",
       "      <td>26.000000</td>\n",
       "      <td>30.000000</td>\n",
       "    </tr>\n",
       "    <tr>\n",
       "      <td>25%</td>\n",
       "      <td>4792.500000</td>\n",
       "      <td>179.000000</td>\n",
       "      <td>81.000000</td>\n",
       "      <td>38.000000</td>\n",
       "      <td>3.200000</td>\n",
       "      <td>4.380000</td>\n",
       "      <td>63.000000</td>\n",
       "      <td>151.000000</td>\n",
       "      <td>121.250000</td>\n",
       "      <td>75.000000</td>\n",
       "      <td>33.000000</td>\n",
       "      <td>39.000000</td>\n",
       "    </tr>\n",
       "    <tr>\n",
       "      <td>50%</td>\n",
       "      <td>15766.000000</td>\n",
       "      <td>204.000000</td>\n",
       "      <td>89.000000</td>\n",
       "      <td>46.000000</td>\n",
       "      <td>4.200000</td>\n",
       "      <td>4.840000</td>\n",
       "      <td>66.000000</td>\n",
       "      <td>172.500000</td>\n",
       "      <td>136.000000</td>\n",
       "      <td>82.000000</td>\n",
       "      <td>37.000000</td>\n",
       "      <td>42.000000</td>\n",
       "    </tr>\n",
       "    <tr>\n",
       "      <td>75%</td>\n",
       "      <td>20336.000000</td>\n",
       "      <td>230.250000</td>\n",
       "      <td>106.000000</td>\n",
       "      <td>59.000000</td>\n",
       "      <td>5.400000</td>\n",
       "      <td>5.600000</td>\n",
       "      <td>69.000000</td>\n",
       "      <td>200.000000</td>\n",
       "      <td>146.750000</td>\n",
       "      <td>90.000000</td>\n",
       "      <td>41.000000</td>\n",
       "      <td>46.000000</td>\n",
       "    </tr>\n",
       "    <tr>\n",
       "      <td>max</td>\n",
       "      <td>41756.000000</td>\n",
       "      <td>443.000000</td>\n",
       "      <td>385.000000</td>\n",
       "      <td>120.000000</td>\n",
       "      <td>19.299999</td>\n",
       "      <td>16.110001</td>\n",
       "      <td>76.000000</td>\n",
       "      <td>325.000000</td>\n",
       "      <td>250.000000</td>\n",
       "      <td>124.000000</td>\n",
       "      <td>56.000000</td>\n",
       "      <td>64.000000</td>\n",
       "    </tr>\n",
       "  </tbody>\n",
       "</table>\n",
       "</div>"
      ],
      "text/plain": [
       "                 id        chol    stab.glu         hdl       ratio  \\\n",
       "count    403.000000  400.000000  401.000000  402.000000  402.000000   \n",
       "mean   15978.310174  207.895000  106.690773   50.445274    4.521642   \n",
       "std    11881.122124   44.535069   53.206852   17.262626    1.727886   \n",
       "min     1000.000000   78.000000   48.000000   12.000000    1.500000   \n",
       "25%     4792.500000  179.000000   81.000000   38.000000    3.200000   \n",
       "50%    15766.000000  204.000000   89.000000   46.000000    4.200000   \n",
       "75%    20336.000000  230.250000  106.000000   59.000000    5.400000   \n",
       "max    41756.000000  443.000000  385.000000  120.000000   19.299999   \n",
       "\n",
       "            glyhb      height      weight       bp.1s       bp.1d       waist  \\\n",
       "count  390.000000  398.000000  402.000000  398.000000  398.000000  401.000000   \n",
       "mean     5.589769   66.020101  177.592040  136.904523   83.321608   37.900249   \n",
       "std      2.242595    3.918515   40.340666   22.741033   13.589227    5.729313   \n",
       "min      2.680000   52.000000   99.000000   90.000000   48.000000   26.000000   \n",
       "25%      4.380000   63.000000  151.000000  121.250000   75.000000   33.000000   \n",
       "50%      4.840000   66.000000  172.500000  136.000000   82.000000   37.000000   \n",
       "75%      5.600000   69.000000  200.000000  146.750000   90.000000   41.000000   \n",
       "max     16.110001   76.000000  325.000000  250.000000  124.000000   56.000000   \n",
       "\n",
       "              hip  \n",
       "count  401.000000  \n",
       "mean    43.039900  \n",
       "std      5.656713  \n",
       "min     30.000000  \n",
       "25%     39.000000  \n",
       "50%     42.000000  \n",
       "75%     46.000000  \n",
       "max     64.000000  "
      ]
     },
     "execution_count": 3,
     "metadata": {},
     "output_type": "execute_result"
    }
   ],
   "source": [
    "# Before cleaning your data or trying to figure out how to analyze it, it is always a \n",
    "# good idea to understand what your data actually looks like\n",
    "# describe() function of DataFrame allows us to view basic statistics about our data\n",
    "df.describe()"
   ]
  },
  {
   "cell_type": "code",
   "execution_count": 4,
   "metadata": {},
   "outputs": [
    {
     "data": {
      "text/plain": [
       "array([[<matplotlib.axes._subplots.AxesSubplot object at 0x114ec0d10>,\n",
       "        <matplotlib.axes._subplots.AxesSubplot object at 0x114e77e50>,\n",
       "        <matplotlib.axes._subplots.AxesSubplot object at 0x114e127d0>],\n",
       "       [<matplotlib.axes._subplots.AxesSubplot object at 0x1155c3fd0>,\n",
       "        <matplotlib.axes._subplots.AxesSubplot object at 0x115605810>,\n",
       "        <matplotlib.axes._subplots.AxesSubplot object at 0x115637f90>],\n",
       "       [<matplotlib.axes._subplots.AxesSubplot object at 0x115679850>,\n",
       "        <matplotlib.axes._subplots.AxesSubplot object at 0x1156b5090>,\n",
       "        <matplotlib.axes._subplots.AxesSubplot object at 0x1156b5bd0>],\n",
       "       [<matplotlib.axes._subplots.AxesSubplot object at 0x1156f6590>,\n",
       "        <matplotlib.axes._subplots.AxesSubplot object at 0x11575f8d0>,\n",
       "        <matplotlib.axes._subplots.AxesSubplot object at 0x11579fc50>]],\n",
       "      dtype=object)"
      ]
     },
     "execution_count": 4,
     "metadata": {},
     "output_type": "execute_result"
    },
    {
     "data": {
      "image/png": "[encoded data removed]",
      "text/plain": [
       "<Figure size 432x288 with 12 Axes>"
      ]
     },
     "metadata": {
      "needs_background": "light"
     },
     "output_type": "display_data"
    }
   ],
   "source": [
    "# Now let's generate histograms for all continuous variables to \n",
    "# make sure that there are no issues with distributions and/or outliers.\n",
    "df.hist()\n"
   ]
  },
  {
   "cell_type": "code",
   "execution_count": 7,
   "metadata": {},
   "outputs": [
    {
     "data": {
      "text/plain": [
       "<matplotlib.axes._subplots.AxesSubplot at 0x115e9b210>"
      ]
     },
     "execution_count": 7,
     "metadata": {},
     "output_type": "execute_result"
    },
    {
     "data": {
      "image/png": "[encoded data removed]",
      "text/plain": [
       "<Figure size 432x288 with 1 Axes>"
      ]
     },
     "metadata": {
      "needs_background": "light"
     },
     "output_type": "display_data"
    }
   ],
   "source": [
    "# Looking at histograms of all variables at the same time is a bit difficult, \n",
    "# so let's generate a histogram for the variable that we are actually\n",
    "# interested in examining\n",
    "df[\"chol\"].hist(bins=150)\n"
   ]
  },
  {
   "cell_type": "code",
   "execution_count": 8,
   "metadata": {},
   "outputs": [
    {
     "data": {
      "text/html": [
       "<div>\n",
       "<style scoped>\n",
       "    .dataframe tbody tr th:only-of-type {\n",
       "        vertical-align: middle;\n",
       "    }\n",
       "\n",
       "    .dataframe tbody tr th {\n",
       "        vertical-align: top;\n",
       "    }\n",
       "\n",
       "    .dataframe thead th {\n",
       "        text-align: right;\n",
       "    }\n",
       "</style>\n",
       "<table border=\"1\" class=\"dataframe\">\n",
       "  <thead>\n",
       "    <tr style=\"text-align: right;\">\n",
       "      <th></th>\n",
       "      <th>id</th>\n",
       "      <th>chol</th>\n",
       "      <th>stab.glu</th>\n",
       "      <th>hdl</th>\n",
       "      <th>ratio</th>\n",
       "      <th>glyhb</th>\n",
       "      <th>location</th>\n",
       "      <th>age</th>\n",
       "      <th>gender</th>\n",
       "      <th>height</th>\n",
       "      <th>weight</th>\n",
       "      <th>frame</th>\n",
       "      <th>bp.1s</th>\n",
       "      <th>bp.1d</th>\n",
       "      <th>waist</th>\n",
       "      <th>hip</th>\n",
       "    </tr>\n",
       "  </thead>\n",
       "  <tbody>\n",
       "    <tr>\n",
       "      <td>3</td>\n",
       "      <td>1003</td>\n",
       "      <td>78.0</td>\n",
       "      <td>93.0</td>\n",
       "      <td>12.0</td>\n",
       "      <td>6.500000</td>\n",
       "      <td>4.63</td>\n",
       "      <td>Buckingham</td>\n",
       "      <td>67</td>\n",
       "      <td>male</td>\n",
       "      <td>67.0</td>\n",
       "      <td>119.0</td>\n",
       "      <td>large</td>\n",
       "      <td>110.0</td>\n",
       "      <td>50.0</td>\n",
       "      <td>33.0</td>\n",
       "      <td>38.0</td>\n",
       "    </tr>\n",
       "    <tr>\n",
       "      <td>62</td>\n",
       "      <td>2778</td>\n",
       "      <td>443.0</td>\n",
       "      <td>185.0</td>\n",
       "      <td>23.0</td>\n",
       "      <td>19.299999</td>\n",
       "      <td>14.31</td>\n",
       "      <td>Buckingham</td>\n",
       "      <td>51</td>\n",
       "      <td>female</td>\n",
       "      <td>70.0</td>\n",
       "      <td>235.0</td>\n",
       "      <td>medium</td>\n",
       "      <td>158.0</td>\n",
       "      <td>98.0</td>\n",
       "      <td>43.0</td>\n",
       "      <td>48.0</td>\n",
       "    </tr>\n",
       "    <tr>\n",
       "      <td>294</td>\n",
       "      <td>20313</td>\n",
       "      <td>404.0</td>\n",
       "      <td>206.0</td>\n",
       "      <td>33.0</td>\n",
       "      <td>12.200000</td>\n",
       "      <td>10.75</td>\n",
       "      <td>Louisa</td>\n",
       "      <td>56</td>\n",
       "      <td>male</td>\n",
       "      <td>69.0</td>\n",
       "      <td>159.0</td>\n",
       "      <td>medium</td>\n",
       "      <td>162.0</td>\n",
       "      <td>88.0</td>\n",
       "      <td>38.0</td>\n",
       "      <td>39.0</td>\n",
       "    </tr>\n",
       "  </tbody>\n",
       "</table>\n",
       "</div>"
      ],
      "text/plain": [
       "        id   chol  stab.glu   hdl      ratio  glyhb    location age  gender  \\\n",
       "3     1003   78.0      93.0  12.0   6.500000   4.63  Buckingham  67    male   \n",
       "62    2778  443.0     185.0  23.0  19.299999  14.31  Buckingham  51  female   \n",
       "294  20313  404.0     206.0  33.0  12.200000  10.75      Louisa  56    male   \n",
       "\n",
       "     height  weight   frame  bp.1s  bp.1d  waist   hip  \n",
       "3      67.0   119.0   large  110.0   50.0   33.0  38.0  \n",
       "62     70.0   235.0  medium  158.0   98.0   43.0  48.0  \n",
       "294    69.0   159.0  medium  162.0   88.0   38.0  39.0  "
      ]
     },
     "execution_count": 8,
     "metadata": {},
     "output_type": "execute_result"
    }
   ],
   "source": [
    "q = \"chol < 100 | chol > 400\"\n",
    "df.query(q)"
   ]
  },
  {
   "cell_type": "code",
   "execution_count": 9,
   "metadata": {},
   "outputs": [
    {
     "data": {
      "text/plain": [
       "id            int64\n",
       "chol        float64\n",
       "stab.glu    float64\n",
       "hdl         float64\n",
       "ratio       float64\n",
       "glyhb       float64\n",
       "location     object\n",
       "age          object\n",
       "gender       object\n",
       "height      float64\n",
       "weight      float64\n",
       "frame        object\n",
       "bp.1s       float64\n",
       "bp.1d       float64\n",
       "waist       float64\n",
       "hip         float64\n",
       "dtype: object"
      ]
     },
     "execution_count": 9,
     "metadata": {},
     "output_type": "execute_result"
    }
   ],
   "source": [
    "df.dtypes"
   ]
  },
  {
   "cell_type": "code",
   "execution_count": 12,
   "metadata": {
    "scrolled": true
   },
   "outputs": [
    {
     "data": {
      "text/html": [
       "<div>\n",
       "<style scoped>\n",
       "    .dataframe tbody tr th:only-of-type {\n",
       "        vertical-align: middle;\n",
       "    }\n",
       "\n",
       "    .dataframe tbody tr th {\n",
       "        vertical-align: top;\n",
       "    }\n",
       "\n",
       "    .dataframe thead th {\n",
       "        text-align: right;\n",
       "    }\n",
       "</style>\n",
       "<table border=\"1\" class=\"dataframe\">\n",
       "  <thead>\n",
       "    <tr style=\"text-align: right;\">\n",
       "      <th></th>\n",
       "      <th>id</th>\n",
       "      <th>chol</th>\n",
       "      <th>stab.glu</th>\n",
       "      <th>hdl</th>\n",
       "      <th>ratio</th>\n",
       "      <th>glyhb</th>\n",
       "      <th>location</th>\n",
       "      <th>age</th>\n",
       "      <th>gender</th>\n",
       "      <th>height</th>\n",
       "      <th>weight</th>\n",
       "      <th>frame</th>\n",
       "      <th>bp.1s</th>\n",
       "      <th>bp.1d</th>\n",
       "      <th>waist</th>\n",
       "      <th>hip</th>\n",
       "    </tr>\n",
       "  </thead>\n",
       "  <tbody>\n",
       "    <tr>\n",
       "      <td>0</td>\n",
       "      <td>False</td>\n",
       "      <td>False</td>\n",
       "      <td>False</td>\n",
       "      <td>False</td>\n",
       "      <td>False</td>\n",
       "      <td>False</td>\n",
       "      <td>False</td>\n",
       "      <td>False</td>\n",
       "      <td>False</td>\n",
       "      <td>False</td>\n",
       "      <td>False</td>\n",
       "      <td>False</td>\n",
       "      <td>False</td>\n",
       "      <td>False</td>\n",
       "      <td>False</td>\n",
       "      <td>False</td>\n",
       "    </tr>\n",
       "    <tr>\n",
       "      <td>1</td>\n",
       "      <td>False</td>\n",
       "      <td>False</td>\n",
       "      <td>False</td>\n",
       "      <td>False</td>\n",
       "      <td>False</td>\n",
       "      <td>False</td>\n",
       "      <td>False</td>\n",
       "      <td>False</td>\n",
       "      <td>False</td>\n",
       "      <td>False</td>\n",
       "      <td>False</td>\n",
       "      <td>False</td>\n",
       "      <td>False</td>\n",
       "      <td>False</td>\n",
       "      <td>False</td>\n",
       "      <td>False</td>\n",
       "    </tr>\n",
       "    <tr>\n",
       "      <td>2</td>\n",
       "      <td>False</td>\n",
       "      <td>False</td>\n",
       "      <td>False</td>\n",
       "      <td>False</td>\n",
       "      <td>False</td>\n",
       "      <td>False</td>\n",
       "      <td>False</td>\n",
       "      <td>False</td>\n",
       "      <td>False</td>\n",
       "      <td>False</td>\n",
       "      <td>False</td>\n",
       "      <td>False</td>\n",
       "      <td>False</td>\n",
       "      <td>False</td>\n",
       "      <td>False</td>\n",
       "      <td>False</td>\n",
       "    </tr>\n",
       "    <tr>\n",
       "      <td>3</td>\n",
       "      <td>False</td>\n",
       "      <td>False</td>\n",
       "      <td>False</td>\n",
       "      <td>False</td>\n",
       "      <td>False</td>\n",
       "      <td>False</td>\n",
       "      <td>False</td>\n",
       "      <td>False</td>\n",
       "      <td>False</td>\n",
       "      <td>False</td>\n",
       "      <td>False</td>\n",
       "      <td>False</td>\n",
       "      <td>False</td>\n",
       "      <td>False</td>\n",
       "      <td>False</td>\n",
       "      <td>False</td>\n",
       "    </tr>\n",
       "    <tr>\n",
       "      <td>4</td>\n",
       "      <td>False</td>\n",
       "      <td>False</td>\n",
       "      <td>False</td>\n",
       "      <td>False</td>\n",
       "      <td>False</td>\n",
       "      <td>False</td>\n",
       "      <td>False</td>\n",
       "      <td>False</td>\n",
       "      <td>False</td>\n",
       "      <td>False</td>\n",
       "      <td>False</td>\n",
       "      <td>False</td>\n",
       "      <td>False</td>\n",
       "      <td>False</td>\n",
       "      <td>False</td>\n",
       "      <td>False</td>\n",
       "    </tr>\n",
       "  </tbody>\n",
       "</table>\n",
       "</div>"
      ],
      "text/plain": [
       "      id   chol  stab.glu    hdl  ratio  glyhb  location    age  gender  \\\n",
       "0  False  False     False  False  False  False     False  False   False   \n",
       "1  False  False     False  False  False  False     False  False   False   \n",
       "2  False  False     False  False  False  False     False  False   False   \n",
       "3  False  False     False  False  False  False     False  False   False   \n",
       "4  False  False     False  False  False  False     False  False   False   \n",
       "\n",
       "   height  weight  frame  bp.1s  bp.1d  waist    hip  \n",
       "0   False   False  False  False  False  False  False  \n",
       "1   False   False  False  False  False  False  False  \n",
       "2   False   False  False  False  False  False  False  \n",
       "3   False   False  False  False  False  False  False  \n",
       "4   False   False  False  False  False  False  False  "
      ]
     },
     "execution_count": 12,
     "metadata": {},
     "output_type": "execute_result"
    }
   ],
   "source": [
    "# Now let's check which values in the dataset are missing\n",
    "# Note that Pandas treats missing, empty, and null as pretty much the same thing\n",
    "# isnull() function will render the entire DataFrame with False value in those\n",
    "# records where the data IS NOT missing, and True where the value IS missing\n",
    "df.isnull().head()\n",
    "\n"
   ]
  },
  {
   "cell_type": "code",
   "execution_count": 14,
   "metadata": {
    "scrolled": true
   },
   "outputs": [
    {
     "data": {
      "text/html": [
       "<div>\n",
       "<style scoped>\n",
       "    .dataframe tbody tr th:only-of-type {\n",
       "        vertical-align: middle;\n",
       "    }\n",
       "\n",
       "    .dataframe tbody tr th {\n",
       "        vertical-align: top;\n",
       "    }\n",
       "\n",
       "    .dataframe thead th {\n",
       "        text-align: right;\n",
       "    }\n",
       "</style>\n",
       "<table border=\"1\" class=\"dataframe\">\n",
       "  <thead>\n",
       "    <tr style=\"text-align: right;\">\n",
       "      <th></th>\n",
       "      <th>id</th>\n",
       "      <th>chol</th>\n",
       "      <th>stab.glu</th>\n",
       "      <th>hdl</th>\n",
       "      <th>ratio</th>\n",
       "      <th>glyhb</th>\n",
       "      <th>location</th>\n",
       "      <th>age</th>\n",
       "      <th>gender</th>\n",
       "      <th>height</th>\n",
       "      <th>weight</th>\n",
       "      <th>frame</th>\n",
       "      <th>bp.1s</th>\n",
       "      <th>bp.1d</th>\n",
       "      <th>waist</th>\n",
       "      <th>hip</th>\n",
       "    </tr>\n",
       "  </thead>\n",
       "  <tbody>\n",
       "    <tr>\n",
       "      <td>27</td>\n",
       "      <td>1281</td>\n",
       "      <td>NaN</td>\n",
       "      <td>74.0</td>\n",
       "      <td>NaN</td>\n",
       "      <td>NaN</td>\n",
       "      <td>4.28</td>\n",
       "      <td>Buckingham</td>\n",
       "      <td>48</td>\n",
       "      <td>male</td>\n",
       "      <td>68.0</td>\n",
       "      <td>100.0</td>\n",
       "      <td>small</td>\n",
       "      <td>120.0</td>\n",
       "      <td>85.0</td>\n",
       "      <td>27.0</td>\n",
       "      <td>33.0</td>\n",
       "    </tr>\n",
       "  </tbody>\n",
       "</table>\n",
       "</div>"
      ],
      "text/plain": [
       "      id  chol  stab.glu  hdl  ratio  glyhb    location age gender  height  \\\n",
       "27  1281   NaN      74.0  NaN    NaN   4.28  Buckingham  48   male    68.0   \n",
       "\n",
       "    weight  frame  bp.1s  bp.1d  waist   hip  \n",
       "27   100.0  small  120.0   85.0   27.0  33.0  "
      ]
     },
     "execution_count": 14,
     "metadata": {},
     "output_type": "execute_result"
    }
   ],
   "source": [
    "qry = \"hdl == True\"\n",
    "df.isnull().query(qry)\n",
    "df.iloc[[27]]\n"
   ]
  },
  {
   "cell_type": "code",
   "execution_count": null,
   "metadata": {},
   "outputs": [],
   "source": [
    "qry = \"hdl == 'NaN'\"\n",
    "df.query(qry)"
   ]
  },
  {
   "cell_type": "code",
   "execution_count": null,
   "metadata": {},
   "outputs": [],
   "source": [
    "# As you can see, running isnull() on the entire dataframe produces\n",
    "# too much data and it difficult to examine visually.  To summarize\n",
    "# which columns have missing data, we can comibine isnull() with sum()\n",
    "\n",
    "df.isnull().sum()"
   ]
  },
  {
   "cell_type": "code",
   "execution_count": null,
   "metadata": {},
   "outputs": [],
   "source": [
    "# Alternatively, you can run isnull().sum() on a specific column:\n",
    "\n",
    "df[\"chol\"].isnull().sum()\n",
    "\n",
    "\n"
   ]
  },
  {
   "cell_type": "code",
   "execution_count": null,
   "metadata": {},
   "outputs": [],
   "source": [
    "# Now let's deal with missing values\n",
    "\n",
    "# Solution 1: Remove rows with empty values\n",
    "# If there are only a few null values and you know that deleting values will \n",
    "# not cause adverse effects on your result, remove them from your DataFrame and \n",
    "# store that in a new DataFrame* mod_df = df.dropna()\n",
    "\n",
    "print(\"Missing values before dropping rows: \")\n",
    "#print(df.isnull().sum())\n",
    "print(df.shape)\n",
    "\n",
    "mod_df = df.dropna()\n",
    "print(\"Missing values after dropping rows: \")\n",
    "#print(mod_df.isnull().sum())\n",
    "print(mod_df.shape)\n",
    "\n"
   ]
  },
  {
   "cell_type": "code",
   "execution_count": null,
   "metadata": {},
   "outputs": [],
   "source": [
    "df[\"chol\"].hist(bins=100)"
   ]
  },
  {
   "cell_type": "code",
   "execution_count": null,
   "metadata": {},
   "outputs": [],
   "source": [
    "# Solution 2: Fill missing values with a mean (average) value of a given column\n",
    "\n",
    "# Find the mean\n",
    "df[\"chol\"].mean()"
   ]
  },
  {
   "cell_type": "code",
   "execution_count": null,
   "metadata": {},
   "outputs": [],
   "source": [
    "# Fill missing values with a mean (average) value of a given column\n",
    "# Note the inplace=True parameter - that means that we are overwriting the data\n",
    "# in the existing dataset\n",
    "df[\"chol\"].fillna(df[\"chol\"].mean(), inplace=True)"
   ]
  },
  {
   "cell_type": "code",
   "execution_count": null,
   "metadata": {},
   "outputs": [],
   "source": [
    "# Now let's figure out how to deal with discrete values\n",
    "# Gender is a non-numeric (discrete) column, so we cannot use\n",
    "# mean, median, or mode to replace the missing value\n",
    "# A (somewhat) acceptable solution is to replace missing values with \n",
    "# the most frequently occurring value\n",
    "\n",
    "# Let's find out the number of missing values in the \"gender\" column\n",
    "df[\"gender\"].isnull().sum()\n"
   ]
  },
  {
   "cell_type": "code",
   "execution_count": null,
   "metadata": {},
   "outputs": [],
   "source": [
    "#df.plot.bar(\"gender\")\n",
    "df[\"gender\"].hist()"
   ]
  },
  {
   "cell_type": "code",
   "execution_count": null,
   "metadata": {},
   "outputs": [],
   "source": [
    "df[\"gender\"].value_counts()"
   ]
  },
  {
   "cell_type": "code",
   "execution_count": null,
   "metadata": {},
   "outputs": [],
   "source": [
    "# You can use Pandas' groupby() function to group by and aggregate your DataFrame\n",
    "# by a particular column or a set of columns\n",
    "\n",
    "# Let's group by gender and aggregate by mean and count\n",
    "df.groupby([\"gender\"]).agg([\"mean\", \"count\"])"
   ]
  },
  {
   "cell_type": "code",
   "execution_count": null,
   "metadata": {},
   "outputs": [],
   "source": [
    "# Now let's group by so we just get a list of genders and a count for each gender\n",
    "df.groupby([\"gender\"]).agg({'gender':'count'})"
   ]
  },
  {
   "cell_type": "code",
   "execution_count": null,
   "metadata": {},
   "outputs": [],
   "source": [
    "# Now that we know that \"female\" occurs more frequently...\n",
    "df[\"gender\"].fillna(\"female\", inplace=True)"
   ]
  },
  {
   "cell_type": "code",
   "execution_count": null,
   "metadata": {},
   "outputs": [],
   "source": [
    "df.columns"
   ]
  },
  {
   "cell_type": "code",
   "execution_count": null,
   "metadata": {},
   "outputs": [],
   "source": [
    "df.head()"
   ]
  },
  {
   "cell_type": "code",
   "execution_count": null,
   "metadata": {},
   "outputs": [],
   "source": [
    "df.describe()"
   ]
  },
  {
   "cell_type": "code",
   "execution_count": null,
   "metadata": {},
   "outputs": [],
   "source": [
    "df.dtypes"
   ]
  },
  {
   "cell_type": "code",
   "execution_count": null,
   "metadata": {},
   "outputs": [],
   "source": [
    "for idx, row in df.iterrows(): # Iterate through each row of pandas\n",
    "    for item in row: # Iterate through columns in each row\n",
    "        print(np.isreal(item)) # Check each value"
   ]
  },
  {
   "cell_type": "code",
   "execution_count": null,
   "metadata": {},
   "outputs": [],
   "source": [
    "# Let's check to make sure that the data in a given column is all numeric\n",
    "df.applymap(np.isreal)"
   ]
  },
  {
   "cell_type": "code",
   "execution_count": null,
   "metadata": {},
   "outputs": [],
   "source": [
    "# Now let's check a specific column:\n",
    "\n",
    "df[\"age\"].to_frame().applymap(np.isreal)"
   ]
  },
  {
   "cell_type": "code",
   "execution_count": null,
   "metadata": {},
   "outputs": [],
   "source": [
    "# Now let's find the specific non-numeric values\n",
    "for val in df[\"age\"]:\n",
    "    if not str(val).isdigit():\n",
    "        print(val)"
   ]
  },
  {
   "cell_type": "code",
   "execution_count": null,
   "metadata": {},
   "outputs": [],
   "source": [
    "df[\"age\"].sum()"
   ]
  },
  {
   "cell_type": "code",
   "execution_count": null,
   "metadata": {},
   "outputs": [],
   "source": [
    "# In this case, the number is preceded with an underscore. \n",
    "# We can easily fix this by replacing the underscore with an empty string\n",
    "df[\"age\"] = df[\"age\"].str.strip().str.lower().str.replace('_', '')\n",
    "\n",
    "# Let's check our work again\n",
    "for val in df[\"age\"]:\n",
    "    if not str(val).isdigit():\n",
    "        print(val)"
   ]
  },
  {
   "cell_type": "code",
   "execution_count": null,
   "metadata": {},
   "outputs": [],
   "source": [
    "# We don't seem to have any non-numeric values, but as far as the DataFrame\n",
    "# is concerned, we are still not dealing with numbers:\n",
    "df[\"age\"].dtype"
   ]
  },
  {
   "cell_type": "code",
   "execution_count": null,
   "metadata": {},
   "outputs": [],
   "source": [
    "# Let's convert all the values in the column to numbers\n",
    "#df[\"age\"].apply(pd.to_numeric)\n",
    "#df[\"age\"] = df[\"age\"].astype(\"int64\")\n",
    "df[\"age\"] = df[\"age\"].astype(\"float64\")"
   ]
  },
  {
   "cell_type": "code",
   "execution_count": null,
   "metadata": {},
   "outputs": [],
   "source": [
    "df['age']"
   ]
  },
  {
   "cell_type": "code",
   "execution_count": null,
   "metadata": {},
   "outputs": [],
   "source": [
    "df['age'].dtype"
   ]
  },
  {
   "cell_type": "code",
   "execution_count": null,
   "metadata": {},
   "outputs": [],
   "source": [
    "df.describe()"
   ]
  },
  {
   "cell_type": "code",
   "execution_count": null,
   "metadata": {},
   "outputs": [],
   "source": []
  }
 ],
 "metadata": {
  "kernelspec": {
   "display_name": "Python 3",
   "language": "python",
   "name": "python3"
  },
  "language_info": {
   "codemirror_mode": {
    "name": "ipython",
    "version": 3
   },
   "file_extension": ".py",
   "mimetype": "text/x-python",
   "name": "python",
   "nbconvert_exporter": "python",
   "pygments_lexer": "ipython3",
   "version": "3.7.4"
  }
 },
 "nbformat": 4,
 "nbformat_minor": 2
}
