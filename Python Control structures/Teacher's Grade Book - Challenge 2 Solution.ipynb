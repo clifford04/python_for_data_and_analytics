{
 "cells": [
  {
   "cell_type": "markdown",
   "metadata": {},
   "source": [
    "## Teacher's Grade Book (2)\n",
    "A teacher is using a simple Python program to enter her student's grades. But she is running into a problem. She can't perform any math operations on the grades. Can you help her?\n",
    "\n",
    "### Challenge\n",
    "This challenge builds on Teacher's Grade Book (1).<br>\n",
    "Fix the program below to help the teacher do the math on the grades that she needs to:<br>\n",
    "1. Given a student's cumilative number of points and number of assignments, what letter grade do they currently have?\n",
    "2. What is the average letter grade on an assignment?\n",
    "\n",
    "Assume every assignment is worth 100 points. Do not worry about percentages.\n",
    "\n",
    "Use the following grading scale:\n",
    "- A: 90-100+\n",
    "- B: 80-89\n",
    "- C: 70-79\n",
    "- D: 60-69\n",
    "- F: 0-59"
   ]
  },
  {
   "cell_type": "code",
   "execution_count": 24,
   "metadata": {
    "collapsed": true
   },
   "outputs": [],
   "source": [
    "# This is one student's total number of points earned and number of assignments graded.\n",
    "# You may change these values to test your code.\n",
    "score = 900\n",
    "assignments = 10"
   ]
  },
  {
   "cell_type": "code",
   "execution_count": 25,
   "metadata": {},
   "outputs": [
    {
     "data": {
      "text/plain": [
       "90.0"
      ]
     },
     "execution_count": 25,
     "metadata": {},
     "output_type": "execute_result"
    }
   ],
   "source": [
    "# Complete the equation below to find the student's average score.\n",
    "# Remember that every assignment is worth 100 points, don't use a percentage.\n",
    "student_average = score / assignments\n",
    "student_average"
   ]
  },
  {
   "cell_type": "code",
   "execution_count": 26,
   "metadata": {},
   "outputs": [
    {
     "name": "stdout",
     "output_type": "stream",
     "text": [
      "Letter Grade: A\n",
      "Average Score: 90.0\n"
     ]
    }
   ],
   "source": [
    "# Use conditional statements to determine the student's letter grade using the grading scale given.\n",
    "# Print out the student's average score and letter grade.\n",
    "\n",
    "# The letter grade could also be assigned to a variable and printed after the set of conditionals.\n",
    "if (student_average >= 90):\n",
    "    print (\"Letter Grade: A\")\n",
    "elif (student_average >= 80):\n",
    "    print (\"Letter Grade: B\")\n",
    "elif (student_average >= 70):\n",
    "    print (\"Letter Grade: C\")\n",
    "elif (student_average >= 60):\n",
    "    print (\"Letter Grade: D\")\n",
    "else:\n",
    "    print (\"Letter Grade: F\")\n",
    "\n",
    "print(\"Average Score:\", student_average)"
   ]
  },
  {
   "cell_type": "code",
   "execution_count": 32,
   "metadata": {},
   "outputs": [
    {
     "name": "stdout",
     "output_type": "stream",
     "text": [
      "How many students are there? 11\n"
     ]
    }
   ],
   "source": [
    "# Complete this cell to prompt the teacher to enter how many students were graded for this assignment.\n",
    "# Remember that every assignment is worth 100 points.\n",
    "total_score = 720        # This is the sum of scores of all students for one assignment.\n",
    "students = int(input('How many students are there? '))\n",
    "average_score = total_score / students     # This is the average number score on the assignment."
   ]
  },
  {
   "cell_type": "code",
   "execution_count": 33,
   "metadata": {},
   "outputs": [
    {
     "name": "stdout",
     "output_type": "stream",
     "text": [
      "Letter Grade: D\n",
      "Average Score: 65.45454545454545\n"
     ]
    }
   ],
   "source": [
    "# Use conditional statements to determine the letter grade of the average score on the assignment.\n",
    "# Use the grading scale given.\n",
    "# Print out the average score and letter grade.\n",
    "\n",
    "# The letter grade could also be assigned to a variable and printed after the set of conditionals.\n",
    "if (average_score >= 90):\n",
    "    print (\"Letter Grade: A\")\n",
    "elif (average_score >= 80):\n",
    "    print (\"Letter Grade: B\")\n",
    "elif (average_score >= 70):\n",
    "    print (\"Letter Grade: C\")\n",
    "elif (average_score >= 60):\n",
    "    print (\"Letter Grade: D\")\n",
    "else:\n",
    "    print (\"Letter Grade: F\")\n",
    "\n",
    "print(\"Average Score:\", average_score)"
   ]
  },
  {
   "cell_type": "code",
   "execution_count": null,
   "metadata": {
    "collapsed": true
   },
   "outputs": [],
   "source": []
  }
 ],
 "metadata": {
  "kernelspec": {
   "display_name": "Python 3",
   "language": "python",
   "name": "python3"
  },
  "language_info": {
   "codemirror_mode": {
    "name": "ipython",
    "version": 3
   },
   "file_extension": ".py",
   "mimetype": "text/x-python",
   "name": "python",
   "nbconvert_exporter": "python",
   "pygments_lexer": "ipython3",
   "version": "3.6.1"
  }
 },
 "nbformat": 4,
 "nbformat_minor": 2
}
