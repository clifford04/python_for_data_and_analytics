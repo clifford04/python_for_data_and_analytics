{
 "cells": [
  {
   "cell_type": "markdown",
   "metadata": {},
   "source": [
    "## Wind Chill\n",
    "During the winter months, the temperature is often described as what it really feels like outside. This is also known as the wind chill.<br>\n",
    "This information helps many people in their decision of how warmly to dress for the day. It also helps in determining whether or not schools have delays or cancellations.<br><br>\n",
    "Information source: [Weather.gov](https://www.weather.gov/media/epz/wxcalc/windChill.pdf)\n",
    "\n",
    "### Challenge\n",
    "Using the formula for wind chill given below, create a \"chained-if statement\" to ensure that the formula works for the following conditions:\n",
    "- the temperature must be at or below 50 degrees\n",
    "- the wind speed must be at least 3 miles per hour\n",
    "\n",
    "Assume temperature is in degrees Fahrenheit and that wind speed is in miles per hour.<br><br>\n",
    "Provide a message for the user if the test condition fails.<br>\n",
    "Round the wind chill to a whole number (integer value).<br>\n",
    "Make sure to test all conditions.<br>"
   ]
  },
  {
   "cell_type": "code",
   "execution_count": 1,
   "metadata": {
    "collapsed": true
   },
   "outputs": [],
   "source": [
    "temperature = 20     # temperature in degrees F\n",
    "wind = 1           # wind speed in mph"
   ]
  },
  {
   "cell_type": "code",
   "execution_count": 2,
   "metadata": {
    "collapsed": true
   },
   "outputs": [],
   "source": [
    "# formula for wind chill, see source indicated above for detailed description\n",
    "# wind_chill holds the result of the calculation\n",
    "# wind_chill = 35.74 + (0.6215 * temperature) - (35.75 * (wind ** 0.16)) + (0.4275 * temperature * (wind ** 0.16))"
   ]
  },
  {
   "cell_type": "code",
   "execution_count": 3,
   "metadata": {},
   "outputs": [
    {
     "name": "stdout",
     "output_type": "stream",
     "text": [
      "The wind speed is too low.\n"
     ]
    }
   ],
   "source": [
    "# first, the temperature condition is tested, then the wind speed condition\n",
    "# if both conditions pass, the wind chill is calculated and printed\n",
    "# if at least one condition fails, an error message is printed\n",
    "\n",
    "if (temperature <= 50):\n",
    "    if (wind >= 3):\n",
    "        wind_chill = 35.74 + (0.6215 * temperature) - (35.75 * (wind ** 0.16)) + (0.4275 * temperature * (wind ** 0.16))\n",
    "        print(\"The wind chill is \", int(wind_chill), \" degrees F.\")\n",
    "    else:\n",
    "        print(\"The wind speed is too low.\")\n",
    "else:\n",
    "    print(\"The temperature is too high.\")"
   ]
  },
  {
   "cell_type": "code",
   "execution_count": 4,
   "metadata": {},
   "outputs": [],
   "source": [
    "# print(\"The wind chill is \", int(wind_chill), \" degrees F.\")"
   ]
  },
  {
   "cell_type": "markdown",
   "metadata": {
    "collapsed": true
   },
   "source": [
    "### Bonus Challenge\n",
    "Complete the same challenge as above, but instead of using a \"chained-if statement\", use a logical operator and a single `if` statement."
   ]
  },
  {
   "cell_type": "code",
   "execution_count": 5,
   "metadata": {},
   "outputs": [
    {
     "name": "stdout",
     "output_type": "stream",
     "text": [
      "The temperature must be 50 or below, and the wind speed must be 3 or higher.\n"
     ]
    }
   ],
   "source": [
    "# the temperature and wind speed conditions must both be true for the wind chill to be calculated and printed\n",
    "# if either condition fails, an error message is printed\n",
    "\n",
    "if (temperature <= 50) and (wind >= 3):\n",
    "    wind_chill = 35.74 + (0.6215 * temperature) - (35.75 * (wind ** 0.16)) + (0.4275 * temperature * (wind ** 0.16))\n",
    "    print(\"The wind chill is \", int(wind_chill), \" degrees F.\")\n",
    "else:\n",
    "    print(\"The temperature must be 50 or below, and the wind speed must be 3 or higher.\")"
   ]
  },
  {
   "cell_type": "code",
   "execution_count": null,
   "metadata": {
    "collapsed": true
   },
   "outputs": [],
   "source": []
  }
 ],
 "metadata": {
  "kernelspec": {
   "display_name": "Python 3",
   "language": "python",
   "name": "python3"
  },
  "language_info": {
   "codemirror_mode": {
    "name": "ipython",
    "version": 3
   },
   "file_extension": ".py",
   "mimetype": "text/x-python",
   "name": "python",
   "nbconvert_exporter": "python",
   "pygments_lexer": "ipython3",
   "version": "3.6.1"
  }
 },
 "nbformat": 4,
 "nbformat_minor": 2
}
