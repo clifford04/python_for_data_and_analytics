{
 "cells": [
  {
   "cell_type": "markdown",
   "metadata": {},
   "source": [
    "## Teacher's Grade Book (2)\n",
    "A teacher is using a simple Python program to enter her student's grades. But she is running into a problem. She can't perform any math operations on the grades. Can you help her?\n",
    "\n",
    "### Challenge\n",
    "This challenge builds on Teacher's Grade Book (1).<br>\n",
    "Fix the program below to help the teacher do the math on the grades that she needs to:<br>\n",
    "1. Given a student's cumilative number of points and number of assignments, what letter grade do they currently have?\n",
    "2. What is the average letter grade on an assignment?\n",
    "\n",
    "Assume every assignment is worth 100 points. Do not worry about percentages.\n",
    "\n",
    "Use the following grading scale:\n",
    "- A: 90-100+\n",
    "- B: 80-89\n",
    "- C: 70-79\n",
    "- D: 60-69\n",
    "- F: 0-59"
   ]
  },
  {
   "cell_type": "code",
   "execution_count": 1,
   "metadata": {
    "collapsed": true
   },
   "outputs": [],
   "source": [
    "# This is one student's total number of points earned and number of assignments graded.\n",
    "# You may change these values to test your code.\n",
    "score = 900\n",
    "assignments = 10"
   ]
  },
  {
   "cell_type": "code",
   "execution_count": 2,
   "metadata": {},
   "outputs": [],
   "source": [
    "# Complete the equation below to find the student's average score.\n",
    "# Remember that every assignment is worth 100 points, don't use a percentage.\n",
    "# student_average = score / ????\n",
    "student_average"
   ]
  },
  {
   "cell_type": "code",
   "execution_count": 3,
   "metadata": {},
   "outputs": [],
   "source": [
    "# Use conditional statements to determine the student's letter grade using the grading scale given.\n",
    "# Print out the student's average score and letter grade."
   ]
  },
  {
   "cell_type": "code",
   "execution_count": 4,
   "metadata": {},
   "outputs": [
    {
     "name": "stdout",
     "output_type": "stream",
     "text": [
      "How many students are there? 8\n"
     ]
    },
    {
     "ename": "TypeError",
     "evalue": "unsupported operand type(s) for /: 'int' and 'str'",
     "output_type": "error",
     "traceback": [
      "\u001b[0;31m---------------------------------------------------------------------------\u001b[0m",
      "\u001b[0;31mTypeError\u001b[0m                                 Traceback (most recent call last)",
      "\u001b[0;32m<ipython-input-4-0faed717d548>\u001b[0m in \u001b[0;36m<module>\u001b[0;34m()\u001b[0m\n\u001b[1;32m      2\u001b[0m \u001b[0mtotal_score\u001b[0m \u001b[0;34m=\u001b[0m \u001b[0;36m720\u001b[0m        \u001b[0;31m# This is the sum of scores of all students for one assignment.\u001b[0m\u001b[0;34m\u001b[0m\u001b[0m\n\u001b[1;32m      3\u001b[0m \u001b[0mstudents\u001b[0m \u001b[0;34m=\u001b[0m \u001b[0minput\u001b[0m\u001b[0;34m(\u001b[0m\u001b[0;34m'How many students are there? '\u001b[0m\u001b[0;34m)\u001b[0m\u001b[0;34m\u001b[0m\u001b[0m\n\u001b[0;32m----> 4\u001b[0;31m \u001b[0maverage_score\u001b[0m \u001b[0;34m=\u001b[0m \u001b[0mtotal_score\u001b[0m \u001b[0;34m/\u001b[0m \u001b[0mstudents\u001b[0m     \u001b[0;31m# This is the average number score on the assignment.\u001b[0m\u001b[0;34m\u001b[0m\u001b[0m\n\u001b[0m",
      "\u001b[0;31mTypeError\u001b[0m: unsupported operand type(s) for /: 'int' and 'str'"
     ]
    }
   ],
   "source": [
    "# Complete this cell to prompt the teacher to enter how many students were graded for this assignment.\n",
    "# Remember that every assignment is worth 100 points.\n",
    "total_score = 720        # This is the sum of scores of all students for one assignment.\n",
    "students = input('How many students are there? ')\n",
    "average_score = total_score / students     # This is the average number score on the assignment."
   ]
  },
  {
   "cell_type": "code",
   "execution_count": 5,
   "metadata": {
    "collapsed": true
   },
   "outputs": [],
   "source": [
    "# Use conditional statements to determine the letter grade of the average score on the assignment.\n",
    "# Use the grading scale given.\n",
    "# Print out the average score and letter grade."
   ]
  },
  {
   "cell_type": "code",
   "execution_count": null,
   "metadata": {
    "collapsed": true
   },
   "outputs": [],
   "source": []
  }
 ],
 "metadata": {
  "kernelspec": {
   "display_name": "Python 3",
   "language": "python",
   "name": "python3"
  },
  "language_info": {
   "codemirror_mode": {
    "name": "ipython",
    "version": 3
   },
   "file_extension": ".py",
   "mimetype": "text/x-python",
   "name": "python",
   "nbconvert_exporter": "python",
   "pygments_lexer": "ipython3",
   "version": "3.6.1"
  }
 },
 "nbformat": 4,
 "nbformat_minor": 2
}
