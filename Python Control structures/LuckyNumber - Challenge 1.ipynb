{
 "cells": [
  {
   "cell_type": "markdown",
   "metadata": {},
   "source": [
    "**Lucky Number: Challenge 1**\n",
    "\n",
    "Many cultures consider number 7 to be a lucky number.  This program takes a numeric\n",
    "input from a user and checks if the input is a \"lucky\" number.\n",
    "\n",
    "** CHALLENGE **\n",
    "\n",
    "Some users will try to submit a blank input.  When user submits input without entering a value, input string will be empty, or equal to a blank string (\"\"). Make sure to validate user inputs"
   ]
  },
  {
   "cell_type": "code",
   "execution_count": 1,
   "metadata": {
    "collapsed": true
   },
   "outputs": [],
   "source": [
    "# We will declare our lucky number 7 as a variable\n",
    "LUCKY_NUMBER = 7\n"
   ]
  },
  {
   "cell_type": "code",
   "execution_count": null,
   "metadata": {},
   "outputs": [],
   "source": [
    "# Ask user to input a number.  Note that even though the user will enter a number,\n",
    "# Python will treat the input as a string\n",
    "user_input = input(\"Please enter a number:\")\n",
    "\n",
    "print(\"You entered: \" + user_input)"
   ]
  },
  {
   "cell_type": "code",
   "execution_count": null,
   "metadata": {},
   "outputs": [],
   "source": [
    "# Unlike Java, C#, or C++ where we have to check for both empty string and null values,\n",
    "# Python has a built-in function that checks if the value is numeric:\n",
    "if user_input.isdigit():\n",
    "\t# Now we need to convert the input string to a number.  In this case, we will convert the\n",
    "\t# input string to an integer\n",
    "\tnum = int(user_input)\n",
    "\n",
    "\t# Check if the number equals to 7.  Note that we are using a comparison operator\n",
    "\t# (double-equal sign ==) instead of the assignment operator (single equal sign =)\n",
    "\tif num == LUCKY_NUMBER:\n",
    "\t\tprint(\"You entered the lucky number \" + str(LUCKY_NUMBER) + \"!\")\n",
    "\telse:\n",
    "\t\tprint(\"You entered number \" + str(num) + \".  It may be a lucky number for you, but it's not the lucky number \" + str(LUCKY_NUMBER) + \"!\")\n",
    "else:\n",
    "\t#Display an error message\n",
    "\tprint(\"Hey, if you want us to tell you your lucky number, you actually have to enter one!\")\n"
   ]
  },
  {
   "cell_type": "code",
   "execution_count": null,
   "metadata": {
    "collapsed": true
   },
   "outputs": [],
   "source": []
  },
  {
   "cell_type": "code",
   "execution_count": null,
   "metadata": {
    "collapsed": true
   },
   "outputs": [],
   "source": []
  },
  {
   "cell_type": "code",
   "execution_count": null,
   "metadata": {
    "collapsed": true
   },
   "outputs": [],
   "source": []
  }
 ],
 "metadata": {
  "kernelspec": {
   "display_name": "Python 3",
   "language": "python",
   "name": "python3"
  },
  "language_info": {
   "codemirror_mode": {
    "name": "ipython",
    "version": 3
   },
   "file_extension": ".py",
   "mimetype": "text/x-python",
   "name": "python",
   "nbconvert_exporter": "python",
   "pygments_lexer": "ipython3",
   "version": "3.6.3"
  }
 },
 "nbformat": 4,
 "nbformat_minor": 2
}
