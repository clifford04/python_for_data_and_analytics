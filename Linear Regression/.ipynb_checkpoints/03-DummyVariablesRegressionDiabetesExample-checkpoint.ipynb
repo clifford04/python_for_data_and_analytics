{
 "cells": [
  {
   "cell_type": "markdown",
   "metadata": {},
   "source": [
    "# Multivariable Linear Regression \n",
    "\n",
    "Simple linear regression produces a model in the form:\n",
    "\n",
    "ŷ = α + ꞵx\n",
    "\n",
    "Multivariable linear regression produces a model in the form:\n",
    "\n",
    "ŷ = α + $ꞵ_{1}x_{1}$ + $ꞵ_{2}x_{2}$ + ... + $ꞵ_{n}x_{n}$\n",
    "\n",
    "The linear regression algorithm accomplishes this by deriving a line formula that minimizes the differences between actual values and predicted values.  This algorithm is called **ordinary least-squares**, or **OLS**.\n",
    "\n",
    "**Scikit-learn** Python module provides a LinearRegression function for doing this job."
   ]
  },
  {
   "cell_type": "code",
   "execution_count": 44,
   "metadata": {
    "collapsed": true
   },
   "outputs": [],
   "source": [
    "import pandas as pd\n",
    "import numpy as np\n",
    "%matplotlib inline"
   ]
  },
  {
   "cell_type": "code",
   "execution_count": 48,
   "metadata": {},
   "outputs": [
    {
     "data": {
      "text/html": [
       "<div>\n",
       "<style>\n",
       "    .dataframe thead tr:only-child th {\n",
       "        text-align: right;\n",
       "    }\n",
       "\n",
       "    .dataframe thead th {\n",
       "        text-align: left;\n",
       "    }\n",
       "\n",
       "    .dataframe tbody tr th {\n",
       "        vertical-align: top;\n",
       "    }\n",
       "</style>\n",
       "<table border=\"1\" class=\"dataframe\">\n",
       "  <thead>\n",
       "    <tr style=\"text-align: right;\">\n",
       "      <th></th>\n",
       "      <th>date</th>\n",
       "      <th>close</th>\n",
       "      <th>volume</th>\n",
       "      <th>open</th>\n",
       "      <th>high</th>\n",
       "      <th>low</th>\n",
       "    </tr>\n",
       "  </thead>\n",
       "  <tbody>\n",
       "    <tr>\n",
       "      <th>0</th>\n",
       "      <td>3/21/2018</td>\n",
       "      <td>171.27</td>\n",
       "      <td>36387880</td>\n",
       "      <td>175.04</td>\n",
       "      <td>175.09</td>\n",
       "      <td>171.2600</td>\n",
       "    </tr>\n",
       "    <tr>\n",
       "      <th>1</th>\n",
       "      <td>3/20/2018</td>\n",
       "      <td>175.24</td>\n",
       "      <td>19620520</td>\n",
       "      <td>175.24</td>\n",
       "      <td>176.80</td>\n",
       "      <td>174.9400</td>\n",
       "    </tr>\n",
       "    <tr>\n",
       "      <th>2</th>\n",
       "      <td>3/19/2018</td>\n",
       "      <td>175.30</td>\n",
       "      <td>32931110</td>\n",
       "      <td>177.32</td>\n",
       "      <td>177.47</td>\n",
       "      <td>173.6600</td>\n",
       "    </tr>\n",
       "    <tr>\n",
       "      <th>3</th>\n",
       "      <td>3/16/2018</td>\n",
       "      <td>178.02</td>\n",
       "      <td>38313330</td>\n",
       "      <td>178.65</td>\n",
       "      <td>179.12</td>\n",
       "      <td>177.6200</td>\n",
       "    </tr>\n",
       "    <tr>\n",
       "      <th>4</th>\n",
       "      <td>3/15/2018</td>\n",
       "      <td>178.65</td>\n",
       "      <td>22676520</td>\n",
       "      <td>178.50</td>\n",
       "      <td>180.24</td>\n",
       "      <td>178.0701</td>\n",
       "    </tr>\n",
       "  </tbody>\n",
       "</table>\n",
       "</div>"
      ],
      "text/plain": [
       "        date   close    volume    open    high       low\n",
       "0  3/21/2018  171.27  36387880  175.04  175.09  171.2600\n",
       "1  3/20/2018  175.24  19620520  175.24  176.80  174.9400\n",
       "2  3/19/2018  175.30  32931110  177.32  177.47  173.6600\n",
       "3  3/16/2018  178.02  38313330  178.65  179.12  177.6200\n",
       "4  3/15/2018  178.65  22676520  178.50  180.24  178.0701"
      ]
     },
     "execution_count": 48,
     "metadata": {},
     "output_type": "execute_result"
    }
   ],
   "source": [
    "# For this exercise we will use a dataset of Nasdaq Apple Inc. Common Stock Historical Stock Prices\n",
    "# https://www.nasdaq.com/symbol/aapl/historical\n",
    "df = pd.read_csv(\"apple_stocks.csv\")\n",
    "df.head()"
   ]
  },
  {
   "cell_type": "code",
   "execution_count": 49,
   "metadata": {},
   "outputs": [
    {
     "data": {
      "text/html": [
       "<div>\n",
       "<style>\n",
       "    .dataframe thead tr:only-child th {\n",
       "        text-align: right;\n",
       "    }\n",
       "\n",
       "    .dataframe thead th {\n",
       "        text-align: left;\n",
       "    }\n",
       "\n",
       "    .dataframe tbody tr th {\n",
       "        vertical-align: top;\n",
       "    }\n",
       "</style>\n",
       "<table border=\"1\" class=\"dataframe\">\n",
       "  <thead>\n",
       "    <tr style=\"text-align: right;\">\n",
       "      <th></th>\n",
       "      <th>close</th>\n",
       "      <th>volume</th>\n",
       "      <th>open</th>\n",
       "      <th>high</th>\n",
       "      <th>low</th>\n",
       "    </tr>\n",
       "  </thead>\n",
       "  <tbody>\n",
       "    <tr>\n",
       "      <th>close</th>\n",
       "      <td>1.000000</td>\n",
       "      <td>-0.679251</td>\n",
       "      <td>0.928700</td>\n",
       "      <td>0.966223</td>\n",
       "      <td>0.971258</td>\n",
       "    </tr>\n",
       "    <tr>\n",
       "      <th>volume</th>\n",
       "      <td>-0.679251</td>\n",
       "      <td>1.000000</td>\n",
       "      <td>-0.610800</td>\n",
       "      <td>-0.581887</td>\n",
       "      <td>-0.717348</td>\n",
       "    </tr>\n",
       "    <tr>\n",
       "      <th>open</th>\n",
       "      <td>0.928700</td>\n",
       "      <td>-0.610800</td>\n",
       "      <td>1.000000</td>\n",
       "      <td>0.972885</td>\n",
       "      <td>0.971381</td>\n",
       "    </tr>\n",
       "    <tr>\n",
       "      <th>high</th>\n",
       "      <td>0.966223</td>\n",
       "      <td>-0.581887</td>\n",
       "      <td>0.972885</td>\n",
       "      <td>1.000000</td>\n",
       "      <td>0.971314</td>\n",
       "    </tr>\n",
       "    <tr>\n",
       "      <th>low</th>\n",
       "      <td>0.971258</td>\n",
       "      <td>-0.717348</td>\n",
       "      <td>0.971381</td>\n",
       "      <td>0.971314</td>\n",
       "      <td>1.000000</td>\n",
       "    </tr>\n",
       "  </tbody>\n",
       "</table>\n",
       "</div>"
      ],
      "text/plain": [
       "           close    volume      open      high       low\n",
       "close   1.000000 -0.679251  0.928700  0.966223  0.971258\n",
       "volume -0.679251  1.000000 -0.610800 -0.581887 -0.717348\n",
       "open    0.928700 -0.610800  1.000000  0.972885  0.971381\n",
       "high    0.966223 -0.581887  0.972885  1.000000  0.971314\n",
       "low     0.971258 -0.717348  0.971381  0.971314  1.000000"
      ]
     },
     "execution_count": 49,
     "metadata": {},
     "output_type": "execute_result"
    }
   ],
   "source": [
    "# Let's examine if any of these columns are highly correlated\n",
    "df.corr()"
   ]
  },
  {
   "cell_type": "code",
   "execution_count": 53,
   "metadata": {
    "collapsed": true
   },
   "outputs": [],
   "source": [
    "# Unlike with simple linear regression where we use one predictor variable to predict one response variable,\n",
    "# with multivariable regression we can use multiple predictor variables to predict one response variable.\n",
    "# In this example, we will use 'open', 'high', and 'low' to predict 'close'\n",
    "X = df[['open','high','low']]\n",
    "y = df[['close']]"
   ]
  },
  {
   "cell_type": "code",
   "execution_count": 54,
   "metadata": {
    "collapsed": true
   },
   "outputs": [],
   "source": [
    "# Split Data\n",
    "# Now we can split our data into a training and test set.  In this example, we are using an 80/20 split, \n",
    "# where 80% of our data will be used for training our model, and 20% of our data will be used for testing.\n",
    "    \n",
    "from sklearn.model_selection import train_test_split\n",
    "\n",
    "# Split X and y into X_\n",
    "X_train, X_test, y_train, y_test = train_test_split(X, y, test_size=0.20, random_state=1)"
   ]
  },
  {
   "cell_type": "code",
   "execution_count": 55,
   "metadata": {},
   "outputs": [
    {
     "data": {
      "text/plain": [
       "LinearRegression(copy_X=True, fit_intercept=True, n_jobs=1, normalize=False)"
      ]
     },
     "execution_count": 55,
     "metadata": {},
     "output_type": "execute_result"
    }
   ],
   "source": [
    "# Train Model\n",
    "# Now we train our LinearRegression model using the training subset of data.\n",
    "\n",
    "from sklearn.linear_model import LinearRegression\n",
    "\n",
    "regression_model = LinearRegression()\n",
    "regression_model.fit(X_train, y_train)"
   ]
  },
  {
   "cell_type": "code",
   "execution_count": 56,
   "metadata": {},
   "outputs": [
    {
     "name": "stdout",
     "output_type": "stream",
     "text": [
      "The coefficient for open is -0.6570935162207491\n",
      "The coefficient for high is 0.8111276419948648\n",
      "The coefficient for low is 0.8187193256466084\n"
     ]
    }
   ],
   "source": [
    "# Now that our model is trained, we can view the coefficients of the model using regression_model.coef_, \n",
    "# which is an array of tuples of coefficients.\n",
    "# Each regression coefficient shows the strength of the relationship between the predictor variable and the\n",
    "# outcome variable while controlling for the other predictor variable \n",
    "\n",
    "for idx, col_name in enumerate(X_train.columns):\n",
    "    print(\"The coefficient for {} is {}\".format(col_name, regression_model.coef_[0][idx]))"
   ]
  },
  {
   "cell_type": "code",
   "execution_count": 57,
   "metadata": {},
   "outputs": [
    {
     "name": "stdout",
     "output_type": "stream",
     "text": [
      "The intercept for our model is 4.509350671745153\n"
     ]
    }
   ],
   "source": [
    "# regression_model.intercept_ returns an array of intercepts\n",
    "intercept = regression_model.intercept_[0]\n",
    "\n",
    "print(\"The intercept for our model is {}\".format(intercept))"
   ]
  },
  {
   "cell_type": "markdown",
   "metadata": {},
   "source": [
    "Now that we know the regression coefficients for each predictor variable and the intercept, we can figure out our model:\n",
    "\n",
    "**ŷ = 0.077 + $-0.65x_{1}$ + $0.81x_{2}$ + $0.819x_{3}$**\n",
    "\n"
   ]
  },
  {
   "cell_type": "markdown",
   "metadata": {},
   "source": [
    "## How good is our model - the $R^{2}$ statistic\n",
    "\n",
    "A common method of measuring the accuracy of regression models is to use the $R^{2}$ statistic.\n",
    "\n",
    "The $R^{2}$ statistic is defined as follows:\n",
    "\n",
    "$R^{2}$ =  1 – (RSS/TSS)\n",
    "\n",
    "* The RSS (Residual sum of squares) measures the variability left unexplained after performing the regression\n",
    "* The TSS measues the total variance in Y\n",
    "* Therefore the $R^{2}$ statistic measures proportion of variability in Y that is explained by X using our model\n",
    "\n",
    "The scale of $R^{2}$ statistic ranges from zero to one, with zero indicating that the proposed model **does not improve prediction over the mean model and one indicating perfect prediction**. Improvement in the regression model results in proportional increases in R-squared."
   ]
  },
  {
   "cell_type": "code",
   "execution_count": 58,
   "metadata": {},
   "outputs": [
    {
     "data": {
      "text/plain": [
       "0.97471969717241802"
      ]
     },
     "execution_count": 58,
     "metadata": {},
     "output_type": "execute_result"
    }
   ],
   "source": [
    "# R^2  can be determined using our test set and the model’s score method.\n",
    "\n",
    "regression_model.score(X_test, y_test)\n",
    "\n",
    "# This means that in our model, 95.7% of the variability in Y can be explained using X"
   ]
  },
  {
   "cell_type": "markdown",
   "metadata": {},
   "source": [
    "## How good is our model - RMSE\n",
    "\n",
    "* The RMSE is the square root of the variance of the residuals. \n",
    "* It indicates the absolute fit of the model to the data–how close the observed data points are to the model’s predicted values.\n",
    "* Whereas $R^{2}$ is a relative measure of fit, RMSE is an absolute measure of fit. \n",
    "* As the square root of a variance, RMSE can be interpreted as the standard deviation of the unexplained variance, and has the useful property of being in the same units as the response variable. \n",
    "* **Lower values of RMSE indicate better fit.**\n",
    "* RMSE is a good measure of how accurately the model predicts the response, and is the most important criterion for fit if the main purpose of the model is prediction.\n",
    "\n",
    "https://www.theanalysisfactor.com/assessing-the-fit-of-regression-models/"
   ]
  },
  {
   "cell_type": "code",
   "execution_count": 59,
   "metadata": {},
   "outputs": [
    {
     "data": {
      "text/plain": [
       "0.55489803976763252"
      ]
     },
     "execution_count": 59,
     "metadata": {},
     "output_type": "execute_result"
    }
   ],
   "source": [
    "# We can get the mean squared error using scikit-learn’s mean_squared_error method \n",
    "# and comparing the prediction for the test data set (data not used for training) \n",
    "# with the ground truth for the data test set.\n",
    "\n",
    "# We'll start with calculating the Mean Squared Error (MSE)\n",
    "\n",
    "from sklearn.metrics import mean_squared_error\n",
    "\n",
    "y_predict = regression_model.predict(X_test)\n",
    "\n",
    "regression_model_mse = mean_squared_error(y_predict, y_test)\n",
    "\n",
    "regression_model_mse"
   ]
  },
  {
   "cell_type": "code",
   "execution_count": 60,
   "metadata": {},
   "outputs": [
    {
     "data": {
      "text/plain": [
       "0.7449147869170222"
      ]
     },
     "execution_count": 60,
     "metadata": {},
     "output_type": "execute_result"
    }
   ],
   "source": [
    "# And now we can calculate the Root Mean Squared Error (RMSE)\n",
    "import math\n",
    "\n",
    "math.sqrt(regression_model_mse)"
   ]
  },
  {
   "cell_type": "code",
   "execution_count": 61,
   "metadata": {},
   "outputs": [
    {
     "data": {
      "text/plain": [
       "array([[ 31.47628398]])"
      ]
     },
     "execution_count": 61,
     "metadata": {},
     "output_type": "execute_result"
    }
   ],
   "source": [
    "# Now, let's try to make a prediction\n",
    "\n",
    "# We can use our model to predict closing for another unknown day. \n",
    "\n",
    "# In the dataset, the data for 1/9/2018 is as follows:\n",
    "\n",
    "# close: 74.33\n",
    "# open: 174.55\n",
    "# high: 175.06\n",
    "# low: 173.41\n",
    "\n",
    "# First, let's see if our model will predict the 'close' amount given these exact values:\n",
    "\n",
    "new_data = [[27.85, 28.04, 27.51]]\n",
    "\n",
    "regression_model.predict(new_data)\n",
    "\n"
   ]
  },
  {
   "cell_type": "code",
   "execution_count": 28,
   "metadata": {},
   "outputs": [
    {
     "data": {
      "text/plain": [
       "array([[ 20.93760125]])"
      ]
     },
     "execution_count": 28,
     "metadata": {},
     "output_type": "execute_result"
    }
   ],
   "source": [
    "# Now let's try to change some of the values so that the data is unknown to our model \n",
    "# (our model wasn't trained or tested on this data)\n",
    "\n",
    "new_data = [[200590, 30.85, 28.04, 20.51]]\n",
    "regression_model.predict(new_data)"
   ]
  },
  {
   "cell_type": "code",
   "execution_count": null,
   "metadata": {
    "collapsed": true
   },
   "outputs": [],
   "source": []
  }
 ],
 "metadata": {
  "kernelspec": {
   "display_name": "Python 3",
   "language": "python",
   "name": "python3"
  },
  "language_info": {
   "codemirror_mode": {
    "name": "ipython",
    "version": 3
   },
   "file_extension": ".py",
   "mimetype": "text/x-python",
   "name": "python",
   "nbconvert_exporter": "python",
   "pygments_lexer": "ipython3",
   "version": "3.6.3"
  }
 },
 "nbformat": 4,
 "nbformat_minor": 2
}
