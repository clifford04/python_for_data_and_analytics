{
 "cells": [
  {
   "cell_type": "markdown",
   "metadata": {},
   "source": [
    "# Simple Linear Regression \n",
    "\n",
    "Linear regression assumes a linear or straight line relationship between the input variables (X) and the single output variable (y). More specically, a linear regression model allows us to calculate (i.e. predict or estimate) the output (y) from a\n",
    "linear combination of the input variables (X). When there is a single input variable, the method\n",
    "is referred to as a simple linear regression.\n",
    "\n",
    "\n",
    "Simple linear regression produces a model in the form:\n",
    "\n",
    "ŷ = α + Bx\n",
    "\n",
    "* ŷ - response variable (a.k.a the output variable a.k.a the value we are trying to predict)\n",
    "* α - intercept\n",
    "* B - regression coefficient\n",
    "* x - predictor variable (a.k.a input variable)\n",
    "\n"
   ]
  },
  {
   "cell_type": "code",
   "execution_count": 44,
   "metadata": {},
   "outputs": [],
   "source": [
    "import pandas as pd\n",
    "import numpy as np\n",
    "import random\n",
    "import math\n",
    "import matplotlib.pyplot as plt\n",
    "%matplotlib inline"
   ]
  },
  {
   "cell_type": "code",
   "execution_count": 6,
   "metadata": {},
   "outputs": [
    {
     "data": {
      "text/html": [
       "<div>\n",
       "<style scoped>\n",
       "    .dataframe tbody tr th:only-of-type {\n",
       "        vertical-align: middle;\n",
       "    }\n",
       "\n",
       "    .dataframe tbody tr th {\n",
       "        vertical-align: top;\n",
       "    }\n",
       "\n",
       "    .dataframe thead th {\n",
       "        text-align: right;\n",
       "    }\n",
       "</style>\n",
       "<table border=\"1\" class=\"dataframe\">\n",
       "  <thead>\n",
       "    <tr style=\"text-align: right;\">\n",
       "      <th></th>\n",
       "      <th>date</th>\n",
       "      <th>close</th>\n",
       "      <th>volume</th>\n",
       "      <th>open</th>\n",
       "      <th>high</th>\n",
       "      <th>low</th>\n",
       "    </tr>\n",
       "  </thead>\n",
       "  <tbody>\n",
       "    <tr>\n",
       "      <td>0</td>\n",
       "      <td>3/21/2018</td>\n",
       "      <td>171.27</td>\n",
       "      <td>36387880</td>\n",
       "      <td>175.04</td>\n",
       "      <td>175.09</td>\n",
       "      <td>171.2600</td>\n",
       "    </tr>\n",
       "    <tr>\n",
       "      <td>1</td>\n",
       "      <td>3/20/2018</td>\n",
       "      <td>175.24</td>\n",
       "      <td>19620520</td>\n",
       "      <td>175.24</td>\n",
       "      <td>176.80</td>\n",
       "      <td>174.9400</td>\n",
       "    </tr>\n",
       "    <tr>\n",
       "      <td>2</td>\n",
       "      <td>3/19/2018</td>\n",
       "      <td>175.30</td>\n",
       "      <td>32931110</td>\n",
       "      <td>177.32</td>\n",
       "      <td>177.47</td>\n",
       "      <td>173.6600</td>\n",
       "    </tr>\n",
       "    <tr>\n",
       "      <td>3</td>\n",
       "      <td>3/16/2018</td>\n",
       "      <td>178.02</td>\n",
       "      <td>38313330</td>\n",
       "      <td>178.65</td>\n",
       "      <td>179.12</td>\n",
       "      <td>177.6200</td>\n",
       "    </tr>\n",
       "    <tr>\n",
       "      <td>4</td>\n",
       "      <td>3/15/2018</td>\n",
       "      <td>178.65</td>\n",
       "      <td>22676520</td>\n",
       "      <td>178.50</td>\n",
       "      <td>180.24</td>\n",
       "      <td>178.0701</td>\n",
       "    </tr>\n",
       "  </tbody>\n",
       "</table>\n",
       "</div>"
      ],
      "text/plain": [
       "        date   close    volume    open    high       low\n",
       "0  3/21/2018  171.27  36387880  175.04  175.09  171.2600\n",
       "1  3/20/2018  175.24  19620520  175.24  176.80  174.9400\n",
       "2  3/19/2018  175.30  32931110  177.32  177.47  173.6600\n",
       "3  3/16/2018  178.02  38313330  178.65  179.12  177.6200\n",
       "4  3/15/2018  178.65  22676520  178.50  180.24  178.0701"
      ]
     },
     "execution_count": 6,
     "metadata": {},
     "output_type": "execute_result"
    }
   ],
   "source": [
    "# For this exercise we will use a dataset of Nasdaq Apple Inc. Common Stock Historical Stock Prices\n",
    "# https://www.nasdaq.com/symbol/aapl/historical\n",
    "df = pd.read_csv(\"apple_stocks.csv\")\n",
    "df.head()"
   ]
  },
  {
   "cell_type": "code",
   "execution_count": 25,
   "metadata": {},
   "outputs": [
    {
     "data": {
      "text/plain": [
       "<matplotlib.axes._subplots.AxesSubplot at 0x1169049d0>"
      ]
     },
     "execution_count": 25,
     "metadata": {},
     "output_type": "execute_result"
    },
    {
     "data": {
      "image/png": "[encoded data removed]",
      "text/plain": [
       "<Figure size 432x288 with 1 Axes>"
      ]
     },
     "metadata": {
      "needs_background": "light"
     },
     "output_type": "display_data"
    }
   ],
   "source": [
    "# Let's plot the data and see if there are any interesting patterns \n",
    "# that we can observe in the relationship between 'high' and 'close'\n",
    "df.plot.scatter(x='high', y='close')"
   ]
  },
  {
   "cell_type": "markdown",
   "metadata": {},
   "source": [
    "## Simple Linear Regression With \"Pen and Paper\"\n",
    "\n",
    "As mentioned above, we need to derive the following formula from the data:\n",
    "\n",
    "ŷ = α + Bx\n",
    "\n",
    "In order to derive this formula, we need to take the following steps:\n",
    "\n",
    "1. Calculate the mean of the X variable.\n",
    "2. Calculate the difference between each X and the mean X.\n",
    "3. Square the differences and add it all up and divide by the number of values in your data column / list.  This is SSxx (variance of x).\n",
    "4. Calculate the mean of the Y variable.\n",
    "5. Calculate the variance of the Y variable.\n",
    "6. Multiply the differences (of X and Y from their respective means), add them all together  This is SSxy (covariance of y and x).\n",
    "7. Using SSxx and SSxy, you calculate the intercept by subtracting SSxx / SSxy * AVG(X) from AVG(Y)."
   ]
  },
  {
   "cell_type": "markdown",
   "metadata": {},
   "source": [
    "**The Data**\n",
    "Let's take a small subset of our stocks data, something that we can easily do calculations on by hand\n",
    "\n",
    "|The highest price of the stock during a given day (x)|The price of the stock at closing (y)|\n",
    "| ----------- | ----------- |\n",
    "|175.09|171.27|\n",
    "|176.80|175.24|\n",
    "|177.47|175.30|\n",
    "|179.12|178.02|\n",
    "|180.24|178.65|\n",
    "\n",
    "\n",
    "**Step 1: Calculate the mean of our X variable.**\n",
    "mean(X) = (175.09 + 176.80 + 177.47 + 179.12 + 180.24) / 5 = 177.744\n",
    "\n",
    "**Step 2: Calculate the difference between each X and the mean X and each Y and the mean Y.\n",
    "\n",
    "|x| mean(x) - x |Difference between <br /> each X and the mean X|mean(y) - y | difference between <br /> each Y and the mean Y |\n",
    "| ----------- | ----------- | ----------- | ----------- | ----------- |\n",
    "|175.09|(177.744 - 175.09)|2.654| (175.696 - 171.27) | 4.426 |\n",
    "|176.80|(177.744 - 176.80)|0.943| (175.696 - 175.24) | 0.456 |\n",
    "|177.47|(177.744 - 177.47)|0.274| (175.696 - 175.30) | 0.396 |\n",
    "|179.12|(177.744 - 179.12)|-1.376| (175.696 - 178.02) | -2.324 |\n",
    "|180.24|(177.744 - 180.24)|-2.496| (175.696 - 178.65) | -2.954 |\n",
    "\n",
    "**Step 3: Calculate the variance of X (SSxx)**\n",
    "\n",
    "SSxx = (2.654)<sup>2</sup> + (0.943)<sup>2</sup> + (0.274)<sup>2</sup> + (-1.376)<sup>2</sup> + (-2.496)<sup>2</sup> = 16.133\n",
    "\n",
    "**Step 4: Calculate mean of the Y variable.**\n",
    "\n",
    "mean(Y) = (171.27 + 175.24 + 175.30 + 178.02 + 178.65) / 5 = 175.696\n",
    "\n",
    "**Step 5: Calculate the variance of the Y variable (SSyy)**\n",
    "\n",
    "SSyy = (4.426)<sup>2</sup> + (0.456)<sup>2</sup> + (0.396)<sup>2</sup> + (-2.324)<sup>2</sup> + (-2.954)<sup>2</sup> = 34.08\n",
    "\n",
    "**Step 6: Calculate the covariance of X and Y (SSxy)**\n",
    "\n",
    "SSxy = (mean(X)-X) * (mean(Y)-Y) = (2.654 * 4.426) + (0.944 * 0.456) + (0.274 * 0.396) + (-1.376 * -2.324) + (-2.496 * -2.954) = 22.857\n",
    "\n",
    "**Step 7: Calculate the slope of the line**\n",
    "\n",
    "a = SSxy / SSxx = 22.857 / 16.133 = 1.419\n",
    "\n",
    "**Step 8: Calculate the intercept**\n",
    "\n",
    "b = mean(Y) – slope * mean(X) = 175.696 - (1.419 * 177.744) = -76.52\n",
    "\n",
    "\n",
    "**Our model**\n",
    "\n",
    "ŷ = -76.52 + 1.419x"
   ]
  },
  {
   "cell_type": "code",
   "execution_count": null,
   "metadata": {},
   "outputs": [],
   "source": []
  },
  {
   "cell_type": "code",
   "execution_count": null,
   "metadata": {},
   "outputs": [],
   "source": []
  },
  {
   "cell_type": "markdown",
   "metadata": {},
   "source": [
    "## Machine Learning with Python 'By Hand'\n",
    "### In other words, we will come up with a linear regression function without the use of any machine learning libraries - we will write our own!"
   ]
  },
  {
   "cell_type": "markdown",
   "metadata": {},
   "source": [
    "### Step 1: Calculate Mean\n",
    "The first step is to estimate the mean of both the input and output variables from the training data.  By the way, Python has functions that will do this for you, but it is helpful to actually understand how they work.\n",
    "\n",
    "The mean of a list of numbers can be calculated as:\n",
    "\n",
    "**mean = (sum of all list elements) / (number of list elements)**\n",
    "\n",
    "or, if we want to be more mathematical, we can express the formula for the mean as:\n",
    "\n",
    "<img src='../images/formulas/mean_of_list.jpg' width='30%' />\n",
    "\n"
   ]
  },
  {
   "cell_type": "code",
   "execution_count": 7,
   "metadata": {},
   "outputs": [],
   "source": [
    "# Calculate the mean value of a list of numbers\n",
    "def mean(values):\n",
    "    return sum(values) / float(len(values))"
   ]
  },
  {
   "cell_type": "markdown",
   "metadata": {},
   "source": [
    "### Step 2:  Calculate Variance\n",
    "The second step is to estimate the variance of both the input and output variables from the training data.\n",
    "\n",
    "The sample variance is the mean of sum squared differences for each value from the mean value. \n",
    "\n",
    "Variance of a list of numbers can be calculated using the following formula:\n",
    "\n",
    "<img src='../images/formulas/variance_of_a_list.jpg' width='50%' />"
   ]
  },
  {
   "cell_type": "code",
   "execution_count": 75,
   "metadata": {},
   "outputs": [],
   "source": [
    "# Calculate the variance of a list of numbers\n",
    "def variance(values, mean):\n",
    "    s = 0.0 # sum of squared differences between xi and mean (xi - mean)^2\n",
    "    for val in x:\n",
    "        s += (val - mean_x) ** 2\n",
    "    sample_variance = s / (len(x) - 1)\n",
    "    return sample_variance"
   ]
  },
  {
   "cell_type": "code",
   "execution_count": null,
   "metadata": {},
   "outputs": [],
   "source": []
  },
  {
   "cell_type": "code",
   "execution_count": 76,
   "metadata": {},
   "outputs": [
    {
     "name": "stdout",
     "output_type": "stream",
     "text": [
      "x stats: mean=174.155 variance=32.036\n",
      "y stats: mean=172.558 variance=32.036\n"
     ]
    }
   ],
   "source": [
    "# Let's test our mean and variance functions\n",
    "\n",
    "x = list(df['high'])\n",
    "y = list(df['close'])\n",
    "       \n",
    "mean_x, mean_y = mean(x), mean(y)\n",
    "var_x, var_y = variance(x, mean_x), variance(y, mean_y)\n",
    "\n",
    "print('x stats: mean=%.3f variance=%.3f' % (mean_x, var_x))\n",
    "print('y stats: mean=%.3f variance=%.3f' % (mean_y, var_y))"
   ]
  },
  {
   "cell_type": "code",
   "execution_count": 77,
   "metadata": {},
   "outputs": [
    {
     "name": "stdout",
     "output_type": "stream",
     "text": [
      "174.15466065573773\n",
      "31.510951472550406\n"
     ]
    }
   ],
   "source": [
    "print(np.mean(x))\n",
    "print(np.var(x))"
   ]
  },
  {
   "cell_type": "markdown",
   "metadata": {},
   "source": [
    "### Step 3: Calculate Covariance\n",
    "\n",
    "<img src='../images/formulas/covariance_of_a_list.jpg' width='60%'>"
   ]
  },
  {
   "cell_type": "code",
   "execution_count": 138,
   "metadata": {},
   "outputs": [],
   "source": [
    "# Calculate covariance between x and y\n",
    "def covariance(x, mean_x, y, mean_y):\n",
    "    s = 0.0\n",
    "    for i in range(len(x)):\n",
    "        s += (x[i] - mean_x) * (y[i] - mean_y)\n",
    "        covar = s / (len(x) - 1)\n",
    "    return covar"
   ]
  },
  {
   "cell_type": "code",
   "execution_count": 139,
   "metadata": {},
   "outputs": [
    {
     "name": "stdout",
     "output_type": "stream",
     "text": [
      "Covariance: 19.795\n"
     ]
    }
   ],
   "source": [
    "# Let's test covariance calculations\n",
    "covar = covariance(x, mean_x, y, mean_y)\n",
    "print('Covariance: %.3f' % (covar))"
   ]
  },
  {
   "cell_type": "markdown",
   "metadata": {},
   "source": [
    "### Step 4: Calculate coefficients\n",
    "\n",
    "<img src='../images/formulas/regression_slope.jpg' width='50%' />\n",
    "\n",
    "<img src='../images/formulas/regression_intercept.jpg' width='60%' />"
   ]
  },
  {
   "cell_type": "code",
   "execution_count": 92,
   "metadata": {},
   "outputs": [],
   "source": [
    "def coefficients(x, y):\n",
    "    x_mean, y_mean = mean(x), mean(y)\n",
    "    # Calculate coefficient (slope)\n",
    "    b = covariance(x, x_mean, y, y_mean) / variance(x, x_mean)\n",
    "    \n",
    "    # Calculate intercept\n",
    "    a = y_mean - b * x_mean\n",
    "    return a, b"
   ]
  },
  {
   "cell_type": "code",
   "execution_count": 93,
   "metadata": {},
   "outputs": [
    {
     "name": "stdout",
     "output_type": "stream",
     "text": [
      "Coefficients: a=-11.032, b=1.054\n"
     ]
    }
   ],
   "source": [
    "# Let's test coefficients calculations\n",
    "a, b = coefficients(x, y)\n",
    "print('Coefficients: a=%.3f, b=%.3f' % (a, b))"
   ]
  },
  {
   "cell_type": "markdown",
   "metadata": {},
   "source": [
    "### Step 5: Split our data into training and testing subsets"
   ]
  },
  {
   "cell_type": "code",
   "execution_count": 94,
   "metadata": {},
   "outputs": [],
   "source": [
    "def test_train_split(x, y, test_sample_size = 0.2):\n",
    "    # Initialize resulting lists\n",
    "    x_train, y_train, x_test, y_test = [], [], [], []\n",
    "    \n",
    "    # Create a list of indexes from the original list of values\n",
    "    idx = list(range(0, len(x)))\n",
    "    \n",
    "    # Calculate how many values from the list actully constitute the \n",
    "    # test_sample_size\n",
    "    \n",
    "    num_of_values_in_test = math.floor(len(idx) * test_sample_size)\n",
    "    \n",
    "    # Randomly select a percentage of values for train / test\n",
    "    test_idx = random.sample(idx, num_of_values_in_test)\n",
    "    \n",
    "    for i in idx:\n",
    "        if i in test_idx:\n",
    "            x_test.append(x[i])\n",
    "            y_test.append(y[i])\n",
    "        else:\n",
    "            x_train.append(x[i])\n",
    "            y_train.append(y[i])\n",
    "            \n",
    "    return x_train, y_train, x_test, y_test\n",
    "    "
   ]
  },
  {
   "cell_type": "code",
   "execution_count": 95,
   "metadata": {
    "scrolled": false
   },
   "outputs": [],
   "source": [
    "x_train, y_train, x_test, y_test = test_train_split(x, y)"
   ]
  },
  {
   "cell_type": "markdown",
   "metadata": {},
   "source": [
    "### Step 6: Make predictions / estimations"
   ]
  },
  {
   "cell_type": "code",
   "execution_count": 103,
   "metadata": {},
   "outputs": [],
   "source": [
    "def predict_with_simple_linear_regression(a_coeff, b_coeff, x_test):\n",
    "    predictions = list()\n",
    "    \n",
    "    # Test our model by generating predictions\n",
    "    for val in x_test:\n",
    "        #print(row)\n",
    "        yhat = a + b * val\n",
    "        predictions.append(yhat)\n",
    "    return predictions"
   ]
  },
  {
   "cell_type": "code",
   "execution_count": 104,
   "metadata": {},
   "outputs": [],
   "source": [
    "# Train our model - calculate coefficients based\n",
    "# on the training dataset\n",
    "a, b = coefficients(x_train, y_train)\n",
    "\n",
    "pred = predict_with_simple_linear_regression(a, b, x_test)"
   ]
  },
  {
   "cell_type": "markdown",
   "metadata": {},
   "source": [
    "### Step 7: Evaluate the model with RMSE\n"
   ]
  },
  {
   "cell_type": "code",
   "execution_count": 109,
   "metadata": {},
   "outputs": [],
   "source": [
    "# Calculate root mean squared error\n",
    "def rmse_metric(actual, predicted):\n",
    "    sum_error = 0.0\n",
    "    for i in range(len(actual)):\n",
    "        prediction_error = predicted[i] - actual[i]\n",
    "        sum_error += (prediction_error ** 2)\n",
    "        mean_error = sum_error / float(len(actual))\n",
    "    return math.sqrt(mean_error)"
   ]
  },
  {
   "cell_type": "code",
   "execution_count": 111,
   "metadata": {},
   "outputs": [
    {
     "name": "stdout",
     "output_type": "stream",
     "text": [
      "1.5652712249812888\n"
     ]
    }
   ],
   "source": [
    "rmse = rmse_metric(y_test, pred)\n",
    "print(rmse)"
   ]
  },
  {
   "cell_type": "markdown",
   "metadata": {},
   "source": [
    "## Simple Linear Regression with scikit-learn\n",
    "\n",
    "The linear regression algorithm accomplishes this by deriving a line formula that minimizes the differences between actual values and predicted values.  This algorithm is called **ordinary least-squares**, or **OLS**.\n",
    "\n",
    "**Scikit-learn** Python module provides a LinearRegression function for doing this job."
   ]
  },
  {
   "cell_type": "code",
   "execution_count": 4,
   "metadata": {
    "collapsed": true
   },
   "outputs": [],
   "source": [
    "# In this example, we will try to estimate the value of Apple stock at stock market closing\n",
    "# using the value of it's highest cost during a given day.  In other words, we will try \n",
    "# to predict the value of 'close' using the value of 'high'\n",
    "# To put this in machine learning / data mining terms, 'close' is our response variable and \n",
    "# 'high' our predictor variable\n",
    "X = df[['high']]\n",
    "y = df[['close']]"
   ]
  },
  {
   "cell_type": "code",
   "execution_count": 5,
   "metadata": {
    "collapsed": true
   },
   "outputs": [],
   "source": [
    "# Split Data\n",
    "# Now we can split our data into a training and test set.  In this example, we are using an 80/20 split, \n",
    "# where 80% of our data will be used for training our model, and 20% of our data will be used for testing.\n",
    "    \n",
    "from sklearn.model_selection import train_test_split\n",
    "\n",
    "# Split X and y into X_\n",
    "X_train, X_test, y_train, y_test = train_test_split(X, y, test_size=0.20, random_state=1)"
   ]
  },
  {
   "cell_type": "code",
   "execution_count": 6,
   "metadata": {},
   "outputs": [
    {
     "data": {
      "text/plain": [
       "LinearRegression(copy_X=True, fit_intercept=True, n_jobs=1, normalize=False)"
      ]
     },
     "execution_count": 6,
     "metadata": {},
     "output_type": "execute_result"
    }
   ],
   "source": [
    "# Train Model\n",
    "# Now we train our LinearRegression model using the training subset of data.\n",
    "\n",
    "from sklearn.linear_model import LinearRegression\n",
    "\n",
    "regression_model = LinearRegression()\n",
    "regression_model.fit(X_train, y_train)"
   ]
  },
  {
   "cell_type": "code",
   "execution_count": 7,
   "metadata": {},
   "outputs": [
    {
     "name": "stdout",
     "output_type": "stream",
     "text": [
      "The coefficient for high is 1.0746199659116502\n"
     ]
    }
   ],
   "source": [
    "# Now that our model is trained, we can view the coefficients of the model using regression_model.coef_, \n",
    "# which is an array of tuples of coefficients.\n",
    "# Each regression coefficient shows the strength of the relationship between the predictor variable and the\n",
    "# outcome variable while controlling for the other predictor variable \n",
    "\n",
    "for idx, col_name in enumerate(X_train.columns):\n",
    "    print(\"The coefficient for {} is {}\".format(col_name, regression_model.coef_[0][idx]))"
   ]
  },
  {
   "cell_type": "code",
   "execution_count": 8,
   "metadata": {},
   "outputs": [
    {
     "name": "stdout",
     "output_type": "stream",
     "text": [
      "The intercept for our model is -14.705323911958175\n"
     ]
    }
   ],
   "source": [
    "# regression_model.intercept_ returns an array of intercepts\n",
    "intercept = regression_model.intercept_[0]\n",
    "\n",
    "print(\"The intercept for our model is {}\".format(intercept))"
   ]
  },
  {
   "cell_type": "markdown",
   "metadata": {},
   "source": [
    "Now that we know the regression coefficient for our predictor variable and the intercept, we can figure out our model:\n",
    "\n",
    "ŷ = -14.71 - 1.074x\n",
    "\n"
   ]
  },
  {
   "cell_type": "code",
   "execution_count": 10,
   "metadata": {},
   "outputs": [
    {
     "data": {
      "text/plain": [
       "array([[6.78707541]])"
      ]
     },
     "execution_count": 10,
     "metadata": {},
     "output_type": "execute_result"
    }
   ],
   "source": [
    "regression_model.predict(20)"
   ]
  },
  {
   "cell_type": "markdown",
   "metadata": {},
   "source": [
    "## How good is our model - the $R^{2}$ statistic\n",
    "\n",
    "A common method of measuring the accuracy of regression models is to use the $R^{2}$ statistic.\n",
    "\n",
    "The $R^{2}$ statistic is defined as follows:\n",
    "\n",
    "$R^{2}$ =  1 – (RSS/TSS)\n",
    "\n",
    "* The RSS (Residual sum of squares) measures the variability left unexplained after performing the regression\n",
    "* The TSS measues the total variance in Y\n",
    "* Therefore the $R^{2}$ statistic measures proportion of variability in Y that is explained by X using our model\n",
    "\n",
    "The scale of $R^{2}$ statistic ranges from zero to one, with zero indicating that the proposed model **does not improve prediction over the mean model and one indicating perfect prediction**. Improvement in the regression model results in proportional increases in R-squared."
   ]
  },
  {
   "cell_type": "code",
   "execution_count": 10,
   "metadata": {},
   "outputs": [
    {
     "data": {
      "text/plain": [
       "0.9336198098507397"
      ]
     },
     "execution_count": 10,
     "metadata": {},
     "output_type": "execute_result"
    }
   ],
   "source": [
    "# R^2  can be determined using our test set and the model’s score method.\n",
    "\n",
    "regression_model.score(X_test, y_test)\n",
    "\n",
    "# This means that in our model, 93.3% of the variability in Y can be explained using X"
   ]
  },
  {
   "cell_type": "code",
   "execution_count": null,
   "metadata": {
    "collapsed": true
   },
   "outputs": [],
   "source": []
  }
 ],
 "metadata": {
  "kernelspec": {
   "display_name": "Python 3",
   "language": "python",
   "name": "python3"
  },
  "language_info": {
   "codemirror_mode": {
    "name": "ipython",
    "version": 3
   },
   "file_extension": ".py",
   "mimetype": "text/x-python",
   "name": "python",
   "nbconvert_exporter": "python",
   "pygments_lexer": "ipython3",
   "version": "3.7.4"
  }
 },
 "nbformat": 4,
 "nbformat_minor": 2
}
